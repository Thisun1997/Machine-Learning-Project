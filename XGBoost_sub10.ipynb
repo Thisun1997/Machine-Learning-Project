{
  "nbformat": 4,
  "nbformat_minor": 0,
  "metadata": {
    "colab": {
      "name": "XGBoost_sub10.ipynb",
      "provenance": [],
      "collapsed_sections": [
        "AmlbPtQGqRmZ",
        "rjUR-ynOEUqJ",
        "ymImKUEEk0qL",
        "OG_DHkRfaRTP"
      ]
    },
    "kernelspec": {
      "display_name": "Python 3",
      "name": "python3"
    },
    "language_info": {
      "name": "python"
    }
  },
  "cells": [
    {
      "cell_type": "code",
      "metadata": {
        "id": "D7Zsi10wkaiu"
      },
      "source": [
        "import numpy as np\n",
        "import pandas as pd\n",
        "%matplotlib inline\n",
        "import matplotlib.pyplot as plt\n",
        "import seaborn as sns\n",
        "\n",
        "RANDOM_SEED = 42"
      ],
      "execution_count": null,
      "outputs": []
    },
    {
      "cell_type": "code",
      "metadata": {
        "id": "jTL76q_nluhN"
      },
      "source": [
        "features_dataset = pd.read_csv('/content/drive/MyDrive/ML/archive/data/Training_set_values.csv', index_col=\"id\")\n",
        "test_dataset = pd.read_csv('/content/drive/MyDrive/ML/archive/data/Test_set_values.csv', index_col=\"id\")\n",
        "labels_dataset = pd.read_csv('/content/drive/MyDrive/ML/archive/data/Training_set_labels.csv', index_col=\"id\")"
      ],
      "execution_count": null,
      "outputs": []
    },
    {
      "cell_type": "code",
      "metadata": {
        "id": "-km7RcYvmHvB"
      },
      "source": [
        "X = features_dataset\n",
        "test = test_dataset\n",
        "y = labels_dataset"
      ],
      "execution_count": null,
      "outputs": []
    },
    {
      "cell_type": "code",
      "metadata": {
        "colab": {
          "base_uri": "https://localhost:8080/",
          "height": 435
        },
        "id": "h3yVTOWxoZVs",
        "outputId": "7437f71d-4b23-45f0-f4a6-39fa3cf414be"
      },
      "source": [
        "X.head()"
      ],
      "execution_count": null,
      "outputs": [
        {
          "output_type": "execute_result",
          "data": {
            "text/html": [
              "<div>\n",
              "<style scoped>\n",
              "    .dataframe tbody tr th:only-of-type {\n",
              "        vertical-align: middle;\n",
              "    }\n",
              "\n",
              "    .dataframe tbody tr th {\n",
              "        vertical-align: top;\n",
              "    }\n",
              "\n",
              "    .dataframe thead th {\n",
              "        text-align: right;\n",
              "    }\n",
              "</style>\n",
              "<table border=\"1\" class=\"dataframe\">\n",
              "  <thead>\n",
              "    <tr style=\"text-align: right;\">\n",
              "      <th></th>\n",
              "      <th>amount_tsh</th>\n",
              "      <th>date_recorded</th>\n",
              "      <th>funder</th>\n",
              "      <th>gps_height</th>\n",
              "      <th>installer</th>\n",
              "      <th>longitude</th>\n",
              "      <th>latitude</th>\n",
              "      <th>wpt_name</th>\n",
              "      <th>num_private</th>\n",
              "      <th>basin</th>\n",
              "      <th>subvillage</th>\n",
              "      <th>region</th>\n",
              "      <th>region_code</th>\n",
              "      <th>district_code</th>\n",
              "      <th>lga</th>\n",
              "      <th>ward</th>\n",
              "      <th>population</th>\n",
              "      <th>public_meeting</th>\n",
              "      <th>recorded_by</th>\n",
              "      <th>scheme_management</th>\n",
              "      <th>scheme_name</th>\n",
              "      <th>permit</th>\n",
              "      <th>construction_year</th>\n",
              "      <th>extraction_type</th>\n",
              "      <th>extraction_type_group</th>\n",
              "      <th>extraction_type_class</th>\n",
              "      <th>management</th>\n",
              "      <th>management_group</th>\n",
              "      <th>payment</th>\n",
              "      <th>payment_type</th>\n",
              "      <th>water_quality</th>\n",
              "      <th>quality_group</th>\n",
              "      <th>quantity</th>\n",
              "      <th>quantity_group</th>\n",
              "      <th>source</th>\n",
              "      <th>source_type</th>\n",
              "      <th>source_class</th>\n",
              "      <th>waterpoint_type</th>\n",
              "      <th>waterpoint_type_group</th>\n",
              "    </tr>\n",
              "    <tr>\n",
              "      <th>id</th>\n",
              "      <th></th>\n",
              "      <th></th>\n",
              "      <th></th>\n",
              "      <th></th>\n",
              "      <th></th>\n",
              "      <th></th>\n",
              "      <th></th>\n",
              "      <th></th>\n",
              "      <th></th>\n",
              "      <th></th>\n",
              "      <th></th>\n",
              "      <th></th>\n",
              "      <th></th>\n",
              "      <th></th>\n",
              "      <th></th>\n",
              "      <th></th>\n",
              "      <th></th>\n",
              "      <th></th>\n",
              "      <th></th>\n",
              "      <th></th>\n",
              "      <th></th>\n",
              "      <th></th>\n",
              "      <th></th>\n",
              "      <th></th>\n",
              "      <th></th>\n",
              "      <th></th>\n",
              "      <th></th>\n",
              "      <th></th>\n",
              "      <th></th>\n",
              "      <th></th>\n",
              "      <th></th>\n",
              "      <th></th>\n",
              "      <th></th>\n",
              "      <th></th>\n",
              "      <th></th>\n",
              "      <th></th>\n",
              "      <th></th>\n",
              "      <th></th>\n",
              "      <th></th>\n",
              "    </tr>\n",
              "  </thead>\n",
              "  <tbody>\n",
              "    <tr>\n",
              "      <th>69572</th>\n",
              "      <td>6000.0</td>\n",
              "      <td>2011-03-14</td>\n",
              "      <td>Roman</td>\n",
              "      <td>1390</td>\n",
              "      <td>Roman</td>\n",
              "      <td>34.938093</td>\n",
              "      <td>-9.856322</td>\n",
              "      <td>none</td>\n",
              "      <td>0</td>\n",
              "      <td>Lake Nyasa</td>\n",
              "      <td>Mnyusi B</td>\n",
              "      <td>Iringa</td>\n",
              "      <td>11</td>\n",
              "      <td>5</td>\n",
              "      <td>Ludewa</td>\n",
              "      <td>Mundindi</td>\n",
              "      <td>109</td>\n",
              "      <td>True</td>\n",
              "      <td>GeoData Consultants Ltd</td>\n",
              "      <td>VWC</td>\n",
              "      <td>Roman</td>\n",
              "      <td>False</td>\n",
              "      <td>1999</td>\n",
              "      <td>gravity</td>\n",
              "      <td>gravity</td>\n",
              "      <td>gravity</td>\n",
              "      <td>vwc</td>\n",
              "      <td>user-group</td>\n",
              "      <td>pay annually</td>\n",
              "      <td>annually</td>\n",
              "      <td>soft</td>\n",
              "      <td>good</td>\n",
              "      <td>enough</td>\n",
              "      <td>enough</td>\n",
              "      <td>spring</td>\n",
              "      <td>spring</td>\n",
              "      <td>groundwater</td>\n",
              "      <td>communal standpipe</td>\n",
              "      <td>communal standpipe</td>\n",
              "    </tr>\n",
              "    <tr>\n",
              "      <th>8776</th>\n",
              "      <td>0.0</td>\n",
              "      <td>2013-03-06</td>\n",
              "      <td>Grumeti</td>\n",
              "      <td>1399</td>\n",
              "      <td>GRUMETI</td>\n",
              "      <td>34.698766</td>\n",
              "      <td>-2.147466</td>\n",
              "      <td>Zahanati</td>\n",
              "      <td>0</td>\n",
              "      <td>Lake Victoria</td>\n",
              "      <td>Nyamara</td>\n",
              "      <td>Mara</td>\n",
              "      <td>20</td>\n",
              "      <td>2</td>\n",
              "      <td>Serengeti</td>\n",
              "      <td>Natta</td>\n",
              "      <td>280</td>\n",
              "      <td>NaN</td>\n",
              "      <td>GeoData Consultants Ltd</td>\n",
              "      <td>Other</td>\n",
              "      <td>NaN</td>\n",
              "      <td>True</td>\n",
              "      <td>2010</td>\n",
              "      <td>gravity</td>\n",
              "      <td>gravity</td>\n",
              "      <td>gravity</td>\n",
              "      <td>wug</td>\n",
              "      <td>user-group</td>\n",
              "      <td>never pay</td>\n",
              "      <td>never pay</td>\n",
              "      <td>soft</td>\n",
              "      <td>good</td>\n",
              "      <td>insufficient</td>\n",
              "      <td>insufficient</td>\n",
              "      <td>rainwater harvesting</td>\n",
              "      <td>rainwater harvesting</td>\n",
              "      <td>surface</td>\n",
              "      <td>communal standpipe</td>\n",
              "      <td>communal standpipe</td>\n",
              "    </tr>\n",
              "    <tr>\n",
              "      <th>34310</th>\n",
              "      <td>25.0</td>\n",
              "      <td>2013-02-25</td>\n",
              "      <td>Lottery Club</td>\n",
              "      <td>686</td>\n",
              "      <td>World vision</td>\n",
              "      <td>37.460664</td>\n",
              "      <td>-3.821329</td>\n",
              "      <td>Kwa Mahundi</td>\n",
              "      <td>0</td>\n",
              "      <td>Pangani</td>\n",
              "      <td>Majengo</td>\n",
              "      <td>Manyara</td>\n",
              "      <td>21</td>\n",
              "      <td>4</td>\n",
              "      <td>Simanjiro</td>\n",
              "      <td>Ngorika</td>\n",
              "      <td>250</td>\n",
              "      <td>True</td>\n",
              "      <td>GeoData Consultants Ltd</td>\n",
              "      <td>VWC</td>\n",
              "      <td>Nyumba ya mungu pipe scheme</td>\n",
              "      <td>True</td>\n",
              "      <td>2009</td>\n",
              "      <td>gravity</td>\n",
              "      <td>gravity</td>\n",
              "      <td>gravity</td>\n",
              "      <td>vwc</td>\n",
              "      <td>user-group</td>\n",
              "      <td>pay per bucket</td>\n",
              "      <td>per bucket</td>\n",
              "      <td>soft</td>\n",
              "      <td>good</td>\n",
              "      <td>enough</td>\n",
              "      <td>enough</td>\n",
              "      <td>dam</td>\n",
              "      <td>dam</td>\n",
              "      <td>surface</td>\n",
              "      <td>communal standpipe multiple</td>\n",
              "      <td>communal standpipe</td>\n",
              "    </tr>\n",
              "    <tr>\n",
              "      <th>67743</th>\n",
              "      <td>0.0</td>\n",
              "      <td>2013-01-28</td>\n",
              "      <td>Unicef</td>\n",
              "      <td>263</td>\n",
              "      <td>UNICEF</td>\n",
              "      <td>38.486161</td>\n",
              "      <td>-11.155298</td>\n",
              "      <td>Zahanati Ya Nanyumbu</td>\n",
              "      <td>0</td>\n",
              "      <td>Ruvuma / Southern Coast</td>\n",
              "      <td>Mahakamani</td>\n",
              "      <td>Mtwara</td>\n",
              "      <td>90</td>\n",
              "      <td>63</td>\n",
              "      <td>Nanyumbu</td>\n",
              "      <td>Nanyumbu</td>\n",
              "      <td>58</td>\n",
              "      <td>True</td>\n",
              "      <td>GeoData Consultants Ltd</td>\n",
              "      <td>VWC</td>\n",
              "      <td>NaN</td>\n",
              "      <td>True</td>\n",
              "      <td>1986</td>\n",
              "      <td>submersible</td>\n",
              "      <td>submersible</td>\n",
              "      <td>submersible</td>\n",
              "      <td>vwc</td>\n",
              "      <td>user-group</td>\n",
              "      <td>never pay</td>\n",
              "      <td>never pay</td>\n",
              "      <td>soft</td>\n",
              "      <td>good</td>\n",
              "      <td>dry</td>\n",
              "      <td>dry</td>\n",
              "      <td>machine dbh</td>\n",
              "      <td>borehole</td>\n",
              "      <td>groundwater</td>\n",
              "      <td>communal standpipe multiple</td>\n",
              "      <td>communal standpipe</td>\n",
              "    </tr>\n",
              "    <tr>\n",
              "      <th>19728</th>\n",
              "      <td>0.0</td>\n",
              "      <td>2011-07-13</td>\n",
              "      <td>Action In A</td>\n",
              "      <td>0</td>\n",
              "      <td>Artisan</td>\n",
              "      <td>31.130847</td>\n",
              "      <td>-1.825359</td>\n",
              "      <td>Shuleni</td>\n",
              "      <td>0</td>\n",
              "      <td>Lake Victoria</td>\n",
              "      <td>Kyanyamisa</td>\n",
              "      <td>Kagera</td>\n",
              "      <td>18</td>\n",
              "      <td>1</td>\n",
              "      <td>Karagwe</td>\n",
              "      <td>Nyakasimbi</td>\n",
              "      <td>0</td>\n",
              "      <td>True</td>\n",
              "      <td>GeoData Consultants Ltd</td>\n",
              "      <td>NaN</td>\n",
              "      <td>NaN</td>\n",
              "      <td>True</td>\n",
              "      <td>0</td>\n",
              "      <td>gravity</td>\n",
              "      <td>gravity</td>\n",
              "      <td>gravity</td>\n",
              "      <td>other</td>\n",
              "      <td>other</td>\n",
              "      <td>never pay</td>\n",
              "      <td>never pay</td>\n",
              "      <td>soft</td>\n",
              "      <td>good</td>\n",
              "      <td>seasonal</td>\n",
              "      <td>seasonal</td>\n",
              "      <td>rainwater harvesting</td>\n",
              "      <td>rainwater harvesting</td>\n",
              "      <td>surface</td>\n",
              "      <td>communal standpipe</td>\n",
              "      <td>communal standpipe</td>\n",
              "    </tr>\n",
              "  </tbody>\n",
              "</table>\n",
              "</div>"
            ],
            "text/plain": [
              "       amount_tsh  ... waterpoint_type_group\n",
              "id                 ...                      \n",
              "69572      6000.0  ...    communal standpipe\n",
              "8776          0.0  ...    communal standpipe\n",
              "34310        25.0  ...    communal standpipe\n",
              "67743         0.0  ...    communal standpipe\n",
              "19728         0.0  ...    communal standpipe\n",
              "\n",
              "[5 rows x 39 columns]"
            ]
          },
          "metadata": {},
          "execution_count": 4
        }
      ]
    },
    {
      "cell_type": "code",
      "metadata": {
        "colab": {
          "base_uri": "https://localhost:8080/"
        },
        "id": "R4OE0lNkcujA",
        "outputId": "bb52f0d9-9571-482f-e21b-ff1f18ca8fca"
      },
      "source": [
        "X.shape"
      ],
      "execution_count": null,
      "outputs": [
        {
          "output_type": "execute_result",
          "data": {
            "text/plain": [
              "(59400, 39)"
            ]
          },
          "metadata": {},
          "execution_count": 5
        }
      ]
    },
    {
      "cell_type": "markdown",
      "metadata": {
        "id": "LWk9pMnfxj8L"
      },
      "source": [
        "class distribution"
      ]
    },
    {
      "cell_type": "code",
      "metadata": {
        "colab": {
          "base_uri": "https://localhost:8080/",
          "height": 367
        },
        "id": "e5BvHzke6WKX",
        "outputId": "fe5bc0eb-6aa2-48b4-c48c-e02507296cc7"
      },
      "source": [
        "print(y['status_group'].value_counts(normalize=True))\n",
        "sns.countplot(x='status_group', data=y)\n",
        "plt.tight_layout()\n"
      ],
      "execution_count": null,
      "outputs": [
        {
          "output_type": "stream",
          "name": "stdout",
          "text": [
            "functional                 0.543081\n",
            "non functional             0.384242\n",
            "functional needs repair    0.072677\n",
            "Name: status_group, dtype: float64\n"
          ]
        },
        {
          "output_type": "display_data",
          "data": {
            "image/png": "[encoded data removed]",
            "text/plain": [
              "<Figure size 432x288 with 1 Axes>"
            ]
          },
          "metadata": {
            "needs_background": "light"
          }
        }
      ]
    },
    {
      "cell_type": "markdown",
      "metadata": {
        "id": "akQpmuyzxojl"
      },
      "source": [
        "Null values and duplicates"
      ]
    },
    {
      "cell_type": "code",
      "metadata": {
        "colab": {
          "base_uri": "https://localhost:8080/"
        },
        "id": "AAhHZMX07x1N",
        "outputId": "57f74900-f753-4826-cce5-45b9bc007e20"
      },
      "source": [
        "print('\\nNull Values in Training \\n{}'.format(X.isnull().sum()))\n",
        "print('\\nNull Values in Testing \\n{}'.format(test_dataset.isnull().sum()))\n",
        "print('\\nNull Values in Labels \\n{}'.format(y.isnull().sum()))\n",
        "\n",
        "\n",
        "print('\\nDuplicated values in train {}'.format(X.duplicated().sum()))\n",
        "print('Duplicated values in test {}'.format(test_dataset.duplicated().sum()))\n"
      ],
      "execution_count": null,
      "outputs": [
        {
          "output_type": "stream",
          "name": "stdout",
          "text": [
            "\n",
            "Null Values in Training \n",
            "amount_tsh                   0\n",
            "date_recorded                0\n",
            "funder                    3635\n",
            "gps_height                   0\n",
            "installer                 3655\n",
            "longitude                    0\n",
            "latitude                     0\n",
            "wpt_name                     0\n",
            "num_private                  0\n",
            "basin                        0\n",
            "subvillage                 371\n",
            "region                       0\n",
            "region_code                  0\n",
            "district_code                0\n",
            "lga                          0\n",
            "ward                         0\n",
            "population                   0\n",
            "public_meeting            3334\n",
            "recorded_by                  0\n",
            "scheme_management         3877\n",
            "scheme_name              28166\n",
            "permit                    3056\n",
            "construction_year            0\n",
            "extraction_type              0\n",
            "extraction_type_group        0\n",
            "extraction_type_class        0\n",
            "management                   0\n",
            "management_group             0\n",
            "payment                      0\n",
            "payment_type                 0\n",
            "water_quality                0\n",
            "quality_group                0\n",
            "quantity                     0\n",
            "quantity_group               0\n",
            "source                       0\n",
            "source_type                  0\n",
            "source_class                 0\n",
            "waterpoint_type              0\n",
            "waterpoint_type_group        0\n",
            "dtype: int64\n",
            "\n",
            "Null Values in Testing \n",
            "amount_tsh                  0\n",
            "date_recorded               0\n",
            "funder                    869\n",
            "gps_height                  0\n",
            "installer                 877\n",
            "longitude                   0\n",
            "latitude                    0\n",
            "wpt_name                    0\n",
            "num_private                 0\n",
            "basin                       0\n",
            "subvillage                 99\n",
            "region                      0\n",
            "region_code                 0\n",
            "district_code               0\n",
            "lga                         0\n",
            "ward                        0\n",
            "population                  0\n",
            "public_meeting            821\n",
            "recorded_by                 0\n",
            "scheme_management         969\n",
            "scheme_name              7092\n",
            "permit                    737\n",
            "construction_year           0\n",
            "extraction_type             0\n",
            "extraction_type_group       0\n",
            "extraction_type_class       0\n",
            "management                  0\n",
            "management_group            0\n",
            "payment                     0\n",
            "payment_type                0\n",
            "water_quality               0\n",
            "quality_group               0\n",
            "quantity                    0\n",
            "quantity_group              0\n",
            "source                      0\n",
            "source_type                 0\n",
            "source_class                0\n",
            "waterpoint_type             0\n",
            "waterpoint_type_group       0\n",
            "dtype: int64\n",
            "\n",
            "Null Values in Labels \n",
            "status_group    0\n",
            "dtype: int64\n",
            "\n",
            "Duplicated values in train 37\n",
            "Duplicated values in test 1\n"
          ]
        }
      ]
    },
    {
      "cell_type": "code",
      "metadata": {
        "colab": {
          "base_uri": "https://localhost:8080/"
        },
        "id": "PhqjhKN6i6x_",
        "outputId": "16ca15f2-3f14-4ab1-fc25-43ea3d7a651f"
      },
      "source": [
        "X.dtypes"
      ],
      "execution_count": null,
      "outputs": [
        {
          "output_type": "execute_result",
          "data": {
            "text/plain": [
              "amount_tsh               float64\n",
              "date_recorded             object\n",
              "funder                    object\n",
              "gps_height                 int64\n",
              "installer                 object\n",
              "longitude                float64\n",
              "latitude                 float64\n",
              "wpt_name                  object\n",
              "num_private                int64\n",
              "basin                     object\n",
              "subvillage                object\n",
              "region                    object\n",
              "region_code                int64\n",
              "district_code              int64\n",
              "lga                       object\n",
              "ward                      object\n",
              "population                 int64\n",
              "public_meeting            object\n",
              "recorded_by               object\n",
              "scheme_management         object\n",
              "scheme_name               object\n",
              "permit                    object\n",
              "construction_year          int64\n",
              "extraction_type           object\n",
              "extraction_type_group     object\n",
              "extraction_type_class     object\n",
              "management                object\n",
              "management_group          object\n",
              "payment                   object\n",
              "payment_type              object\n",
              "water_quality             object\n",
              "quality_group             object\n",
              "quantity                  object\n",
              "quantity_group            object\n",
              "source                    object\n",
              "source_type               object\n",
              "source_class              object\n",
              "waterpoint_type           object\n",
              "waterpoint_type_group     object\n",
              "dtype: object"
            ]
          },
          "metadata": {},
          "execution_count": 8
        }
      ]
    },
    {
      "cell_type": "code",
      "metadata": {
        "id": "dlVv1NT4nLRX"
      },
      "source": [
        "joined_train = X.join(y)"
      ],
      "execution_count": null,
      "outputs": []
    },
    {
      "cell_type": "markdown",
      "metadata": {
        "id": "TAInccBIxvvn"
      },
      "source": [
        "remove duplicates in train data"
      ]
    },
    {
      "cell_type": "code",
      "metadata": {
        "colab": {
          "base_uri": "https://localhost:8080/"
        },
        "id": "HAf9QfF7_kuZ",
        "outputId": "c103ea67-c133-48ce-e81a-94178b2533f8"
      },
      "source": [
        "#Drop duplicates\n",
        "def drop_duplicates(df):\n",
        "  df.drop_duplicates(subset=df.columns, keep=\"first\", inplace=True)\n",
        "\n",
        "drop_duplicates(joined_train)\n",
        "print('Duplicated values in train {}'.format(joined_train.duplicated().sum()))\n"
      ],
      "execution_count": null,
      "outputs": [
        {
          "output_type": "stream",
          "name": "stdout",
          "text": [
            "Duplicated values in train 0\n"
          ]
        }
      ]
    },
    {
      "cell_type": "code",
      "metadata": {
        "id": "ieIR24PFcL2z"
      },
      "source": [
        "X = joined_train.iloc[:,:-1]"
      ],
      "execution_count": null,
      "outputs": []
    },
    {
      "cell_type": "code",
      "metadata": {
        "colab": {
          "base_uri": "https://localhost:8080/",
          "height": 435
        },
        "id": "GjGZFuDLcYiS",
        "outputId": "1c74f106-4a72-4b4d-be49-b859f40c6b3a"
      },
      "source": [
        "X.head()"
      ],
      "execution_count": null,
      "outputs": [
        {
          "output_type": "execute_result",
          "data": {
            "text/html": [
              "<div>\n",
              "<style scoped>\n",
              "    .dataframe tbody tr th:only-of-type {\n",
              "        vertical-align: middle;\n",
              "    }\n",
              "\n",
              "    .dataframe tbody tr th {\n",
              "        vertical-align: top;\n",
              "    }\n",
              "\n",
              "    .dataframe thead th {\n",
              "        text-align: right;\n",
              "    }\n",
              "</style>\n",
              "<table border=\"1\" class=\"dataframe\">\n",
              "  <thead>\n",
              "    <tr style=\"text-align: right;\">\n",
              "      <th></th>\n",
              "      <th>amount_tsh</th>\n",
              "      <th>date_recorded</th>\n",
              "      <th>funder</th>\n",
              "      <th>gps_height</th>\n",
              "      <th>installer</th>\n",
              "      <th>longitude</th>\n",
              "      <th>latitude</th>\n",
              "      <th>wpt_name</th>\n",
              "      <th>num_private</th>\n",
              "      <th>basin</th>\n",
              "      <th>subvillage</th>\n",
              "      <th>region</th>\n",
              "      <th>region_code</th>\n",
              "      <th>district_code</th>\n",
              "      <th>lga</th>\n",
              "      <th>ward</th>\n",
              "      <th>population</th>\n",
              "      <th>public_meeting</th>\n",
              "      <th>recorded_by</th>\n",
              "      <th>scheme_management</th>\n",
              "      <th>scheme_name</th>\n",
              "      <th>permit</th>\n",
              "      <th>construction_year</th>\n",
              "      <th>extraction_type</th>\n",
              "      <th>extraction_type_group</th>\n",
              "      <th>extraction_type_class</th>\n",
              "      <th>management</th>\n",
              "      <th>management_group</th>\n",
              "      <th>payment</th>\n",
              "      <th>payment_type</th>\n",
              "      <th>water_quality</th>\n",
              "      <th>quality_group</th>\n",
              "      <th>quantity</th>\n",
              "      <th>quantity_group</th>\n",
              "      <th>source</th>\n",
              "      <th>source_type</th>\n",
              "      <th>source_class</th>\n",
              "      <th>waterpoint_type</th>\n",
              "      <th>waterpoint_type_group</th>\n",
              "    </tr>\n",
              "    <tr>\n",
              "      <th>id</th>\n",
              "      <th></th>\n",
              "      <th></th>\n",
              "      <th></th>\n",
              "      <th></th>\n",
              "      <th></th>\n",
              "      <th></th>\n",
              "      <th></th>\n",
              "      <th></th>\n",
              "      <th></th>\n",
              "      <th></th>\n",
              "      <th></th>\n",
              "      <th></th>\n",
              "      <th></th>\n",
              "      <th></th>\n",
              "      <th></th>\n",
              "      <th></th>\n",
              "      <th></th>\n",
              "      <th></th>\n",
              "      <th></th>\n",
              "      <th></th>\n",
              "      <th></th>\n",
              "      <th></th>\n",
              "      <th></th>\n",
              "      <th></th>\n",
              "      <th></th>\n",
              "      <th></th>\n",
              "      <th></th>\n",
              "      <th></th>\n",
              "      <th></th>\n",
              "      <th></th>\n",
              "      <th></th>\n",
              "      <th></th>\n",
              "      <th></th>\n",
              "      <th></th>\n",
              "      <th></th>\n",
              "      <th></th>\n",
              "      <th></th>\n",
              "      <th></th>\n",
              "      <th></th>\n",
              "    </tr>\n",
              "  </thead>\n",
              "  <tbody>\n",
              "    <tr>\n",
              "      <th>69572</th>\n",
              "      <td>6000.0</td>\n",
              "      <td>2011-03-14</td>\n",
              "      <td>Roman</td>\n",
              "      <td>1390</td>\n",
              "      <td>Roman</td>\n",
              "      <td>34.938093</td>\n",
              "      <td>-9.856322</td>\n",
              "      <td>none</td>\n",
              "      <td>0</td>\n",
              "      <td>Lake Nyasa</td>\n",
              "      <td>Mnyusi B</td>\n",
              "      <td>Iringa</td>\n",
              "      <td>11</td>\n",
              "      <td>5</td>\n",
              "      <td>Ludewa</td>\n",
              "      <td>Mundindi</td>\n",
              "      <td>109</td>\n",
              "      <td>True</td>\n",
              "      <td>GeoData Consultants Ltd</td>\n",
              "      <td>VWC</td>\n",
              "      <td>Roman</td>\n",
              "      <td>False</td>\n",
              "      <td>1999</td>\n",
              "      <td>gravity</td>\n",
              "      <td>gravity</td>\n",
              "      <td>gravity</td>\n",
              "      <td>vwc</td>\n",
              "      <td>user-group</td>\n",
              "      <td>pay annually</td>\n",
              "      <td>annually</td>\n",
              "      <td>soft</td>\n",
              "      <td>good</td>\n",
              "      <td>enough</td>\n",
              "      <td>enough</td>\n",
              "      <td>spring</td>\n",
              "      <td>spring</td>\n",
              "      <td>groundwater</td>\n",
              "      <td>communal standpipe</td>\n",
              "      <td>communal standpipe</td>\n",
              "    </tr>\n",
              "    <tr>\n",
              "      <th>8776</th>\n",
              "      <td>0.0</td>\n",
              "      <td>2013-03-06</td>\n",
              "      <td>Grumeti</td>\n",
              "      <td>1399</td>\n",
              "      <td>GRUMETI</td>\n",
              "      <td>34.698766</td>\n",
              "      <td>-2.147466</td>\n",
              "      <td>Zahanati</td>\n",
              "      <td>0</td>\n",
              "      <td>Lake Victoria</td>\n",
              "      <td>Nyamara</td>\n",
              "      <td>Mara</td>\n",
              "      <td>20</td>\n",
              "      <td>2</td>\n",
              "      <td>Serengeti</td>\n",
              "      <td>Natta</td>\n",
              "      <td>280</td>\n",
              "      <td>NaN</td>\n",
              "      <td>GeoData Consultants Ltd</td>\n",
              "      <td>Other</td>\n",
              "      <td>NaN</td>\n",
              "      <td>True</td>\n",
              "      <td>2010</td>\n",
              "      <td>gravity</td>\n",
              "      <td>gravity</td>\n",
              "      <td>gravity</td>\n",
              "      <td>wug</td>\n",
              "      <td>user-group</td>\n",
              "      <td>never pay</td>\n",
              "      <td>never pay</td>\n",
              "      <td>soft</td>\n",
              "      <td>good</td>\n",
              "      <td>insufficient</td>\n",
              "      <td>insufficient</td>\n",
              "      <td>rainwater harvesting</td>\n",
              "      <td>rainwater harvesting</td>\n",
              "      <td>surface</td>\n",
              "      <td>communal standpipe</td>\n",
              "      <td>communal standpipe</td>\n",
              "    </tr>\n",
              "    <tr>\n",
              "      <th>34310</th>\n",
              "      <td>25.0</td>\n",
              "      <td>2013-02-25</td>\n",
              "      <td>Lottery Club</td>\n",
              "      <td>686</td>\n",
              "      <td>World vision</td>\n",
              "      <td>37.460664</td>\n",
              "      <td>-3.821329</td>\n",
              "      <td>Kwa Mahundi</td>\n",
              "      <td>0</td>\n",
              "      <td>Pangani</td>\n",
              "      <td>Majengo</td>\n",
              "      <td>Manyara</td>\n",
              "      <td>21</td>\n",
              "      <td>4</td>\n",
              "      <td>Simanjiro</td>\n",
              "      <td>Ngorika</td>\n",
              "      <td>250</td>\n",
              "      <td>True</td>\n",
              "      <td>GeoData Consultants Ltd</td>\n",
              "      <td>VWC</td>\n",
              "      <td>Nyumba ya mungu pipe scheme</td>\n",
              "      <td>True</td>\n",
              "      <td>2009</td>\n",
              "      <td>gravity</td>\n",
              "      <td>gravity</td>\n",
              "      <td>gravity</td>\n",
              "      <td>vwc</td>\n",
              "      <td>user-group</td>\n",
              "      <td>pay per bucket</td>\n",
              "      <td>per bucket</td>\n",
              "      <td>soft</td>\n",
              "      <td>good</td>\n",
              "      <td>enough</td>\n",
              "      <td>enough</td>\n",
              "      <td>dam</td>\n",
              "      <td>dam</td>\n",
              "      <td>surface</td>\n",
              "      <td>communal standpipe multiple</td>\n",
              "      <td>communal standpipe</td>\n",
              "    </tr>\n",
              "    <tr>\n",
              "      <th>67743</th>\n",
              "      <td>0.0</td>\n",
              "      <td>2013-01-28</td>\n",
              "      <td>Unicef</td>\n",
              "      <td>263</td>\n",
              "      <td>UNICEF</td>\n",
              "      <td>38.486161</td>\n",
              "      <td>-11.155298</td>\n",
              "      <td>Zahanati Ya Nanyumbu</td>\n",
              "      <td>0</td>\n",
              "      <td>Ruvuma / Southern Coast</td>\n",
              "      <td>Mahakamani</td>\n",
              "      <td>Mtwara</td>\n",
              "      <td>90</td>\n",
              "      <td>63</td>\n",
              "      <td>Nanyumbu</td>\n",
              "      <td>Nanyumbu</td>\n",
              "      <td>58</td>\n",
              "      <td>True</td>\n",
              "      <td>GeoData Consultants Ltd</td>\n",
              "      <td>VWC</td>\n",
              "      <td>NaN</td>\n",
              "      <td>True</td>\n",
              "      <td>1986</td>\n",
              "      <td>submersible</td>\n",
              "      <td>submersible</td>\n",
              "      <td>submersible</td>\n",
              "      <td>vwc</td>\n",
              "      <td>user-group</td>\n",
              "      <td>never pay</td>\n",
              "      <td>never pay</td>\n",
              "      <td>soft</td>\n",
              "      <td>good</td>\n",
              "      <td>dry</td>\n",
              "      <td>dry</td>\n",
              "      <td>machine dbh</td>\n",
              "      <td>borehole</td>\n",
              "      <td>groundwater</td>\n",
              "      <td>communal standpipe multiple</td>\n",
              "      <td>communal standpipe</td>\n",
              "    </tr>\n",
              "    <tr>\n",
              "      <th>19728</th>\n",
              "      <td>0.0</td>\n",
              "      <td>2011-07-13</td>\n",
              "      <td>Action In A</td>\n",
              "      <td>0</td>\n",
              "      <td>Artisan</td>\n",
              "      <td>31.130847</td>\n",
              "      <td>-1.825359</td>\n",
              "      <td>Shuleni</td>\n",
              "      <td>0</td>\n",
              "      <td>Lake Victoria</td>\n",
              "      <td>Kyanyamisa</td>\n",
              "      <td>Kagera</td>\n",
              "      <td>18</td>\n",
              "      <td>1</td>\n",
              "      <td>Karagwe</td>\n",
              "      <td>Nyakasimbi</td>\n",
              "      <td>0</td>\n",
              "      <td>True</td>\n",
              "      <td>GeoData Consultants Ltd</td>\n",
              "      <td>NaN</td>\n",
              "      <td>NaN</td>\n",
              "      <td>True</td>\n",
              "      <td>0</td>\n",
              "      <td>gravity</td>\n",
              "      <td>gravity</td>\n",
              "      <td>gravity</td>\n",
              "      <td>other</td>\n",
              "      <td>other</td>\n",
              "      <td>never pay</td>\n",
              "      <td>never pay</td>\n",
              "      <td>soft</td>\n",
              "      <td>good</td>\n",
              "      <td>seasonal</td>\n",
              "      <td>seasonal</td>\n",
              "      <td>rainwater harvesting</td>\n",
              "      <td>rainwater harvesting</td>\n",
              "      <td>surface</td>\n",
              "      <td>communal standpipe</td>\n",
              "      <td>communal standpipe</td>\n",
              "    </tr>\n",
              "  </tbody>\n",
              "</table>\n",
              "</div>"
            ],
            "text/plain": [
              "       amount_tsh  ... waterpoint_type_group\n",
              "id                 ...                      \n",
              "69572      6000.0  ...    communal standpipe\n",
              "8776          0.0  ...    communal standpipe\n",
              "34310        25.0  ...    communal standpipe\n",
              "67743         0.0  ...    communal standpipe\n",
              "19728         0.0  ...    communal standpipe\n",
              "\n",
              "[5 rows x 39 columns]"
            ]
          },
          "metadata": {},
          "execution_count": 12
        }
      ]
    },
    {
      "cell_type": "code",
      "metadata": {
        "colab": {
          "base_uri": "https://localhost:8080/"
        },
        "id": "7yQJJSV3cz6Z",
        "outputId": "9ca65b87-a32b-4c7d-d7a7-d6e24a0502a6"
      },
      "source": [
        "X.shape"
      ],
      "execution_count": null,
      "outputs": [
        {
          "output_type": "execute_result",
          "data": {
            "text/plain": [
              "(59364, 39)"
            ]
          },
          "metadata": {},
          "execution_count": 13
        }
      ]
    },
    {
      "cell_type": "markdown",
      "metadata": {
        "id": "25G-H-eLBswx"
      },
      "source": [
        "The processings such as missing value imputation etc. are done using both train and test set featuers."
      ]
    },
    {
      "cell_type": "code",
      "metadata": {
        "colab": {
          "base_uri": "https://localhost:8080/"
        },
        "id": "zOuFnnwirtHD",
        "outputId": "bcdde1db-26c6-44c3-836b-93644d2aafef"
      },
      "source": [
        "df=X.append(test)\n",
        "print(df.shape)"
      ],
      "execution_count": null,
      "outputs": [
        {
          "output_type": "stream",
          "name": "stdout",
          "text": [
            "(74214, 39)\n"
          ]
        }
      ]
    },
    {
      "cell_type": "markdown",
      "metadata": {
        "id": "e6KSvrmzyxdk"
      },
      "source": [
        "#Missing value imputation\n",
        "\n",
        "* ```funder```-replace by 'other'.\n",
        "* ```installer```-replace by 'other'.\n",
        "* ```subvillage``` - using mode of subvillages grouped by region_code wise.\n",
        "* ```public_meeting``` - using median.\n",
        "* ```scheme managment``` - using mode of scheme_managment grouped by region wise.\n",
        "* ```scheme name``` - using mode of scheme_name grouped by region wise.\n",
        "* ```permit``` - using median.\n",
        "\n"
      ]
    },
    {
      "cell_type": "code",
      "metadata": {
        "colab": {
          "base_uri": "https://localhost:8080/"
        },
        "id": "BYhaDGuFPXT0",
        "outputId": "ce7915ae-ea9b-4828-b52e-a41f73a62d0d"
      },
      "source": [
        "funder_l = list(map(str,df[\"funder\"].unique()))\n",
        "funder_l.sort()\n",
        "print(funder_l)"
      ],
      "execution_count": null,
      "outputs": [
        {
          "output_type": "stream",
          "name": "stdout",
          "text": [
            "['0', 'A/co Germany', 'Aar', 'Abas Ka', 'Abasia', 'Abc-ihushi Development Cent', 'Abd', 'Abdala', 'Abddwe', 'Abdul', 'Abood', 'Abs', 'Aco/germany', 'Acord', 'Acord Ngo', 'Acra', 'Act', 'Act Mara', 'Action Aid', 'Action Contre La Faim', 'Action In A', 'Adap', 'Adb', 'Adf', 'Adp', 'Adp Bungu', 'Adp Mombo', 'Adp/w', 'Adra', 'Af', 'Afdp', 'Afric', 'Africa', 'Africa 2000 Network/undp', 'Africa Amini Alama', 'Africa Project Ev Germany', 'African', 'African 2000 Network', 'African Barrick Gold', 'African Development Bank', 'African Development Foundation', 'African Muslim Agency', 'African Realief Committe Of Ku', 'African Reflections Foundation', 'African Relie', 'Africaone Ltd', 'Africare', 'Afriican Reli', 'Afroz Ismail', 'Afya Department Lindi Rural', 'Agape Churc', 'Agness', 'Agt Church', 'Ahmadia', 'Ai', 'Aic', 'Aic Church', 'Aic Kij', 'Aict', 'Aimgold', 'Aixos', 'Alia', 'Aljazera', 'Ambwene Mwaikek', 'Amref', 'Amrefe', 'Anglican Church', 'Angrikana', 'Anjuman E Seifee', 'Anrikana', 'Answar', 'Answeer Muslim Grou', 'Anyemike', 'Apm', 'Apm[africa Precious Metals Lt', 'Aqua Blues Angels', 'Arab Community', 'Arabi', 'Arabs Community', 'Ardhi Instute', 'Area', 'Artisan', 'Asb', 'Asdp', 'Asgerali N Bharwan', 'Att/total Land Care', 'Auwasa', 'Aveda', 'Awf', 'B.A.P', 'Ba', 'Ba As', 'Babtest', 'Babtist', 'Bahewasa', 'Bahresa', 'Bakari Chimkube', 'Bakari Hamisi', 'Bakwata', 'Ballo', 'Balo', 'Balyehe', 'Banane', 'Banca Reale', 'Bandika Kilewa', 'Bank', 'Bao', 'Baptist Church', 'Baric', 'Bathlomew Vicent', 'Batist Church', 'Belgian Government', 'Belgij', 'Bened', 'Benguka', 'Bffs', 'Bfwd', 'Bgm', 'Bgss', 'Bgssws', 'Bhws', 'Bi Chau', 'Bi Kidawa', 'Bi Ndizi', 'Bilila', 'Bingi Foundation In German', 'Bingo Foundation', 'Bingo Foundation Germany', 'Bint', 'Bio Fuel Company', 'Biore', 'Birage', 'Bkhws', 'Boazi', 'Boazi /o', 'Bobby', 'Bokera W', 'Boma Saving', 'Bong-kug Ohh/choonlza Lee', 'Bonite Bottles Ltd', 'Br', 'Bra', 'Brad', 'Brdp', 'Bread For The Wor', 'Bread Of The Worl', 'Bridge North', 'British Colonial Government', 'British Tanza', 'Brown', 'Bruder', 'Bs', 'Bsf', 'Bukumbi', 'Bukwang Church Saint', 'Bukwang Church Saints', 'Buluga Subvillage Community', 'Bulyahunlu Gold Mine', 'Bumabu', 'Buptist', 'Busoga Trust', 'C', 'Cafod', 'Caltas', 'Caltas Tanzania', 'Caltaz Kahama', 'Caltus', 'Calvary Connect', 'Camartec', 'Camavita', 'Canaco', 'Canada', 'Canada Aid', 'Care Int', 'Care International', 'Care/cipro', 'Care/crc', 'Care/dwe', 'Caritas', 'Carmatech', 'Cartas Tanzania', 'Cast', 'Cathoric', 'Cbhi', 'Cc Motor Day 2010', 'Ccm', 'Ccp', 'Ccpk', 'Ccps', 'Cct', 'Cdcg', 'Cdft', 'Cdg', 'Cdtf', 'Cdtfdistrict Council', 'Cefa', 'Cefa-njombe', 'Cefa/ Rc Church', 'Cefa/rcchurch', 'Ces (gmbh)', 'Ces(gmbh)', 'Cg', 'Cg/rc', 'Cgc', 'Cgi', 'Ch', 'Chacha', 'Chacha Issame', 'Chai Wazir', 'Chama Cha Ushirika', 'Chamavita', 'Chani', 'Charlotte Well', 'Cheni', 'Chiko In', 'Childreach', 'Childreach International', 'China Government', 'Chmavita', 'Chongolo', 'Christan Outrich', 'Christian Outrich', 'Chuo', 'Churc', 'Church', 'Church Of Disciples', 'Ci', 'Cida', 'Cip', 'Cipro', 'Cipro/care', 'Cipro/care/tcrs', 'Cipro/government', 'Clause', 'Cmcr', 'Cmsr', 'Co', 'Cobashec', 'Cocen', 'Cocern', 'Cocu', 'College', 'Colon', 'Colonial Government', 'Colonies', 'Colony', 'Commu', 'Community', 'Community Bank', 'Compa', 'Company', 'Compasion International', 'Comune Di Roma', 'Comunedi Roma', 'Comunity Construction Fund', 'Conce', 'Concen', 'Concern', 'Concern /govern', 'Concern World Wide', 'Concern/governm', 'Cope', 'Costantine Herman', 'Council', 'Cpar', 'Cper', 'Cpps', 'Cpps Mission', 'Cpps Wat', 'Cpro', 'Craelius', 'Crdb', 'Cristan Outrich', 'Crs', 'Csf', 'Cspd', 'Cuso', 'Cvs Miss', 'D', 'D Ct', 'Da Unoperaio Siciliano', 'Dacip', 'Dacp', 'Dadid', 'Dadis', 'Dadp', 'Dads', 'Dae Yeol And Chae Lynn', 'Dagida', 'Daida', 'Daids', 'Dak', 'Daldo', 'Danida', 'Danida /government', 'Danida /wsdp', 'Dar Al Ber', 'Dar Es Salaam Round Table', 'Dasap', 'Dasiip', 'Dasip', 'Dasp', 'Dasp Ltd', 'Dassip', 'Dawasa', 'Dawasco', 'Dbfpe', 'Dbsp', 'Dbspe', 'Dct', 'Ddca', 'Ddp', 'De', 'Ded', 'Ded And Priva', 'Ded Kilo', 'Ded/rwssp', 'Ded_rwsp', 'Denat', 'Denish', 'Deogratius Kasima', 'Desk And Chair Foundation', 'Devon Aid Korogwe', 'Dfid', 'Dgv', 'Dh', 'Dhinu', 'Dhv', 'Dhv Moro', 'Dhv/comm', 'Dhv/gove', 'Dhv\\\\norp', 'Dhv\\\\swis', 'Dimel', 'Dimon', 'Dina', 'Dioce', 'Diocese Of Geita', 'Diocese Of Mount Kilimanjaro', 'District Council', 'District Medical', 'District Rural Project', 'Diwani', 'Diwani Maige', 'Dmd', 'Dmdd', 'Dmdd/solider', 'Dmk', 'Dmk Anglican', 'Dmmd', 'Dmo', 'Do', 'Doctor Mwambi', 'Doddea', 'Dokta Mwandulam', 'Dolf Project', 'Dom', 'Domestic Rural Development Pr', 'Domestic Rural Development Pro', 'Domestic Water Supply Project', 'Dominiki Simwen', 'Doner And Com', 'Doner And Ded', 'Donor', 'Dqnida', 'Drdp', 'Drdp Ngo', 'Drv Na Idara', 'Drwssp', 'Dsdp', 'Dsp', 'Duka', 'Duwas', 'Dv', 'Dw', 'Dwarf', 'Dwe', 'Dwe And Veo', 'Dwe/anglican Church', 'Dwe/bamboo Projec', 'Dwe/norad', 'Dwe/rudep', 'Dwe/ubalozi Wa Marekani', 'Dwsdp', 'Dwsp', 'Dwsp & Central Government', 'Dwspd', 'Dwssp', 'Dwst', 'Dwt', 'Ea', 'Eagt', 'Eagt Church', 'Eastmeru Medium School', 'Eater', 'Ebaha', 'Eco Lodge', 'Education Funds', 'Efg', 'Egypt', 'Egypt Government', 'Egypt Technical Co Operation', 'El', 'Elca', 'Elct', 'Embasy Of Japan In Tanzania', 'Engin', 'Engineers Without Border', 'Eno', 'Envirocare', 'Enyuati', 'Enyueti', 'Ereto', 'Ermua', 'Erre Kappa', 'Esawa', 'Ester Ndege', 'Eu', 'Eu/acra', 'Eung Am Methodist Church', 'Eung-am Methodist Church', 'European Union', 'F', 'Fabia', 'Fao', 'Farm', 'Farm 17 Secondary', 'Farm Africa', 'Farm-africa', 'Fathe', 'Father Bonifasi', 'Father W', 'Fdc', 'Fico', 'Fida', 'Filo', 'Fin Water', 'Fini Water', 'Finida German Tanzania Govt', 'Finidagermantanzania Govt', 'Finland', 'Finland Government', 'Finland Government Finland Gov', 'Finn Water', 'Finw', 'Finwater', 'Fiwater', 'Floresta', 'Folac', 'Foreigne', 'Fosecu', 'Fpct', 'Fpct Church', 'Fpct Mulala', 'Fptc - Pent', 'Franc', 'France', 'Frankfurt', 'Fredked Conservation', 'Free Pentecoste Church Of Tanz', 'Fresh Water Plc England', 'Friedkin Conservation Fund', 'Friend From Un', 'Friends Of Bariadi', 'Friends Of Kahama', 'Friends Of Kibara Foundation', 'Friends Of Ulambo And Mwanhala', 'Full Gospel Church', 'Fw', 'G.D&i.D', 'Ga', 'Gachuma Ginery', 'Gaica', 'Gain', 'Game Division', 'Game Fronti', 'Gdp', 'Geita Goldmain', 'Gen', 'Geochaina', 'Gerald Tuseko Gro', 'German Missionary', 'Germany', 'Germany Cristians', 'Germany Misionary', 'Germany Missionary', 'Germany Republi', 'Gesawa', 'Getdsc00', 'Getekwe', 'Gg', 'Ggm', \"Gil Cafe'church'\", 'Giovan Disinistra Per Salve', 'Giz', 'Global Fund', 'Go', 'Godii', 'Goldfinder', 'Goldmain', 'Goldwill Foundation', 'Government', 'Government /sda', 'Government /tassaf', 'Government /world Vision', 'Government And Community', 'Government Of Misri', 'Government Of Tanzania', 'Government/ Community', 'Government/ World Bank', 'Government/julius', 'Government/school', 'Government/tassaf', 'Government/tcrs', 'Gra Na Halmashauri', 'Grail Mission', 'Grail Mission Kiseki Bar', 'Grazie Franco Lucchini', 'Grazie Grouppo Padre Fiorentin', 'Greec', 'Greinaker', 'Greineker', 'Grumeti', 'Gt', 'Gtz', 'Guje Olsson', 'Gurdians', 'Gwitembe', 'H', 'H/kijiji', 'H/w', 'H4ccp', 'Haam', 'Hadija Makame', 'Haidomu Lutheran Church', 'Halimashau', 'Halimashauli', 'Halmashauli', 'Halmashaur', 'Halmashauri', 'Halmashauri Wil', 'Halmashauri Ya Manispa Tabora', 'Halmashauri Ya Manispaa', 'Halmashauri Ya Wilaya', 'Halmashauri Ya Wilaya Sikonge', 'Ham', 'Hamref', 'Handeni Trunk Main(', 'Handeni Trunk Maini', 'Hans', 'Hapa', 'Hapa Singida', 'Happy Watoto Foundation', 'Haruna Mpog', 'Hasawa', 'Hashi', 'Hasnan Murig (mbunge)', 'Hasnein Muij Mbunge', 'Hasnein Murij', 'Hassan Gulam', 'Haydom Lutheran Hospital', 'Hdv', 'He', 'Healt', 'Health  Ministry', 'Hearts Helping Hands.Inc.', 'Heasawa', 'Heaswa', 'Hemed Islam', 'Henure Dema', 'Heri Mission', 'Hery', 'Hesaw', 'Hesawa', 'Hesawa And Concern World Wide', 'Hesawwa', 'Hesawz', 'Hesawza', 'Hesswa', 'Heswa', 'Hewasa', 'Hewawa', 'Hez', 'Hhesawa', 'Hiap', 'Hifab', 'Hilfe Fur Brunder', 'Hima', 'Hindu', 'Holand', 'Holili Water Supply', 'Holla', 'Holland', 'Hongoli', 'Hortanzia', 'Hospital', 'Hotels And Lodge Tanzania', 'Hotels And Loggs Tz Ltd', 'Hpa', 'Hsw', 'Htm', 'Huches', 'Hw/rc', 'Hydom Luthelani', 'I Wash', 'I.E.C', 'Iado', 'Icap', 'Icdp', 'Icf', 'Ics', 'Idara Ya Afya', 'Idara Ya Maji', 'Idc', 'Idc-ihushi Dev Centre', 'Idea', 'Idf', 'Idydc', 'If', 'Ifad', 'Ifakara', 'Igolola Community', 'Igwachanya Seco', 'Ihehana', 'Ikela Wa', 'Ikeuchi Towels Japan', 'Il', 'Ilaramataki', 'Ilct', 'Ilkeri Village', 'Ilo', 'Ilo/undp', 'Ilolangulu Water Supply/mileni', 'Ilwilo Community', 'Imf', 'In', 'In Memoria Di Albeto', 'Incerto', 'Inkinda', 'Insititutiona', 'Institution', 'Institutional', 'Insututional', 'Internal Drainage Basin', 'International Aid Services', 'Investor', 'Iom', 'Ir', 'Iran Gover', 'Irc', 'Irevea Sister', 'Irevea Sister Water', 'Irish Ai', 'Irish Government', 'Is', 'Isaboga', 'Isf', 'Isf / Tasaff', 'Isf/government', 'Isf/gvt', 'Isf/tacare', 'Isg', 'Isingiro Ho', 'Islam', 'Islamic', 'Islamic Agency Tanzania', 'Islamic Community', 'Islamic Found', 'Islamic Society', 'Isnashia And', 'Issa Mohamedi Tumwanga', 'Italian', 'Italy', 'Italy Government', 'Iucn', 'Iwash', 'Jacobin', 'Jafary Mbaga', 'Jaic', 'Jaica', 'Jamal', 'Jamal Abdallah', 'Jandu', 'Japan', 'Japan  Food Aid Counter Part', 'Japan Aid', 'Japan Embassy', 'Japan Food', 'Japan Food Aid', 'Japan Government', 'Jbg', 'Jeica', 'Jeshi La Wokovu', 'Jeshi La Wokovu [cida]', 'Jeshi Lawokovu', 'Jgb', 'Ji-eun', 'Jica', 'Jika', 'Jimbo Fund', 'Jimmy', 'Jipa', 'John Fund', 'John Gileth', 'John Skwese', 'Ju', \"Ju-sarang Church' And Bugango\", 'Judge Mchome', 'Juhibu', 'Juma', 'Jumaa', 'Jumanne', 'Jumanne Siabo', 'Jumuiya Ya Dar Al Ber_uae', 'Justine Marwa', 'Jwtz', 'K', 'Ka', 'Kaaya', 'Kadip', 'Kadp', 'Kadres Ngo', 'Kaemp', 'Kaempo', 'Kagera', 'Kagera Mine', 'Kagunguli Secondary', 'Kahema', 'Kajima', 'Kalebejo Parish', 'Kalitasi', 'Kalitesi', 'Kalta', 'Kamama', 'Kamata Project', 'Kambi Migoko', 'Kanamama', 'Kando', 'Kanis', 'Kanisa', 'Kanisa Katoliki', 'Kanisa Katoliki Lolovoni', 'Kanisa La Kkt', 'Kanisa La Menonite', 'Kanisa La Mitume', 'Kanisa La Neema', 'Kanisa La Tag', 'Kanisani', 'Kanute Haule', 'Kapelo', 'Karadea Ngo', 'Kashwas', 'Kassim', 'Kata', 'Kauzeni', 'Kayempu Ltd', 'Kazipombe', 'Kc', 'Kcu', 'Kdc', 'Kdpa', 'Kdrdp Ngo', 'Kegocha', 'Kenyans Company', 'Kerebuka', 'Kfw', 'Khanga', 'Ki', 'Kibaha Independent School', 'Kibaha Town Council', 'Kibara Foundation', 'Kibo', 'Kibo Brewaries', 'Kibwana Maumba', 'Kidep', 'Kidika', 'Kidp', 'Kigoma Municipal', 'Kigoma Municipal Council', 'Kigwa', 'Kijij', 'Kijiji', 'Kikom', 'Kikundi Cha Akina Mama', 'Kilimarondo Parish', 'Kilimo', 'Kilindi District Co', 'Kiliwater', 'Killflora', 'Kilol', 'Kilomber', 'Kilwater', 'Kimkuma', 'Kinapa', 'Kinapa Canada', 'Kindoroko Water Project', 'Kinga', 'Kingupira S', 'Kipo Potry', 'Kirde', 'Kirdep', 'Kitiangare Village Community', 'Kiuma', 'Kiwanda Cha Ngozi', 'Kiwanda Cha Samaki', 'Kiwanda Cha Tangawizi', 'Kizego Jumaa', 'Kizenga', 'Kkkt', 'Kkkt Canal', 'Kkkt Church', 'Kkkt Church S', 'Kkkt Dme', 'Kkkt Imbaseny', 'Kkkt Kolila', 'Kkkt Leguruki', 'Kkkt Mareu', 'Kkkt Mso', 'Kkkt Ndrumangeni', 'Kkkt Usa', 'Kkkt-dioces Ya Pare', 'Kkkt_makwale', 'Kmcl', 'Kmt', 'Koica', 'Koica And Tanzania Government', 'Koico', 'Kokornel', 'Kolopin', 'Kombe Foundation', 'Kome Parish', 'Kondela', 'Kondo Primary', 'Konoike', 'Kopwe Khalifa', 'Korea', 'Krf', 'Krp', 'Ku', 'Kuamu', 'Kuji Foundation', 'Kulwa', 'Kurrp', 'Kurrp Ki', 'Kuwait', 'Kuwasa', 'Kwa Cheon Rotary Club', 'Kwa Ditriki Cho', 'Kwa Makala', 'Kwa Mzee Waziri', 'Kwamdulu Estate', 'Kwang-nam Middle-school', 'Kwaruhombo He', 'Kwasenenge Group', 'Kwiboni', 'Kwik', 'Kwikwiz', 'Kyagoka', 'Kyariga', 'Kyela Council', 'Kyela-morogoro', 'L', 'Laizer', 'Lakailo', 'Lake Tanganyika', 'Lake Tanganyika Basin', 'Lake Tanganyika Prodap', 'Lamp', 'Laramatak', 'Latfu', 'Laurian Rafaeli', 'Lawate Fuka Water Suppl', 'Lawatefuka Water Supply', 'Lc', 'Lcdg', 'Lcgd', 'Ldcdd', 'Ldcgd', \"Lee Kang Pyung's Family\", 'Leef Gold Mining', 'Legeza Legeza', 'Lench', 'Lench Talamaye', 'Lench Taramai', 'Lengai Makoo', 'Leopad Abeid', 'Lg', 'Lga', 'Lga And Adb', 'Lga And The Commu', 'Lgcbg', 'Lgcd', 'Lgcdg', 'Lgcgd', 'Lgdbg', 'Lgdcg', 'Lgsp/dwe', 'Lidep', 'Lifetime', 'Lion Clu', 'Lions', 'Lions C', 'Lions Club', 'Lions Club Kilimanjaro', 'Lips', 'Lisa', 'Liuwassa', 'Livin', 'Living Water International', 'Liz', 'Lizad', 'Lobosiret Village Community', 'Local', 'Local Government', 'Loliondo Parish', 'Loliondo Secondary', 'Long Ga', 'Longido Sec School', 'Loocip', 'Losaa-kia Water Supply', 'Losakia Water Supply', 'Lotary Club', 'Lotary International', 'Lottery', 'Lottery Club', 'Louise Elucas Sala', 'Lowasa', 'Luali Kaima', 'Luchelegu Primary School', 'Lugoba Primar', 'Luka', 'Luke Samaras Ltd', 'Lungwe', 'Lusajo', 'Luthe', 'Lutheran', 'Lutheran Church', 'Lvemp', 'Lvia', 'Lwf', 'Lwi', 'Lwi & Central Government', 'Lwiji Italy', 'M', 'M And P', 'Ma', 'Maajabu Pima', 'Maashumu Mohamed', 'Mac', 'Machibya Guma', 'Madaraweshi', 'Madra', 'Maendeleo Ya Maji', 'Maerere', 'Mafwimbo', 'Magadini Makiwaru Water', 'Magadini-makiwaru Water', 'Magani', 'Magati', 'Magereza', 'Magige', 'Magoma Adp', 'Magoma Adpvwc', 'Magu Food Security', 'Magufudi', 'Magul', 'Magutu Maro', 'Mahemba', 'Mahita', 'Mahiti', 'Maidia Simgaya', 'Majengo Prima', 'Maji Mengi', 'Maji Mugumu', 'Maju Mugumu', 'Makanga', 'Makanya Sisal Estate', 'Makapuchini', 'Makli', 'Makombo', 'Makona', 'Makondakonde Water Population', 'Makonde', 'Makonde Water Population', 'Makonde Water Supply', 'Makonder', 'Makori', 'Makori Nyitange', 'Makoye Masanzu', 'Makundya', 'Makuru', 'Makusa', 'Malec', 'Males', 'Maliasili', 'Malola', 'Mama', 'Mama Ku', 'Mama Mery Nagu', 'Mamad', 'Mamaz', 'Mambe', 'Mamlaka Ya Maji Ngara', 'Mamvua Kakungu', 'Mango Tree', 'Manyota Primary School', 'Manyovu Agriculture Institute', 'Mapinga Prima', 'Marafin', 'Marafip', 'Marke', 'Maro', 'Maro Kyariga', 'Marsfip', 'Marumbo Community', 'Marwa', 'Masai Land', 'Maseka Community', 'Masese', 'Mashaka', 'Masista', 'Maswi Drilling Co. Ltd', 'Mataro', 'Matata Selemani', 'Matimbwa Sec', 'Matimo Sangi', 'Matogoro', 'Matyenye', 'Mavuno Ngo', 'Maxavella', 'Mayiro', 'Mazaro Kabula', 'Mbeje', 'Mbiusa', 'Mbiuwasa', 'Mboma', 'Mboni Salehe', 'Mbozi District Council', 'Mbozi Hospital', 'Mbozi Secondary School', 'Mbunge', 'Mbunnge Mkono', 'Mbuzi Mawe', 'Mbwana Omari', 'Mbwiro', 'Mchukwi Hos', 'Md', 'Mdc', 'Mdgwc', 'Mdrdp', 'Meco', 'Medicine', 'Medicine Lumundi', 'Meko Balo', 'Mem', 'Member O', 'Member Of Parliament', 'Member Of Perliament Ahmed Ali', 'Menon', 'Menonite', 'Meru Concrete', 'Methodist Church', 'Mfuko Wa Jimbo', 'Mfuko Wa Jimbo La Magu', 'Mganga', 'Mgaya', 'Mgaya Masese', 'Mgm', 'Mgolole', 'Mh An', 'Mh Kapuya', 'Mh.Chiza', 'Mh.J S Sumari', 'Mhema', 'Mheza Distric Counc', 'Mhina', 'Mhoranzi', 'Mhuzu', 'Mi', 'Miab', 'Mianz', 'Migration', 'Mikumi G', 'Milenia', 'Mileniam Project', 'Millenium', 'Minis', 'Ministry Of Agricultura', 'Ministry Of Education', 'Ministry Of Healthy', 'Ministry Of Water', 'Minjingu', 'Miomb', 'Misana George', 'Misheni', 'Misri Government', 'Missi', 'Missio', 'Mission', 'Missionaries', 'Missionary', 'Mitema', 'Miziriol', 'Mjaka Mtumwa', 'Mkinga  Distric Cou', 'Mkinga Distric Coun', 'Mkukuta', 'Mkulima', 'Mkuluku', 'Mkumbukwa', 'Mkurugenzi', 'Mkuyu', 'Mlifa', 'Mlolwa Masanja', 'Mmanya Abdallah', 'Mmem', 'Mmg Gold Mine', 'Mnyama', 'Mnyambe', 'Mnyamisi Jumaa', 'Mombia', 'Mons.', 'Morad', 'Moradi', 'Moravian', 'Moroil', 'Morovian', 'Morovian Church', 'Morrevian', 'Morrovian', 'Moses', 'Mosha', 'Moshono Adp', 'Moslem Foundation', 'Mosque', 'Mosque Bugula', 'Mosque Pera', 'Mosqure', 'Motiba Manyanya', 'Motiba Wambura', 'Mount Meru Flowers', 'Mow', 'Mowi', 'Moyowosi', 'Moyowosi Basin', 'Mp', 'Mp Mloka', 'Mp Mzeru', 'Mrtc', 'Ms', 'Ms-danish', 'Msabi', 'Msf', 'Msf/tacare', 'Msigw', 'Msigwa', 'Msiki', 'Msikiti', 'Msikiti Masji', 'Msikitini', 'Mstiiti', 'Msudi', 'Mtambo', 'Mtc', 'Mtewe', 'Mtibwa S', 'Mtuwasa', 'Mtuwasa And Community', 'Muhameid Na', 'Muhindi', 'Muhochi Kissaka', 'Muislam', 'Muivaru', 'Mukwabi Nyeisa', 'Mungaya', 'Municipal Council', 'Muniko', 'Musilim Agency', 'Muslim Society', 'Muslim World', 'Muslimehefen International', 'Muslims', 'Muslimu Society(shia)', 'Muwasa', 'Muwsa', 'Mwakabalula', 'Mwakalinga', 'Mwakifuna', 'Mwakipesile', 'Mwalimu  Maneromango Muhenzi', 'Mwalimu Muhenza', 'Mwalimu Omari', 'Mwamama', 'Mwamvita Rajabu', 'Mwanaisha Mwidadi', 'Mwanamisi Ally', 'Mwanashila', 'Mwanasukari', 'Mwang', 'Mwanga Town Water Authority', 'Mwanza', 'Mwaya Mn', 'Mwelia Estate', 'Mwigicho', 'Mwika Lekura Water User', 'Mwingereza', 'Mwinjuma Mzee', 'Mwita', 'Mwita Kichere', 'Mwita Lucas', 'Mwita Machota', 'Mwita Mahiti', 'Mwita Muremi', 'Mwl. Nyerere Sec. School', 'Mwl.Mwita', 'Mws', 'Mzee Chacha', 'Mzee Don', 'Mzee Lesilali', 'Mzee Mabena', 'Mzee Maisha', 'Mzee Matiti Edwin', 'Mzee Mkungata', 'Mzee Moh', 'Mzee Ngwatu', 'Mzee Ole', 'Mzee Omari', 'Mzee Salum Bakari Darus', 'Mzee Sh', 'Mzee Shekhe', 'Mzee Shindika', 'Mzee Smith', 'Mzee Waziri Tajari', 'Mzee Yassin Naya', 'Mzinga A', 'Mzung', 'Mzungu', 'Mzungu Paul', 'Nado', 'Nakayama', 'Namungo Miners', 'Nasan', 'Nassan', 'Nassor Fehed', 'Natherland', 'Natio', 'National Park', 'National Rural', 'National Rural (wb)', 'National Rural And Hfa', 'Nazalet Church', 'Nazaleti', 'Nazareth Church', 'Nazareti', 'Ncaa', 'Nchagwa', 'Ncs', 'Ndanda Missions', 'Nddp', 'Ndm', 'Ndolezi', 'Ndorobo Tours', 'Ndovu Resources', 'Ndrdp', 'Nduku Village', 'Neemia Mission', 'Nerthlands', 'Nethalan', 'Nethe', 'Netherla', 'Netherland', 'Netherlands', 'New York General Meeting', 'Ngelepo Group', 'Nginila', 'Ngiresi Village Community', 'Ngo', 'Ngo Kinapa', 'Ngos', 'Ngumi', 'Nicodemu Mkumbw', 'Niger', 'Nimrodi Mkono[mb]', 'Nipon & Panoco', 'Nirad', 'Njula', 'Nk', 'Nmdc India', 'No', 'Noeli Mahobokela', 'None', 'Norad', 'Norad /government', 'Norad/ Kidep', 'Norad/ Tassaf', 'Norad/ Tassaf Ii', 'Norad/government', 'Norad/japan', 'Norad/rudep', 'Norani', 'Nordic', 'Norlad', 'Norplan', 'Norway Aid', 'Noshad', 'Noshadi', 'Not Known', 'Nrwssp', 'Nsc', 'Nssf', 'Nwssp', 'Nyabarongo Kegoro', 'Nyabasamba', 'Nyabibuye Islamic Center', 'Nyabweta', 'Nyahale', 'Nyakaho Mwita', 'Nyamasagi', 'Nyamigogo', 'Nyamingu Subvillage', 'Nyamongo Gold Mining', 'Nyamuhanga Maro', 'Nyangere', 'Nyanokwi', 'Nyanza Road', 'Nyeisa', 'Nyitamboka', 'Nytamboka', 'Nzige', 'O', \"Oak'zion' And Bugango B' Commu\", 'Obadia', 'Obc', 'Oda', 'Odc', 'Oikos', 'Oikos E .Africa/european Union', 'Oikos E.Africa/ European Union', 'Oikos E.Africa/european Union', 'Oikos E.Afrika', 'Okutu Village Community', 'Ola', 'Old Bank', 'Old Nyika Company', 'Oldadai Village Community', 'Oldonyolengai', 'Olgilai Village Community', 'Olumuro', 'Omar Ally', 'Omar Rafael', 'Omari Abdallah', 'Omary Dodo', 'Omary Issa', 'One Desk One Chair', 'One Un', 'Opec', 'Orphanage', 'Otelo Bussiness Company', 'Others', 'Othod', 'Othodox Church', 'Overland High School', 'Overnment', 'Owner Pingo C', 'Ox', 'Oxfam', 'Oxfam Gb', 'Oxfarm', 'Oxfarm Gb', 'P', 'Pad', 'Padep', 'Padep(mifugo)', 'Padi', 'Padri', 'Padri K', 'Padri Matayo', 'Paffect Mwanaindi', 'Pag Church', 'Pancra I', 'Pancrasi', 'Pangaboi Health Centre', 'Pangadeco', 'Pankrasi', 'Panone', 'Parastatal', 'Parastatal An', \"Park Kyung Youl's\", 'Partage', 'Particular', 'Paskali', 'Pataji', 'Patrick', 'Patrick Marwa', 'Patuu', 'Paulo Sange', 'Pci', 'Pdi', 'Peace Cope', 'Pema', 'Pentecost', 'Pentecosta Church', 'Pentecosta Seela', 'Pentecostal', 'Pentecostal Church', 'Pentecostal Hagana Sweeden', 'Pentekoste', 'People From Egypt', 'People From Japan', 'People Of Japan', 'People Of Sweden', 'Perusi Bhoke', 'Peter', 'Peter Mayiro', 'Peter Ngereka', 'Peter Tesha', 'Peters', 'Petro Patrice', 'Pidp', 'Piscop', 'Piscope', 'Pius Msekwa', 'Piusi', 'Plan', 'Plan Int', 'Plan Internatio', 'Plan International', 'Plan Tanzania', 'Pmo', 'Po', 'Pod', 'Poland Sec School', 'Pori La Akiba Kigosi', 'Pr', 'Presadom', 'Prf', 'Primo Zunda', 'Prince Medium School', 'Priva', 'Private', 'Private Co', 'Private Company', 'Private Individual', 'Private Individul', 'Private Institutions', 'Private Manager', 'Private Owned', 'Private Person', 'Prodap', 'Prof. Saluati', 'Professor Ben Ohio University', 'Pwagu', 'Pwc', 'Q-sem Ltd', 'Quick', 'Quick Win', 'Quick Win Project', 'Quick Win Project /council', 'Quick Win/halmashauri', 'Quick Wings', 'Quick Wins', 'Quick Wins Scheme', 'Quicklw', 'Quickwi', 'Quickwins', 'Quik', 'Quwkwin', 'Qwckwin', 'Qwekwin', 'Qwick Win', 'Qwickwin', 'Qwiqwi', 'R', 'Rada', 'Rafael', 'Rafael Michael', 'Rafik', 'Railway', 'Rajab Seleman', 'Rajabu Athumani', 'Ramadhan Dau', 'Ramadhani M. Mvugalo', 'Ramadhani Nyambizi', 'Ramsar', 'Raramataki', 'Rarymond Ekura', 'Ras', 'Rashid', 'Rashid Mahongwe', \"Rashid Seng'ombe\", 'Raurensia', 'Rc', 'Rc Cathoric', 'Rc Ch', 'Rc Churc', 'Rc Church', 'Rc Church/centr', 'Rc Mi', 'Rc Missi', 'Rc Mission', 'Rc Missionary', 'Rc Mofu', 'Rc Msufi', 'Rc Njoro', 'Rc/dwe', 'Rc/mission', 'Rcchurch', 'Rcchurch/cefa', 'Rdc', 'Rdws', 'Re', 'Red Cross', 'Redap', 'Redcross', 'Redekop Digloria', 'Redep', 'Redeso', 'Redet', 'Regina Group', 'Reginald Mengi', 'Regional Water Engineer Arusha', 'Regwa Company Of Egpty', 'Regwa Company Of Egypt', 'Rentobe', 'Resolute', 'Resolute Golden Pride Project', 'Resolute Mining', 'Resolute Mininggolden Pride', 'Revocatus Mahatane', 'Rhobi', 'Rhobi Wambura', 'Richard M.Kyore', 'Ridep', 'Rilayo Water Project', 'Ringo', 'Ripat', 'Ripati', 'Rips', 'Rished', 'Ro', 'Robert', 'Robert Kampala', 'Robert Loyal', 'Robert Mosi', 'Rocci Ross', 'Rodri', 'Romam Catholc/vil', 'Romam Catholic', 'Roman', 'Roman Ca', 'Roman Catholic', 'Roman Catholic Rulenge Diocese', 'Roman Cathoric', 'Roman Cathoric -kilomeni', 'Roman Cathoric Church', 'Roman Cathoric Same', 'Roman Cathoric-same', 'Roman Church', 'Rombo Dalta', 'Rotary', 'Rotary Club', 'Rotary Club Australia', 'Rotary Club Kitchener', 'Rotary Club Of Chico And Moshi', 'Rotary Club Of Usa And Moshi', 'Rotary I', 'Rotaty Club', 'Rotery C', 'Rotte', 'Rssp', 'Ru', 'Ruangwa Lga', 'Ruben Hunting', 'Rudep', 'Rudep /dwe', 'Rudep/dwe', 'Rudep/norad', 'Rudri', 'Rulenge Diocese', 'Rumaki', 'Runda', 'Rundu Man', 'Runduman', 'Ruped', 'Rural', 'Rural Drinking Water Supply', 'Rural Water Department', 'Rural Water Supply', 'Rural Water Supply And Sanita', 'Rural Water Supply And Sanitat', 'Rusumo Game Reserve', 'Ruthe', 'Ruvu Darajani', 'Rv', 'Rvemp', 'Rw Ssp', 'Rwi', 'Rwsp', 'Rwsso', 'Rwssp', 'Rwssp Shinyanga', 'Rwssp/wsdp', 'Rwsssp', 'S', 'S. Kumar', 'S.P.C Pre-primary School', 'S.S Mohamed', 'S.S.S', 'Sabemo', 'Sabodo', 'Saboga Bise Makori', 'Sadaqatun Jar', 'Safari Camp', 'Safari Roya', 'Sagaswe', 'Said A Alf', 'Said Hashim', 'Said Nassoro', 'Said Omari', 'Said Salum Ally', 'Saidi Halfani', 'Sakwidi', 'Salamu Kita', 'Saleh Zaharani', 'Salehe', 'Salim Ahmed Salim', 'Salim Aliamari', 'Salum Tambalizeni', 'Samlo', 'Samsoni', 'Samwel', 'Samweli', 'Samweli Kitana', 'Samweli Mshosha', 'San Pellegrino', 'Sangea District Council', 'Sanje Wa', 'Sant Sigfrigs Sweden', 'Sao H', 'Saudia', 'Sauwasa', 'Save The Rain Usa', 'Sawaka', 'Scharnhorstgymnasium', 'Scholastica Pankrasi', 'Schoo', 'School', 'School Adm9nstrarion', 'School Administration', 'School Capital', 'Scott', 'Sda', 'Sda Church', 'Sdg', 'Sdp', 'Secondary', 'Secondary Schoo', 'Segera Estate', 'Seif Ndago', 'Sekei Village Community', 'Sekondari', 'Seleman', 'Seleman Masoud', 'Seleman Rashid', 'Seleman Seif', 'Selestine Mganga', 'Selikali Ya Kijiji', 'Selous G', 'Sema', 'Sema S', 'Semaki', 'Semaki K', 'Senapa', 'Sengerema District Council', 'Sent Tho', 'Seram', 'Serena', 'Serian', 'Serikali', 'Serikali Ya Kijiji', 'Serikari', 'Serikaru', 'Seronera', 'Serving And Friends', 'Shabani Dunia', 'Shabani Mharami', 'Shamte Said', 'Shanta', 'Sharifa Athuman', 'Sharot', 'Shawasa', 'Shear Muslim', 'Shekh Said', 'Shekhe', 'Shelisheli Commission', 'Shinyanga Shallow Wells', 'Shipo', 'Shirika La Kinamama Na Watot', 'Shule', 'Shule Ya Msingi', 'Shule Ya Msingi Ufala', 'Shule Ya Sekondari Ipuli', 'Si', 'Sida', 'Sido', 'Sijm', 'Sikonge Copper Mi', 'Silinda Yetu', 'Silvester Shilingi', 'Simango Kihengu', 'Simav', 'Simavi', 'Simba Lodge', 'Simmors', 'Simon Lusambi', 'Simone', 'Sindida Yetu', 'Singasinga', 'Singida Yetu', 'Singsinga', 'Sinohydro', 'Sipdo', 'Sisa', 'Sisal Estste Hale', 'Siss M. Minghetti', 'Sister Francis', 'Sister Makulata', 'Siter Fransis', 'Siza Mayengo', 'Snv', 'Snv Ltd', 'Snv-swash', 'Sobodo', 'Socie', 'Soda', 'Soko La Magomeni', 'Solar Villa', 'Solidame', 'Solidarm', 'Soliderm', 'Songa Hospi', 'Songas', 'Songea District Council', 'Songea Municipal Counci', 'Sophia Wazir', 'Sowasa', 'Sswp', 'St', 'St Elizabeth Majengo', 'St Gasper', 'St Magreth Church', 'St Ph', 'St Savery Primary School', 'Stabex', 'Staford Higima', 'Stansilaus', 'Stantons', 'Stephano', 'Stephano Paulo', 'Steven Nyangarika', 'Stp-sustainable Tan', 'Su-ki Jang', 'Sua', 'Suasa', 'Subvillage', 'Sumbawanga Munici', 'Summit For Water', 'Sumo', 'Sumriy', 'Sun-ja Na', 'Sunamco', 'Suwasa', 'Svn', 'Sw', 'Swalehe Rajab', 'Swash', 'Sweden', 'Swedish', 'Swedish Tandala Project', 'Sweeden', 'Swidish', 'Swifti', 'Swisland/ Mount Meru Flowers', 'Swisland/mount Meru Flowers', 'Swiss If', 'Swiss Tr', 'T', 'Ta', 'Taasaf', 'Tabea', 'Taboma', 'Tabora Municipal Council', 'Tabraki', 'Tacare', 'Tackle', 'Tacri', 'Tadeo', 'Tadepa', 'Tado', 'Taees', 'Taes', 'Tag', 'Tag Church', 'Tag Church Ub', 'Tag Church Vi', \"Tag Patmo's\", 'Tahea', 'Taipo', 'Tajiri Jumbe Lila', 'Tambalizeni', 'Tanap', 'Tanapa', 'Tancan', 'Tancro', 'Tanedaps Society', 'Tanesco', 'Tanga Cement', 'Tanload', 'Tanroad', 'Tansi', 'Tanz Egypt Technical Cooper', 'Tanz/egypt Technical  Co-op', 'Tanza', 'Tanzakesho', 'Tanzaling', 'Tanzania', 'Tanzania /egypt', 'Tanzania And Egypt Cooperat', 'Tanzania Christian Service', 'Tanzania Compasion', 'Tanzania Egypt Technical Co Op', 'Tanzania Journey', 'Tanzania Na Egypt', 'Tanzania Nea Egypt', 'Tanzania/australia', 'Tarangire Park', 'Tardo', 'Tareto', 'Tasa', 'Tasad', 'Tasae', 'Tasaf', 'Tasaf 1', 'Tasaf And Lga', 'Tasaf And Mmem', 'Tasaf Ii', 'Tasaf/dmdd', 'Tasaf/tlc', 'Tasaf/village Community', 'Tasafu', 'Tasef', 'Tasf', 'Tasmin', 'Tassaf', 'Tassaf I', 'Tassaf Ii', 'Tassaf/ Danida', 'Tbl', 'Tcrs', 'Tcrs /care', 'Tcrs /government', 'Tcrs Kibondo', 'Tcrs.Tlc', 'Tcrs/care', 'Tcrs/village Community', 'Tcrst', 'Tdft', 'Tdrs', 'Teak Com', 'Team Rafiki', 'Tempo', 'Ten Degree Hotel', 'Teonas Wambura', 'Teresa Munyama', 'Tgrs', 'Tgt', 'Tgts', 'Tgz', 'The Desk And Chair Foundat', 'The Desk And Chair Foundati', 'The Isla', 'The Islamic', 'The People Of Japan', 'The Vickrey Well', 'Theo', 'Theonas Mnyama', 'Thomasi Busigaye', 'Timothy Shindika', 'Tina/africare', 'Tingatinga Sec School', 'Tirdo', 'Tkc', 'Tlc', 'Tlc/community', 'Tlc/emmanuel Kasoga', 'Tlc/jenus Malecha', 'Tlc/john Majala', 'Tlc/nyengesa Masanja', 'Tlc/samora', \"Tlc/seleman Mang'ombe\", 'Tlc/sorri', 'Tlc/thimotheo Masunga', 'Tltc', 'Tober And Friends From Austral', 'Tom', 'Tomas Kasmil', 'Toronto-estate', 'Total Land Care', 'Total Landcare', 'Totaland Care', 'Totoland', 'Totoland Care', 'Tove', 'Town Council', 'Tpp', 'Tquick Wings', 'Trach', 'Trachoma', 'Trc', 'Tredep', 'Tredsp', 'Tree Ways German', 'Treedap', 'Tridep', 'Tulawaka Gold Mine', 'Tumaini Fund', 'Tuwasa', 'Twe', 'Twende Pamoja', 'Twesa', 'Twice', 'Twig', 'Tz As', 'Tz Japan', 'Tz/japan Embass', 'U.S.A', 'Uaacc', 'Ubalozi Wa Japani', 'Ubalozi Wa Marekani', 'Ubalozi Wa Marekani/dwe', 'Udc/sema', 'Uhai Wa Mama Na Mtoto', 'Uhoranzi', 'Ukida', 'Ukiligu', 'Ulanga C', 'Umfaiswary', 'Umoja', 'Umoja Makanisa Pentekoste Tz', 'Un', 'Un Habitat', 'Un/wfp', 'Undp', 'Undp/aict', 'Undp/ilo', 'Unesco', 'Unhcr', 'Unhcr/danida', 'Unhcr/government', 'Unice', 'Unice/ Cspd', 'Unicef', 'Unicef/ Csp', 'Unicef/african Muslim Agency', 'Unicef/central', 'Unicef/cspd', 'Uniceffinida German Tanzani', 'Uniceffinidagermantanzania', 'Uniceg', 'Unicet', 'Unicrf', 'Unise', 'Uniseg', 'Unknown', 'Unp/aict', 'Upendo Primary School', 'Upper Ruvu', 'Ur', 'Urt', 'Us Embassy', 'Usa Embassy', 'Usaid', 'Usaid/wfp', 'Usambala Sister', 'Users', 'Ustawi', 'Uvimaki', 'Uwamalu', 'Uyoge', 'Vc', 'Vcw', 'Velem', 'Veo', 'Vgovernment', 'Vi', 'Vicfish', 'Vicfish Ltd', 'Vickfis', 'Vifaf', 'Vifafi', 'Vififi', 'Villa', 'Villaers', 'Village', 'Village Authority', 'Village Committee', 'Village Communi', 'Village Community', 'Village Contributio', 'Village Council', 'Village Council/ Haydom Luther', 'Village Council/ Rose Kawala', 'Village Fou', 'Village Fund', 'Village Gover', 'Village Government', 'Village Govt', 'Village Office', 'Village Res', 'Village Water Commission', 'Villager', 'Villagers', 'Villagers Mpi', 'Villages', 'Villege Council', 'Villegers', 'Villlage Contributi', 'Vn', 'Vodacom', 'Vttp', 'Vunjo Sekondari', 'Vw', 'Vwc', 'Vwcvc', 'Vwcvwc', 'Vwt', 'W', 'W.B', 'W.C.S', 'W.D &', 'W.D & I.', 'W.D.&.I.', 'W.F.D.P', 'W0rld  Bank', 'Wafidhi Wa Ziwa T', 'Waheke', 'Wahidi', 'Waingereza', 'Waitaliano', 'Wajerumani', 'Walokole', 'Wama', 'Wamakapuchini', 'Wamarekani', 'Wame Mbiki', 'Wamisionari Wa Kikatoriki', 'Wamissionari Wa Kikatoriki', 'Wanakijiji', 'Wanan', 'Wananchi', 'Wanginyi Water', 'Wards', 'Warento', 'Wate Aid/sema', 'Water', 'Water /sema', 'Water Aid /sema', 'Water Aid/dwe', 'Water Aid/sema', 'Water Authority', 'Water Board', 'Water Department', 'Water Of Water', 'Water Project Mbawala Chini', 'Water Se', 'Water Sector Development', 'Water User As', 'Water User Associat', 'Water User Group', 'Wateraid', 'Watoto Foundation', 'Watu Wa Marekani', 'Watu Wa Ujerumani', 'Wazieni Bilangali', 'Wb / District Council', 'Wbk', 'Wcst', 'Wd And Id', 'Wdp', 'Wdsp', 'Weepers', 'Wfp', 'Wfp/tnt', 'Wfp/tnt/usaid', 'Wfp/usaid', 'Wfp/usaid/tnt', 'William Acleus', 'Williamson Diamond Ltd', 'Wilson', 'Wingeti Safari', 'Winkyens', 'Wirara Ya Maji', 'Wise-usa', 'Wizara', 'Women Fo Partnership', 'Women For Partnership', 'World Bank', 'World Bank/government', 'World Vision', 'World Vision/ Kkkt', 'World Vision/adra', 'World Vision/rc Church', 'Worldvision', 'Woyege', 'Wrssp', 'Wsdo', 'Wsdp', 'Wsdp & Sdg', 'Wspd', 'Wssp', 'Wua', 'Wua And Ded', 'Wug And Ded', 'Wvc', 'Wvt', 'Wvt Nakombo Adp', 'Wwf', 'Wwf / Fores', 'Yaole', 'Yasi Naini', 'Yasini', 'Yasini Selemani', 'Zaben', 'Zaburi And Neig', 'Zao', 'Zao Water Spring', 'Zao Water Spring X', 'Zara Camp', 'Zinduka', 'Zingibali Secondary', 'nan']\n"
          ]
        }
      ]
    },
    {
      "cell_type": "code",
      "metadata": {
        "id": "V0tv78rVPXT0"
      },
      "source": [
        "df['funder'].replace(to_replace=('0', 'nan', None), value='other', inplace=True)"
      ],
      "execution_count": null,
      "outputs": []
    },
    {
      "cell_type": "code",
      "metadata": {
        "colab": {
          "base_uri": "https://localhost:8080/"
        },
        "id": "vSJVyiI1PXT1",
        "outputId": "eb18b7eb-e02e-485d-86d3-68d87f755531"
      },
      "source": [
        "installer_l = list(map(str,df[\"installer\"].unique()))\n",
        "installer_l.sort()\n",
        "print(installer_l)"
      ],
      "execution_count": null,
      "outputs": [
        {
          "output_type": "stream",
          "name": "stdout",
          "text": [
            "['-', '0', 'A.D.B', 'AAR', 'ABASIA', 'ABD', 'ABDALA', 'ABDUL', 'AC', 'ACORD', 'ACRA', 'ACT', 'ACT MARA', 'ACTION AID', 'ACTION Aid', 'ACTIVE TANK CO', 'ACTIVE TANK CO LTD', 'AD', 'ADAP', 'ADB', 'ADP', 'ADP Busangi', 'ADRA', 'ADRA /Government', 'ADRA/Government', 'AF', 'AFRICA', 'AFRICA MUSLIM', 'AFRICAN DEVELOPMENT FOUNDATION', 'AFRICAN REFLECTIONS FOUNDATION', 'AGRICAN', 'AGRIKANA', 'AI', 'AIC', 'AIC KI', 'AICT', 'AIMGGOLD', 'AIMGOLD', 'AIXOS', 'ALIA', 'ALLYS', 'AMP Contract', 'AMP Contracts', 'AMP contractor', 'AMREF', 'ANGLI', 'ANGLIKANA CHURCH', 'ANGRIKANA', 'ANREF', 'ANSWAR', 'APM', 'AQAL', 'AQUA BLUES ANGELS', 'AQUA WEL', 'AQUA Wat', 'AQUA Wel', 'AQUAL', 'AQUARMAN DRILLERS', 'ASDP', 'ATIGH BUILDINGS', 'ATT/Total land care', 'AUSTRALIA', 'AUWASA', 'AVEDA', 'Aartisa', 'Abdallah Ally Wazir', 'Abdi Mtili', 'Abraham Palanjo', 'Accra', 'Action Aid', 'Action Contre La Faim', 'Action Contre la Faim', 'Active KMK', 'Active MKM', 'Adam', 'Adam Kea', 'Adam mualuaka', 'Adra', 'Adra /Community', 'Adra/ Community', 'Adra/Community', 'Adrs', 'Af', 'Africa', 'Africa Amini Alama', 'Africa Islamic Agency Tanzania', 'Africa M', 'Africa Muslim Agenc', 'Africa Muslum Agence Tanzania', 'African Mus', 'African Muslims Age', 'African Realief Committe of Ku', 'Africaone', 'Africaone Ltd', 'Africare', 'Afroz Ismail', 'Ahmad', 'Al Ha', 'Alex moyela', 'Altai Co. ltd', 'Amadi', 'Amari', 'Amboni Plantation', 'Amboni plantation', 'Ambrose', 'Amec', 'American', 'American people', 'Amref', 'Angli', 'Anglica Church', 'Anglican', 'Anglican Church', 'Anglican Uganda', 'Anglican church', 'Anglikan', 'Anglikana', 'Angrican', 'Angrikana', 'Ansnani Murij', 'Answar', 'Aqual', 'Aqwaman Drilling', 'Ar', 'Arab community', 'Arabs Community', 'Ardhi Instute', 'Ardhi Water Wells', 'Ardhi Water well', 'Ardhi and PET Companies', 'Ardhi water well', 'Arisan', 'Arrian', 'Artisan', 'Artsan', 'Aswar', 'Athumani  Janguo', 'Athumani Issa', 'Athumani Swaleh', 'Atisan', 'Atlan', 'Atlas', 'Atlas Company', 'Atufigwege mwahula', 'B.A.P', 'BABTEST', 'BALYEH', 'BAPTIST CHURCH', 'BAPTIST CHURCH OF TANZANIA', 'BATIST CHURCH', 'BEMANDA', 'BENGUKA', 'BESADA', 'BESADO', 'BFFS', 'BGM', 'BGSS', 'BILILA', 'BIORE', 'BKHWS', 'BOAZI', 'BOMA SAVING', 'BR', 'BRA', 'BRUDER', 'BSF', 'BUKUMB', 'BUMABU', 'Baadela', 'Babu Sajin', 'Babu Sajini', 'Bahresa', 'Banane', 'Bao', 'Baric', 'Barry A. Murphy', 'Barry A.Murphy', 'Belgiam Government', 'Belgij', 'Ben Kapiligi', 'Benjamin', 'Bhoke Mwita', 'Bi Ndizi', 'Billy Phillips', 'Bingo foundation', 'Bingo foundation Germany', 'Bint', 'BioRe', 'Biore', 'Birage', 'Bobby', 'Bokera W', 'Boni', 'Bonite Bottles Ltd', 'Brad', 'Bridge north', 'Britain', 'British', 'British colonial government', 'British government', 'Buguba', 'Building works Company Ltd', 'Building works company Ltd', 'Building works engineering Ltd', 'Bulyahunlu Gold Mine', 'Buruba', 'Busoga trust', 'C', 'CALTAZ KAHAMA', 'CANACO', 'CAP', 'CARE', 'CARE/CIPRO', 'CARE/CRC', 'CARITAS', 'CARTAS', 'CARTAS Tanzania', 'CBHCC', 'CCEC', 'CCP', 'CCPK', 'CCPS', 'CCT', 'CDT', 'CDTF', 'CEFA', 'CEFA/ Rc church', 'CEFA/rc church', 'CENTRAL GOVERNMENT', 'CES', 'CF Builders', 'CG', 'CG/RC', 'CGI', 'CH', 'CHANDE CO', 'CHANI', 'CHELA', 'CHENI', 'CHINA', 'CHINA Co.', 'CHINA HENAN CONSTRUCTION', 'CHINA HENAN CONSTUCTION', 'CHINA HENAN CONTRACTOR', 'CHONJA CHARLES', 'CHRISTAN OUTRICH', 'CHRISTIAN OUTRICH', 'CHURC', 'CI', 'CIP', 'CIPRO', 'CIPRO/CARE', 'CIPRO/CARE/TCRS', 'CIPRO/Government', 'CITIZEN ENGINE', 'CJEJ0', 'CJEJOW', 'CJEJOW CONSTRUCTION', 'CMSR', 'COBASHEC', 'COCANE', 'COCU', 'COEK', 'COEW', 'COICA', 'COMMU', 'COMMUNITY', 'COMMUNITY BANK', 'COMPASION INTERNATIO', 'CONCE', 'CONCERN', 'CONS', 'COSMOS ENG LTD', 'COUN', 'COW', 'COWI', 'COYI', 'CPPS wat', 'CPRO', 'CRAELIUS', 'CRDB', 'CRISTAN OUTRICH', 'CRS', 'CSPD', 'CUSO', 'CVS Miss', 'Caltas', 'Caltus', 'Calvary connection', 'Camartec', 'Canada na Tanzania', 'Canop', 'Care  international', 'Care international', 'Carmatech', 'Cast', 'Cathoric', 'Ce', 'Cebtral Government', 'Cefa', 'Cental Government', 'Centr', 'Centra Government', 'Centra govt', 'Central Government', 'Central basin', 'Central government', 'Central government/TLC', 'Central govt', 'Cetral government /RC', 'Ch', 'Chaboke contractor', 'Chacha', 'Chacha Issame', 'Chama cha Ushirika', 'Chamavita', 'Charlotte Well', 'Chiko', 'Chiko Inn', 'Childreach', 'Childreach international', 'China', 'Chinese', 'Christina Magoge', 'Christopher', 'Chuo', 'Chur', 'Churc', 'Church', 'Church Of Disciples', 'Cida', 'Clause workers', 'Claver', 'Co', 'College', 'Colonial Government', 'Colonial government', 'Colonies', 'Colony', 'Commu', 'Commun', 'Communit', 'Community', 'Compa', 'Company', 'Comunity', 'Conce', 'Concen', 'Concern', 'Concern /government', 'Concern/Government', 'Cons', 'Conso', 'Consultant', 'Consultant Engineer', 'Consultant and DWE', 'Consulting Engineer', 'Consulting engineer', 'Consuting Engineer', 'Conta', 'Contr', 'Cosmo', 'Cosmos Engineering', 'Cotra', 'Coun', 'Counc', 'Council', 'Crety', 'Cultus', 'D', 'D SIMBA', 'D$L', 'DA', 'DADIS', 'DADP', 'DADS', 'DADS/Village community', 'DADS/village Community', 'DADS/village community', 'DAE AL BER_UAE', 'DAK', 'DALDO', 'DANIAD', 'DANID', 'DANIDA', 'DANIDA CO', 'DANIDS', 'DANNIDA', 'DANNY', 'DAR ES SALAAM ROUND TABLE', 'DARDI', 'DARDO', 'DASIP', 'DASP', 'DASSIP', 'DAWAS', 'DAWASA', 'DAWASCO', 'DAWE', 'DBFPE', 'DBSP', 'DBSPE', 'DCCA', 'DCT', 'DDCA', 'DDCA CO', 'DDP', 'DDSA', 'DE', 'DE &', 'DED', 'DEE', 'DENISH', 'DESK', 'DESK A', 'DESK C', 'DESK a', 'DEW', 'DFID', 'DH', 'DHV', 'DHV Moro', 'DIMON', 'DIOCESE OF MOUNT KILIMANJARO', 'DISTRICT COUNCIL', 'DIWANI', 'DMDD', 'DMDD/SOLIDER', 'DMK', 'DMMD', 'DO', 'DODDEA', 'DSP', 'DSPU', 'DSV', 'DUNDA', 'DUWAS', 'DV', 'DW', 'DW E', 'DW#', 'DW$', 'DWE', 'DWE & LWI', 'DWE /TASSAF', 'DWE&', 'DWE/', 'DWE/Anglican church', 'DWE/TASSAF', 'DWE/Ubalozi wa Marekani', 'DWEB', 'DWE}', 'DWR', 'DWSP', 'DWT', 'DWW', 'Da', 'Danda', 'Danid', 'Danida', 'Daniel', 'Dar es salaam Technician', 'Dawasco', 'Deogra', 'Desk and chair foundation', 'Deus Ndege', 'Dhinu', 'Di', 'Dina', 'Diocese of Geita', 'Distri', 'Distric Water Department', 'District  Council', 'District COUNCIL', 'District Community j', 'District Counci', 'District Council', 'District Water Department', 'District council', 'District water depar', 'District water department', 'Diwani', 'Dmdd', 'Do', 'Dokta Mwandulami', 'Domnik', 'Dr. Matobola', 'Dr. Matomola', 'Dr. Natomola', 'Dr.Matobola', 'Dr.Matomola', 'Dwe', 'Dydrotec', 'E ETO', 'EA', 'EAGT Church', 'ECO LODGE', 'EF', 'EFAM', 'EFG', 'EGYPT', 'EGYPT REGWA', 'EL', 'ELCA', 'ELCT', 'EMANDA', 'EMANDA BUILDERS', 'EMAYO', 'ENGINEERS WITHOUT BORDER', 'ENO', 'ERETO', 'ESAWA', 'EWE', 'Eastmeru medium School', 'Edward', 'Efarm', 'Egypt Government', 'Egypt Technical Co Operation', 'Elias Mahemba', 'Elina', 'Elius Chacha', 'Eliza', 'Embasy of Japan in Tanzania', 'Emmanuel Kiswagala', 'Emmanuel kitaponda', 'Engarasero villagers', 'Engin', 'Envirocare', 'Enyuati', 'Enyueti', 'Ester Ndege', 'European Union', 'Exaud Msambwa', 'F', 'FAO', 'FARM', 'FARM-AFRICA', 'FAUSTINE', 'FIDA', 'FILEX MUGANGA', 'FIN WATER', 'FINI WATER', 'FINI Water', 'FINIDA', 'FINLAND', 'FINN WATER', 'FINWATER', 'FLORESTA', 'FOLAC', 'FPCT', 'FPCT Church', 'FPTC', 'FRANKFURT', 'FRESH WATER PLC ENGLAND', 'FRIENDS CHURCH', 'FURAHIA TRADING', 'FW', 'Fabia', 'Farm 17 Secondary', 'Farm Africa', 'Fathe', 'Faudh Tamimu', 'FiNI WATER', 'Filber', 'Fin Water', 'Fin water', 'FinW', 'FinWate', 'FinWater', 'FinWter', 'Fini Water', 'Fini water', 'Finland Government', 'Finwater', 'Foreigne', 'Free Pentecoste Church of Tanz', 'Frida mokeki', 'Friedkin conservation fund', 'Friend from UN', 'G.D&I.D', 'GACHUMA CONSTRUCTION', 'GACHUMA GINERY', 'GAICA', 'GD&ID', 'GDP', 'GEN', 'GEOCHAINA', 'GEOTAN', 'GERMAN', 'GERMAN MISSIONARY', 'GERMAN MISSIONSRY', 'GERMANY MISSIONARY', 'GETDSC00', 'GGM', 'GIDA contractor', 'GIDION JOSEPH', 'GLOBAL RESOURCE CO', 'GLOBAL RESOURCE CONSTRUCTION', 'GOLDFINDER', 'GOVER', 'GOVERM', 'GOVERN', 'GOVERNME', 'GOVERNMENT', 'GRA', 'GRA TZ MUSOMA', 'GREINAKER', 'GREINEKER', 'GRUMENTI', 'GRUMET', 'GRUMETI', 'GRUMETI SINGITA', 'GTZ', 'GURUMETI SAGITA', 'GURUMETI SAGITA CO', 'Ga', 'Gain', 'Geita Goldmain', 'George', 'George Hekwe', 'George mtoto', 'George mtoto company', 'Gerald', 'Gerald Mila', 'Germany', 'Gesine', 'Getekwe', 'Go', 'Gold star', 'Goldmain', 'Goldstar', 'Goldwill  foundation', 'Got', 'Gove', 'Gover', 'Governme', 'Governmen', 'Government', 'Government /Community', 'Government /SDA', 'Government /TCRS', 'Government /World Vision', 'Government and Community', 'Government of Misri', 'Government/TCRS', 'Grail Mission', 'Grail Mission Kiseki bar', 'Great Lakes', 'Greec', 'Green', 'Grobal resource  alliance', 'Grobal resource alliance', 'Grumeti fund', 'Gtz', 'Gwasco', 'Gwasco L', 'Gwaseco', 'H', 'H/kijiji', 'H4CCP', 'HAAM', 'HAIDOMU LUTHERAN CHURCH', 'HAM', 'HAPA', 'HAPA SINGIDA', 'HASHI', 'HAYDOM LUTHERAN HOSPITAL', 'HDV', 'HE', 'HEESAW', 'HESAW', 'HESAWA', 'HESAWQ', 'HESAWS', 'HESAWZ', 'HIAP', 'HIMA', 'HJK CO LTD', 'HKPD Babati', 'HOLAND', 'HOLLAND', 'HOTEL AND LODGE TANZANIA', 'HOTELS AND LOGGS TZ LTD', 'HOWARD HUMFREYS', 'HPA', 'HSW', 'HW/RC', 'Ha', 'Hadija Makame', 'Halimashauli', 'Halmashaul', 'Halmashauli', 'Halmashaulu ya Tarime', 'Halmashauri', 'Halmashauri wilaya', 'Halmashauri ya manispa  tabora', 'Halmashauri ya manispa tabora', 'Halmashauri ya manispaa', 'Halmashauri ya mburu', 'Halmashauri ya wilaya', 'Halmashauri ya wilaya sikonge', 'Halmashauri/Quick win project', 'Hamis Makombo', 'Hamisi Fidia', 'Handeni Trunk Main', 'Handeni Trunk Main(', 'Hanja', 'Hanja Lt', 'Hans', 'Happy watoto foundation', 'Hasawa', 'Hasnein Murij', 'Healt', 'Hearts helping hands.Inc.', 'Hemed Abdalkah', 'Hemed Abdallah', 'Hemed Islam', 'Henure Dema', 'Heri mission', 'Hery', 'HesaWa', 'Hesawa', 'Hesawz', 'Hesewa', 'Hilfe Fur Bruder', 'Hindu', 'Holili water supply', 'Holland', 'Hospi', 'Hospital', 'Howard and Humfrey Consultants', 'Howard and humfrey consultant', 'Huches', 'Humfreys Co', 'Hussein Ayubu', 'Hydom Luthelani', 'Hydrotec', 'I.E.C', 'IADO', 'ICAP', 'ICF/TWESA', 'ICS', 'IDARA', 'IDC', 'IDEA', 'IDYDC', 'IFAD', 'IHEHANA', 'ILCT', 'IN', 'INDIVIDUAL', 'INDIVIDUALS', 'IRAN GOVERN', 'IRC', 'IREVEA SISTER', 'IS', 'ISF', 'ISF / TASAFF', 'ISF and TACARE', 'ISF/Government', 'ISF/TACARE', 'ISSAA KANYANGE', 'ISSAC MOLLEL', 'ISSAC MOLLEl', 'ITALI', 'IUCN', 'Icf', 'Idara ya Maji', 'Idara ya maji', 'Ifakara', 'Igolola community', 'Ikela Wa', 'Ilaramataki', 'Ilolangulu water supply', 'Ilwilo community', 'In', 'Indi', 'India', 'Indiv', 'Individual', 'Individual person', 'Individuals', 'Insititutiona', 'Institution', 'Institutional', 'Inter', 'Internal Drainage Basin', 'International Aid Services', 'Inves', 'Ir', 'Is', 'Isaboga', 'Islam', 'Islamic', 'Islamic Agency Tanzania', 'Islamic community', 'Issa Mohamedi Tumwanga', 'Italian government', 'Italy government', 'J LH CO LTD', 'J mal Abdallah', 'J. Mc', 'JACKS', 'JACKSON MAHAMBO', 'JAIC', 'JAICA', 'JAICA CO', 'JALCA', 'JANDU', 'JANDU PLUMBER', 'JANDU PLUMBER  CO', 'JANDU PLUMBER CO', 'JAPAN', 'JAPAN EMBASSY', 'JAWABU', 'JBG', 'JESHI LA WOKOVU', 'JHL CO LTD', 'JI', 'JICA', 'JIKA', 'JLH CO LTD', 'JSICA', 'JUIN', 'JUIN  CO', 'JUIN CO', 'JUINE CO', 'JWTZ', 'Ja', 'Jacks', 'Jackson Makore', 'Jafary Mbaga', 'Jaica', 'Jandu', 'Japan', 'Japan Government', 'Jeica', 'Jerem', 'Jeshi la Wokovu', 'Jeshi la wokovu', 'Jeshi la wokovu [cida]', 'Jica', 'Jicks', 'Jika', 'Jiks', 'Jimmy', 'John gemuta co', 'John kiminda co', 'Joseph nkunda', 'Ju', 'Judge Mchome', 'Juma', 'Juma Makulilo', 'Juma Maro', 'Juma Mwikabe', 'Juma Ndege', 'Jumaa', 'Jumanne', 'Jumanne Siabo', 'Jumuhia', 'Jumuiya', 'Justine Marwa', 'K', 'K/Primary', 'KA', 'KADP', 'KAEM', 'KAEMP', 'KAGERA MINE', 'KANISA', 'KARUMBA BIULDIN', 'KARUMBA BIULDING COMPANY LTD', 'KARUMBA BIULDING CONTRACTOR', 'KARUMBA BUILDING COMPANY LTD', 'KASHERE', 'KASHWA', 'KAWINGA', 'KAYEMPU LTD', 'KC', 'KDC', 'KDPA', 'KEREBUKA', 'KIBO', 'KIDIJAS', 'KIDP', 'KILANGANI CO', 'KILI WATER', 'KILL WATER', 'KIM KIM CONSTRUCTION', 'KIMKUM', 'KINAPA', 'KISIRIRI ADP', 'KIUMA', 'KK', 'KKKT', 'KKKT CHURCH', 'KKKT CHURCH S', 'KKKT Canal', 'KKKT DME', 'KKKT Imbaseny', 'KKKT Katiti juu', 'KKKT Kilinga', 'KKKT Kolila', 'KKKT Leguruki', 'KKKT MAREU', 'KKKT Mso', 'KKKT Ndrumangeni', 'KKKT Yeriko', 'KKKT _ Konde and DWE', 'KKKT-Dioces ya Pare', 'KKT', 'KKT C', 'KKT c', 'KMCL', 'KMT', 'KOBERG', 'KOBERG Contractor', 'KOCA', 'KOEC', 'KOICA', 'KONOIKE', 'KOREA', 'KORKONEL', 'KOWI', 'KOYI', 'KTA C', 'KU', 'KULWA', 'KUMKUM', 'KURRP', 'KUWAIT', 'KUWASA', 'KWIKWIZ', 'KYASHA', 'KYASHA ENTERPR', 'KYASHA ENTREPR', 'KYELA-MOROGORO', 'KYELA_MOROGORO', 'Kaembe', 'Kagulo', 'Kagunguli Secondary', 'Kahema', 'Kajima', 'Kalago enterprises Co.Ltd', 'Kalago enterprises co.ltd', 'Kalebezo Parish', 'Kalitasi', 'Kalitesi', 'Kalta', 'Kalugendo', 'Kalumbwa', 'Kaluwike', 'Kamama', 'Kamata project', 'Kambi Migoko', 'Kanamama', 'Kando', 'Kanisa', 'Kanisa katoliki', 'Kanisa la TAG', 'Kanisani', 'Kapelo', 'Karugendo', 'Kassim', 'Kata', 'Kauzeni', 'Ki', 'Kibaha Town Council', 'Kibo potry', 'Kidika', 'Kigoma municipal', 'Kigwa', 'Kijiji', 'Kikom', 'Kiliflora', 'Kilimarondo Parish', 'Kiliwater', 'Kiliwater r', 'Killflora /Community', 'Killflora/ Community', 'Kilol', 'Kilolo Star', 'Kilomber', 'Kilwa company', 'Kilwater', 'Kindoroko water project', 'Kinga', 'Kirdep', 'Kitiangare village community', 'Kitukuni water supply', 'Kiwanda cha Ngozi', 'Kizenga', 'KkKT', 'Kkkt', 'Ko', 'Kokeni', 'Konoike', 'Korogwe water works', 'Kuamu', 'Kuji foundation', 'Kuwait', 'Kuwaiti', 'Kuweit', 'Kuwit', 'Kwamdulu estate', 'Kwasenenge Group', 'Kwiboni', 'Kyagoka', 'Kyariga', 'L', 'LAMP', 'LC', 'LDEP', 'LEI', 'LENCH', 'LGA', 'LGA an', 'LGCDG', 'LGQ', 'LGSP/DWE', 'LINDALA CO', \"LION'S\", 'LIPS', 'LIUWASSA', 'LIVI', 'LIZAD', 'LOCAL CONTRACT', 'LOLMOLOKI', 'LOMOLOKI', 'LONGIDO SEC SCHOOL', 'LOOCIP', 'LUKE SAMARAS LTD', 'LUNGWE', 'LUWASSA', 'LVA Ltd', 'LVIA', 'LWI', 'LWI &CENTRAL GOVERNMENT', 'Laizer', 'Laramatak', 'Latifu', 'Laurian rafaeli', 'Lawate fuka water su', 'Lawatefuka water sup', 'Leef Gold Mining', 'Lench', 'Leopad Abeid', 'Lga', 'Li', 'Linda', 'Lindi contractor', 'Lindi rural water department', \"Lion's\", \"Lion's club\", 'Lions', 'Lions club kilimanjaro', 'Livi', 'Living water international', 'Local', 'Local  technician', 'Local Fundi', 'Local government', 'Local l technician', 'Local te', 'Local technical', 'Local technical tec', 'Local technician', 'Local technitian', 'Locall technician', 'Localtechnician', 'Loliondo Parish', 'Losa-kia water suppl', 'Losaa-Kia water supp', 'Losakia water supply', 'Luali Kaima', 'Luka', 'Luleka', 'Luthe', 'Lutheran', 'Lutheran Church', 'M', 'M and P', 'MA', 'MACK DONALD CO LTD', 'MACK DONALD CONTRACTOR', 'MACK DONALD CONTRSCTOR', 'MAIDIA Simgaya', 'MAISHULE', 'MAIVARU', 'MAJ MUGUMU', 'MAJI MUGUMU', 'MAJI MUGUU', 'MAJI TECH', 'MAJIJA CHARLES', 'MAKAMA CONSTRUCTION', 'MAKE ENGINEERING', 'MAMA MARIA', 'MAMAD', 'MANDIA CONSTRUCTION', 'MANGO TREE', 'MANYARA CONSTRUCTION', 'MARAFIN', 'MARAFIP', 'MASAI LAND', 'MASU COMPANY', 'MASWI', 'MASWI CO', 'MASWI COMPANY', 'MASWI DRILL', 'MASWI DRILLING', 'MASWI DRILLING CO. LTD', 'MAZI INVESTMENT', 'MBIUSA', 'MBIUWASA', 'MBOMA', 'MBULI CO', 'MBULU DISTRICT COUNCIL', 'MBUZI MAWE', 'MBWAMBO', 'MCHOME', 'MD', 'MDALA  Contractor', 'MDALA Contractor', 'MDRDP', 'MDRD_', 'MECO', 'MEM', 'METHODIST CHURCH', 'MGM', 'MH Kapuya', 'MI', 'MIAB', 'MIDA', 'MINISTRY OF EDUCATION', 'MINISTRY OF WATER', 'MINISTRYOF WATER', 'MINJINGU', 'MISHENI', 'MISS', 'MISSION', 'MKON CONSTRUCTION', 'MKONG CONSTRUCTION', 'MKONGO BUILDING CONTRACTOR', 'MKONGO CONSTRUCTION', 'MKUKUTA', 'ML appro', 'MLADE', 'MLAKI  CO', 'MLAKI CO', 'MMG GOLD MINE', 'MORNING CONSTRUCTION', 'MOSES', 'MOSQUE', 'MP', 'MP Mloka', 'MREMI CONTRACTOR', 'MS', 'MSABI', 'MSF', 'MSF/TACARE', 'MSIGWA', 'MSIKIT', 'MSIKITI', 'MSJI MUGUMU', 'MSUKWA CONSTRUCTION COMPANY', 'MTAMBO', 'MTC', 'MTN', 'MTUI', 'MTUWASA', 'MTUWASA and Community', 'MUSLIMEHEFEN INTERNATIONAL', 'MUWASA', 'MUWSA', 'MW', 'MWAKI CONTRACTO', 'MWAKI CONTRACTOR', 'MWANZA', 'MWE', 'MWE &', 'MWL NGASSA', 'MWS', 'Ma', 'Machibya', 'Mackd', 'Madra', 'Maendeleo ya jamii', 'Maerere', 'Magadini Makiwaru wa', 'Magadini-Makiwaru wa', 'Magani', 'Magati', 'Magereza', 'Magoma ADP', 'Magul', 'Magutu Maro', 'Mahemba', 'Mahita', 'Mahiti', 'Maji Tech', 'Maji block', 'Maji mengi', 'Maji mugumu', 'Maji tech Construction', 'Makala', 'Makanya Sisal Estate', 'Makonde', 'Makonde water Population', 'Makonde water Supply', 'Makonde water population', 'Makonde water supply', 'Makori', 'Makoye', 'Makundya', 'Makuru', 'Makusa', 'Malec', 'Males', 'Maliasili', 'Mama Agnes Kagimbo', 'Mama Hamisa', 'Mama Kalage', 'Mama Kapwapwa', 'Mama joela', 'Mamaz', 'Mambe', 'Mamlaka ya maji ngara', 'Mamvua Kakungu', 'Manyota primary School', 'Manyovu Agriculture Institute', 'Mara inter product', 'Marafip', 'Maria Kala', 'Marijan Ally Dadi', 'Mark', 'Marke', 'Maro', 'Martha Emanuel', 'Marti', 'Marumbo Community', 'Marwa', 'Maseka community', 'Masele Nzengula', 'Masese', 'Mashaka M', 'MasjId Takuar', 'Masjid', 'Masjid Nnre', 'Maswi', 'Maswi Company', 'Maswi company', 'Maswi drilling co ltd', 'Matala', 'Mataro', 'Matiiti', 'Matimo Sangi', 'Matogoro', 'Matyenye', 'Max Mbise', 'Mayiro', 'Mbozi District Council', 'Mbozi Hospital', 'Mbozi Secondary School', 'Mbunge', 'Mbunge / District Council', 'Mbunnge Mkono', 'Mbusi Mwita', 'Mbwiro', 'Mchuk', 'Mdala Contractor', 'Megis', 'Member of Perliament Ahmed Ali', 'Menonite', 'Meru Concrete', 'Mgaya', 'Mgaya Masese', 'Mgaya Mwita', 'Mgolole', 'Mh Kapuya', 'Mh.chiza', 'Mhema', 'Mi', 'Mianz', 'Milenia', 'Mileniam', 'Mileniam project', 'Milenium', 'Ministry of Healthy', 'Ministry of water', 'Ministry of water engineer', 'Miomb', 'Misana george', 'Misri Government', 'Missi', 'Missio', 'Mission', 'Missionaries', 'Missionary', 'Miziriol', 'Mjaka Mtumwa', 'Mketo', 'Mkulima', 'Mkuluku', 'Mkuyu', 'Mlowa', 'MoWI', 'Mohamad Masanga', 'Mohamed Ally', 'Mohamed shiyo', 'Mokiri Mwita', 'Mombia', 'Mombo urban  water', 'Mombo urban water', 'Mombo urban water s', 'Monmali', 'Moravian', 'Moroil', 'Morovi', 'Morovian', 'Morovian Church', 'Morovian church', 'Morrevian', 'Morrov', 'Morrovian', 'Mosha', 'Moshono ADP', 'Mosque', 'Mosque Bugula', 'Mosqure', 'Motiba Manyanya', 'Mount meru flowers', 'Moyowosi', 'Mpang', 'Mpango wa Mwisa', 'Mr Chi', 'Mr Jenifred Mbunda', 'Mr Jul', 'Mr Kas', 'Mr Kwi', 'Mr Luo', 'Mr Sau', 'Mrish', 'Msabi', 'Msagin', 'Msig', 'Msiki', 'Msikiti', 'Msikitini', 'Msuba', 'Msudi', 'Mtewe', 'Mtwara Technician', 'Mu', 'Muham', 'Muhindi', 'Muhochi Kissaka', 'Mukwabi Nyeisa', 'Mungaya', 'Municipal', 'Municipal Council', 'Musa', 'Muslims', 'Muslimu Society(Shia)', 'Muwaza', 'Mviwa', 'Mw', 'Mwakabalula', 'Mwalimu  Muhenza', 'Mwalimu  Muhenzi', 'Mwamama', 'Mwamvita Rajabu', 'Mwanamisi Ally', 'Mwananchi Engineeri', 'Mwanasukari', 'Mwang', 'Mwanga town water authority', 'Mwibal', 'Mwigicho', 'Mwika Lekura Water User', 'Mwita Lucas', 'Mwita Machoa', 'Mwita Mahiti', 'Mwita Muremi', 'Mwl. Nyerere sec. school', 'Mwl. Nyerere sec.school', 'Mwl.Mwita', 'Mzee Chacha', 'Mzee Kizunda', 'Mzee Maisha', 'Mzee Ole', 'Mzee Omari', 'Mzee Salum Bakari Darus', 'Mzee Shekhe', 'Mzee Smith', 'Mzee Waziri Tajari', 'Mzee Yassin Naya', 'Mzee matiti edwin', 'Mzinga A', 'Mzung', 'Mzungu', 'Mzungu Paul', 'N.P.R.', 'NAFCO', 'NANRA contractor', 'NCAA', 'NDDP', 'NDM', 'NDRDP', 'NG', 'NGEYE', 'NGINIL', 'NGO', \"NGO'S\", 'NIRAD', 'NJOOCHO MASAINE', 'NJOONJOO', 'NMDC INDIA', 'NORA', 'NORAD', 'NORAD/', 'NSC', 'NSSF', 'NWE', 'NYAHALE', 'NYAKILANGANI', 'NYAKILANGANI  CO', 'NYAKILANGANI CO', 'NYAKILANGANI CONSTRUCTION', 'NZILA', 'Nairobi company', 'Naishu Construction Co. ltd', 'Naishu construction co. ltd', 'Naishu construction co.ltd', 'Nampapanga', 'Nampopanga', 'Nampupanga', 'Namungo', 'Nandra Construction', 'Napupanga', 'Nasan workers', 'Nassan workers', 'Nassor Fehed', 'Nathal Hamadi', 'Natio', 'Ncaa', 'Nchagwa', 'Ndanda missions', 'Nduku village', 'Neemia mission', 'Nerthlands', 'Netherlands', \"Ng'omango\", 'Ngelepo group', 'Ngiresi village community', 'Nice', 'Niger', 'Nimrod Mkono[mb]', 'Njula', 'No', 'Norad', 'Norani', 'North', 'Noshad', 'Noshadi', 'Not kno', 'Not known', 'Ns', 'Nu', 'Nyabarongo Kegoro', 'Nyabasamba', 'Nyabibuye Islamic center', 'Nyabweta', 'Nyakaho Mwita', 'Nyakilanganyi', 'Nyamasagi', 'Nyamingu subvillage', 'Nyamongo Gold mining', 'Nyamwanji', 'Nyangere', 'Nyanza road', 'Nyeisa', 'Nyitamboka', 'O', 'O &', 'OBC', 'ODA', 'ODC', 'OIKOS', 'OLA', 'OLDONYOLENGAI', 'OLOMOLOKI', 'OLS', 'OMARY MONA', 'ONESM', 'ORIEN', 'OXFAM', 'OXFARM', 'Obadia', 'Oikos E .Africa', 'Oikos E Africa', 'Oikos E. Africa', 'Oikos E.Africa', 'Oikos E.Afrika', \"Okong'o\", 'Oldadai village community', 'Olgilai village community', 'Omar Ally', 'Omar Rafael', 'Omari Abdallah', 'Omari Mzee', 'Omary Dodo', 'Onesm', 'Ongan', 'Orien', 'Orphanage', 'Others', 'Othod', 'Othodox church', 'Overland High School', 'Ox', 'P', 'P.N.R.', 'PAD', 'PADEP', 'PANONE', 'PART', 'PATUU', 'PCI', 'PET', 'PIDP', 'PIT COOPERATION  LTD', 'PIUS CHARLES', 'PMO', 'PNR Da', 'PNR co', 'POD', 'PRF', 'PRINCE MEDIUM SCHOOL', 'PRIV', 'PRIVATE INSTITUTIONS', 'PWD', 'Padep', 'Paffec', 'Pancrasi', 'Pangaboi Health Centre', 'Pankrasi', 'Panone', 'Particular', 'Paskali', 'Pata', 'Patrick Marwa', 'Patrick Nyanzwi', 'Paul', 'Pentecost church', 'Pentecosta', 'Pentecosta Kilinga', 'Pentecostal church', 'Pentekoste', 'People P', 'People from Egypt', 'Perusi Bhoke', 'Pet  Corporation  Ltd', 'Pet Coporation Ltd', 'Pet Corporation Ltd', 'Pet corporation Ltd', 'Peter Mayiro', 'Petro Patrice', 'Phase', 'Piscop', 'Pivate person', 'Plan Int', 'Plan Internationa', 'Plan International', 'Plan Tanzania', 'Po', 'Pori la akiba kigosi', 'Pr', 'Presadom', 'Prima', 'Primo', 'Priva', 'Privat', 'Private', 'Private Technician', 'Private company', 'Private individuals', 'Private owned', 'Private person', 'Prof. Saluati', 'Pump entecostal Sweeden', 'Q-sem Ltd', 'QUICKWINS', 'QUIK', 'QUIKWIN', 'QUKWIN', 'QUWKWIN', 'QWICKWIN', 'Quick win project', 'Quick win project /Council', 'Quick win/halmashauri', 'Quik', 'Qwick Win', 'R', 'R.C', 'RC', 'RC .Church', 'RC C', 'RC CATHORIC', 'RC CH', 'RC CHURCH', 'RC CHURCH BROTHER', 'RC Ch', 'RC Churc', 'RC Church', 'RC MISSION', 'RC MISSIONARY', 'RC Mi', 'RC Mis', 'RC Msufi', 'RC Njoro', 'RC church', 'RC church/CEFA', 'RC church/Central Gover', 'RC mission', 'RC/Mission', 'RCchurch', 'RCchurch/CEFA', 'RDC', 'RDDC', 'RDWS', 'RE', 'RED CROSS', 'REDAP', 'REDEP', 'REDESO', 'REGIONAL WATER ENGINEER ARUSHA', 'REGWA', 'REGWA COMPANY OF EGPTY', 'REGWA COMPANY OF EGYPT', 'REGWA Company', 'RESOLUTE', 'RESOLUTE MINING', 'RIDEP', 'RO', 'ROMAN CATHOLIC', 'RSSP', 'RUDE', 'RUDE/D', 'RUDEP', 'RUDEP/', 'RUNDAGA', 'RURAL WATER SUPPLY', 'RUVUMA BASIN', 'RW', 'RWE', 'RWE /Community', 'RWE Community', 'RWE/ Community', 'RWE/Community', 'RWE/DWE', 'RWE/TCRS', 'RWEDWE', 'RWET/WESA', 'RWI', 'RWSP', 'RWSS', 'RWSSP', 'Rafael', 'Railway', 'Ramadhani M. Mvugalo', 'Ramadhani Nyambizi', 'Raramataki', 'Rashid Mahongwe', \"Rashid Seng'ombe\", 'Raurensia', 'Raymond Ekura', 'Rc', 'Rc Mission', 'Rc ch', 'Recoda', 'Red Cross', 'Red cross', 'Redep', 'Regina group', 'Reginald mengi', 'Region Water Department', 'Region water', 'Region water Department', 'Regional Water', 'Regional water', 'Regwa', 'Regwa Company', 'Rentobe', 'Resolute', 'Rhobi', 'Rhobi Wamburs', 'Rhoda', 'Richard M.Kyore', 'Rilayo water project', 'Rips', 'Rished', 'Robert', 'Robert Mosi', 'Robert kampala', 'Roma', 'Romam', 'Roman', 'Roman Ca', 'Roman Catholic', 'Roman Catholic Rulenge Diocese', 'Roman Cathoric -Kilomeni', 'Roman Cathoric -Same', 'Roman Cathoric Same', 'Roman Cathoric and water board', 'Roman Church', 'Roman catholic', 'Rombo Dalta', 'Rombo delta', 'Rotar', 'Rotary Club', 'Rotary Club of Chico and Moshi', 'Rotary Club of USA and Moshi', 'Rotary club', 'Rotary club Australia', 'Rotary club kitchener', 'Rotery C', 'Rotery c', 'Rotte', 'Rps', 'Ruangwa contractor', 'Ruben Hunting', 'Rudri', 'Rulenge Diocese', 'Rundu man', 'RunduMan', 'Runduman', 'Rural', 'Rural Drinking Water Suply', 'Rural Drinking Water Supply', 'Rural Drinkung Water Supply', 'Rural water Supply', 'Rusumo Game reserve', 'Ruthe', 'Ruvuma basin', 'S', 'S.P.C Pre-primary School', 'S.S.S', 'SADIKI KANGELO', 'SAFARI CAMP', 'SAIDI CO', 'SAUWASA', 'SAXON', 'SAXON  BUILDING CONTRACTOR', 'SAXON BUILDING CONTRACTOR', 'SAXON BUILDING CONTRACTORS', 'SCHOO', 'SCHOOL', 'SCOTT', 'SDA', 'SDA CHURCH', 'SDG', 'SDP', 'SELEMAN', 'SELEPTA', 'SEMA', 'SEMA CO LTD', 'SEMA Consultant', 'SEMS', 'SENAPA', 'SERENA', 'SERENS', 'SERONERA', 'SHAWASA', 'SHIP', 'SHIPO', 'SHIPO CONSTRUCTORS', 'SHULE', 'SHUWASA', 'SHY BUILDERS', 'SI', 'SIA Ltd', 'SIDA', 'SIJM', 'SIMAVI', 'SIMBA', 'SIMBA CO', 'SIMBA LODGE', 'SINGIDA  YETU', 'SINGIDA TETU', 'SINGIDA YETU', 'SIPDO', 'SMREF', 'SOLIDAME', 'SOLIDARM', 'SOLIDERM', 'SONGA', 'SONGAS', 'SOWASA', 'SPAR DRILLING', 'SSU', 'STABEX', 'STAMPERS', 'SU', 'SUA', 'SULEMAN IDD', 'SUMO', 'SUNAMCO', 'SUWASA', 'SW', 'Sa', 'Sabodo', 'Saboga Bise Makori', 'Sacso', 'Safari Roya', 'Safe Rescue Ltd', 'Sagaswe', 'Said Hashim', 'Said Omari', 'Saidi Halfani', 'Sakwidi', 'Saleh Zaharani', 'Salehe', 'Salim Aliamari', 'Salum Tambalizeni', 'Samsoni', 'Samwel', 'Samweli', 'Samweli Kitana', 'Sangea District Coun', 'Sanje Wa', 'Sao', 'Save the rain', 'Save the rain USA', 'Scholastica Pankrasi', 'Schoo', 'School', 'School Adm9nstrarion', 'School Adminstrarion', 'Secondary', 'Secondary school', 'Seff Mtambo', 'Segera Estate', 'Seif Ndago', 'Sekei village community', 'Sekondari', 'Seleman Masoud', 'Selikali', 'Selous G', 'Sema', 'Sengerema Water Department', 'Sengerema water Department', 'Sent Tho', 'Seram', 'Serengeti District concil', 'Serikali', 'Serikali ya kijiji', 'Serikari', 'Sh', 'Shallow well', 'Shamte Said', 'Shekhe', 'Shelisheli commission', 'Shingida yetu', 'Shipo', 'Shule', 'Shule ya msingi', 'Shule ya msingi ufala', 'Shule ya sekondari Ipuli', 'Sikong', 'Simango Kihengu', 'Simon Lusambi', 'Singasinga', 'Singida General  Supplies  Ltd', 'Singida yetu', 'Sinohydro', 'Sisal Estste Hale', 'Sister makulata', 'Siza Mayengo', 'Socie', 'Songa', 'Songas', 'Songea District Coun', 'Sophia Wazir', 'St', 'St Elizabeth Majengo', 'St Gasper', 'St Magreth Church', 'St ph', 'Staford Higima', 'Stephano', 'Stephano Paulo', 'Steven Nyangarika', 'Sua', 'Subvillage', 'Sumbaw', 'Summit for water/Community', 'Sumry', 'Swalehe Rajabu', 'Sweeden', 'Swiss If', 'T', 'T. N. karugendo', 'TA', 'TACKLE', 'TACRI', 'TAG', 'TAG CHURCH', \"TAG Patmo's\", 'TAHEA', 'TAIPO', 'TAN PLANT LTD', 'TANAP', 'TANAPA', 'TANAS', 'TANCAN', 'TANCRO', 'TANEDAPS Society', 'TANGA CEMENT', 'TANROAD', 'TANZAKESHO', 'TANZANIAN GOVERNMENT', 'TASA', 'TASAF', 'TASAF 1', 'TASAF and Comunity', 'TASAF and MMEM', 'TASAF/', 'TASAF/DMDD', 'TASAF/TLC', 'TASAF/Village community', 'TASAFcitizen and LGA', 'TASF', 'TASMIN', 'TASSAF', 'TASSAF /TCRS', 'TASSAF/ TCRS', 'TASSAF/TCRS', 'TAWASA', 'TBL', 'TCRS', 'TCRS /CARE', 'TCRS /DWE', 'TCRS /Government', 'TCRS /TWESA', 'TCRS Kibondo', 'TCRS TWESA', 'TCRS a', 'TCRS.TLC', 'TCRS/ TASSAF', 'TCRS/ TWESA', 'TCRS/CARE', 'TCRS/DWE', 'TCRS/TLC', 'TCRS/TWESA', 'TCRS/village community', 'TDFT', 'TEAK Com', 'TECH SUPPORT BEST CO', 'TGT', 'TGTS', 'THOMAS', 'THREE WAY GERMAN', 'TINA/Africare', 'TLC', 'TLC/Emmanuel Kasoga', 'TLC/Jenus Malecha', 'TLC/John Majala', 'TLC/Nyengesa Masanja', 'TLC/Samora', \"TLC/Seleman Mang'ombe\", 'TLC/Sorri', 'TLC/Thimotheo Masunga', 'TLC/community', 'TLTC', 'TMN', 'TMP', 'TOVE', 'TPP', 'TPP TRUSTMOSHI', 'TR', 'TRACHOMA', 'TRC', 'TREDEP', 'TRIDEP', 'TRUST', 'TSCR', 'TSRC', 'TUKWALE ENTERP', 'TUKWARE ENTERP', 'TUMAINI FUND', 'TUWASA', 'TWE', 'TWENDE PAMOJA', 'TWESA', 'TWESA /Community', 'TWESA/ Community', 'TWESA/Community', 'TWESA/JAMII', 'TWESS', 'TWIG', 'TZ as', 'Ta', 'Taasi', 'Taboma/Community', 'Tabora Municipal Council', 'Tabraki', 'Tadeo', 'Taees', 'Taes', 'Tajiri Jumbe Lila', 'Tambalizeni', 'Tanapa', 'Tanesco', 'Tanganyika Basin', 'Tanload', 'Tansi', 'Tanz', 'Tanz Egypt technical coopera', 'Tanz/Egypt technical coopera', 'Tanza', 'Tanzania', 'Tanzania Egypt Technical Co Op', 'Tanzania Government', 'Tanzania and Egypt cooperati', 'Tanzania government', 'Tanzania/ Egypt', 'Tanzanian Government', 'Taqwa drilling compny', 'Tarangire park', 'Tardo', 'Tareto', 'Tasaf', 'Tasaf and Lga', 'Tassaf', 'Te', 'Team Rafiki', 'Tempo', 'Teonas Wambura', 'Teresa Munyama', 'The Co', 'The I', 'The Isla', 'The Vickrey well', 'The desk and chair foundat', 'The desk and chair foundatio', 'Theo', 'Thomasi busigaye', 'Tober and friends from Austral', 'Tom', 'Tomas Kasmil', 'Total Landcare', 'Total land  care', 'Total land Care', 'Total land care', 'Total landcare', 'Totaland care', 'Totoland', 'Totoland care', 'Townsh', 'Tulawaka Gold Mine', 'Tumaini fund', 'U.S.A', 'UAACC', 'UBUNGO WATER DEPT', 'UDC/Sema', 'UDC/sema', 'UDEA', 'UKILIG', 'UMOJA DRILLING', 'UMOJA DRILLING CONSTRUCTION', 'UMOJA DRILLING CONTRACTOR', 'UMOJA DRILLING CONTRUCTO', 'UN', 'UN Habitat', 'UN ONE', 'UNCEF', 'UNDP', 'UNHCR', 'UNICEF', 'UNICRF', 'UNIVERSAL COMPANY', 'UNIVERSAL CONSTRUCTION', 'UPM', 'US Embassy', 'USA EMBASSY', 'USAID', 'USTAWI', 'UYOGE', 'Ubalozi wa Japani', 'Ubalozi wa Marekani', 'Ubalozi wa Marekani /DWE', 'Ubalozi wa Marekani/DWE', 'Ubung', 'Uhai wa mama na mtoto', 'Ulanga C', 'Umfaiswary', 'Ungan', 'Unicef', 'Unisef', 'Unknown', 'Unknown Installer', 'Upendo Group', 'Upendo primary School', 'Usambala sisters', 'Users', 'Uwamalu', 'V', 'VC', 'VCW', 'VE', 'VICF', 'VICFISH LTD', 'VICKFI', 'VICTORIA DRILL', 'VICTORIA DRILL CO', 'VIEN CONSTRUCTION', 'VIFAF', 'VIFAFI', 'VIFAI', 'VILLAG', 'VILLAGE', 'VILLAGE COUNCIL', 'VILLAGE COUNCIL .ODA', 'VILLAGE COUNCIL Orpha', 'VILLAGE WATER COMMISSION', 'VILLAGER', 'VILLAGERS', 'VITECOS', 'VITECOS INVEST', 'VTECOS', 'VTTP', 'VW', 'VWA', 'VWC', 'VWT', 'Vi', 'ViLLAGE COUNCIL', 'Victoria', 'Victoria DRILL', 'Victoria company', 'Vill', 'Villa', 'Villaers', 'Villag', 'Village', 'Village  Council', 'Village Community', 'Village Council', 'Village Council /RC', 'Village Counil', 'Village Government', 'Village Govt', 'Village Office', 'Village Technician', 'Village community', 'Village community members', 'Village contractor', 'Village council', 'Village government', 'Village govt', 'Village local contractor', 'Village water attendant', 'Village water committee', 'Villager', 'Villagerd', 'Villagers', 'Villages', 'Villege Council', 'Villegers', 'Villi', 'Vodacom', 'Vunjo Sekondari', 'W', 'W.B', 'W.C.S', 'W.D $', 'W.D &', 'W.D. and I.D.', 'W/', 'WA', 'WADECO', 'WAMA', 'WAMBA', 'WASHIMA', 'WATER', 'WATER  AID', 'WATER  AIDS', 'WATER AID', 'WATERAID', 'WB', 'WB / District Council', 'WBK', 'WD and ID', 'WDE', 'WDECO', 'WDP', 'WE', 'WEDECO', 'WEDECO/WESSONS', 'WEDEKO', 'WEEPERS', 'WFP', 'WILLIAMSON DIAMOND LTD', 'WINAM  CONSTRUCTION', 'WINAM CO', 'WINAM CONSTRUCTION', 'WINAMU CO', 'WINNIN SPIRIT CO', 'WINNIN SPIRIT CO LTD', 'WIZARA', 'WORDL BANK', 'WORLD BANK', 'WORLD NK', 'WORLD VISION', 'WORLD VISION & COMMUNITY', 'WOULD BANK', 'WOULD VISSION', 'WOYEGE', 'WSDP', 'WSSP', 'WU', 'WUA', 'WUS', 'WVC', 'WVT', 'WVT NAKOMBO ADP', 'WW', 'WWF', 'WWF/', 'Wa', 'Wachina', 'Wadeco', 'Wafidh', 'Waheke', 'Wahidi', 'Waingereza', 'Waitaliano', 'Wajerumani', 'Wamisionari wa Kikatoriki', 'Wamissionari wa kikatoriki', 'Wanan', 'Wananchi', 'Wanjoda', 'Warento', 'Wasso', 'Wasso companies', 'Wasso contractors', 'Water', 'Water  Aid/Maji tech', 'Water  Aid/Sema', 'Water /sema', 'Water AID', 'Water Aid', 'Water Aid /sema', 'Water Aid/DWE', 'Water Aid/Sema', 'Water Aid/sema', 'Water Authority', 'Water Board', 'Water Department', 'Water Hu', 'Water Project Mbawala chini', 'Water Solution', 'Water aid', 'Water aid /sema', 'Water aid/sema', 'Water authority', 'Water board', 'Water boards', 'Water department', 'Water hu', 'Water use Group', 'Water user Group', 'Water users Group', 'Watoto foundation', 'Wazieni Bilangali', 'Wedeco', 'William Acles', 'Wilson', 'Winkyens', 'Wizara  ya maji', 'Wizara ya maji', 'Wizra ya maji na egypt', 'Wo', 'Word', 'Word Bank', 'Word bank', 'Word divisio', 'World', 'World Bank', 'World Division', 'World Visiin', 'World Vision', 'World Vission', 'World bank', 'World banks', 'World vision', 'YEBE CHIKOMESH', 'YELL LTD', 'YUMBAKA ENGINEERING', 'Yakwetu Contractor', 'Yasini', 'Yasini Selemani', 'Yohanis Mgaya', 'Yoroko mwalongo', 'Yusuph Kapiligi', 'ZARA CAMP', 'ZINDUKA', 'Zaburi and neighbors', 'Zacharia MTN', 'Zao', 'Zao water spring', 'Zao water spring X', 'Zaveriati Chengula', 'Zingibali Secondary', 'Zuber Mihungo', 'ambwene mwaikeke', 'anglican Uganda', 'anyemike', 'brown', 'care international', 'central government', 'chacha', 'church', 'commu', 'communit', 'desk and chair foundation', 'dwe', 'germany', 'go', 'gwitembe', 'harison', 'heasawa', 'hesaw', 'hesawa', 'igwachanya Secondary', 'inkinda', 'ir', 'is', 'joery magabe', 'john skwese', 'kalitasi', 'kanisa', 'kegocha', 'kuwait', 'kw', \"lion's club\", 'local', 'local  technician', 'local fundi', 'local technical tec', 'local technician', 'local technitian', 'lusajo', 'lutheran church', 'maendeleo ya jamii', 'magige', 'maji mugumu', 'malola', 'marafip', 'mbeje', 'mchina', 'morovian church', 'mosque', 'ms', 'muniko', 'mwakalinga', 'mwakifuna', 'mwakipesile', 'mwita', 'mwita kichere', 'mzee mabena', 'nan', 'nandra Construction', 'nchagwa', 'nicodemu mkumbwa', 'not known', 'nyanokwi', 'p', 'peesona', 'peter', 'plan Int', 'plan int', 'priVATE INSTITUTIONS', 'private', 'rc ch', 'rc church', 'salamu kita', 'secondary', 'secondary school', 'sengerema Water Department', 'sengerema water Department', 'shule', 'stansilaus', 'ter', 'unknown', 'upper Ruvu', 'village council', 'villager', 'villagers', 'villigers', 'wachina', 'wanan', 'wananchi', 'wananchi technicians', 'wasab', 'water board', 'wizara ya maji', 'world', 'world banks', 'world vision']\n"
          ]
        }
      ]
    },
    {
      "cell_type": "code",
      "metadata": {
        "id": "bH0GyFTPPXT1"
      },
      "source": [
        "df['installer'].replace(to_replace=('0', 'nan', '-', None), value='other', inplace=True)"
      ],
      "execution_count": null,
      "outputs": []
    },
    {
      "cell_type": "code",
      "metadata": {
        "id": "d226L7b2PXT1"
      },
      "source": [
        "subvillage_region_code = df.groupby(['region_code'])['subvillage'].agg(pd.Series.mode)\n",
        "scheme_name_region_code = df.groupby(['region'])['scheme_name'].agg(pd.Series.mode)\n",
        "scheme_management_region_code = df.groupby(['region'])['scheme_management'].agg(pd.Series.mode)"
      ],
      "execution_count": null,
      "outputs": []
    },
    {
      "cell_type": "code",
      "metadata": {
        "id": "0dTbMZqBPXT1"
      },
      "source": [
        "def impute_mode(df,map_df,col,grouped_col):\n",
        "  df.loc[df[col].isnull(),[col]] = df[df[col].isnull()].apply(\n",
        "      lambda row: map_df.loc[row[grouped_col]][0],axis=1\n",
        "  )"
      ],
      "execution_count": null,
      "outputs": []
    },
    {
      "cell_type": "code",
      "metadata": {
        "id": "W6lMUnBYPXT2"
      },
      "source": [
        "impute_mode(df,subvillage_region_code,'subvillage','region_code')\n",
        "impute_mode(df,scheme_name_region_code,'scheme_name','region')\n",
        "impute_mode(df,scheme_management_region_code,'scheme_management','region')\n"
      ],
      "execution_count": null,
      "outputs": []
    },
    {
      "cell_type": "code",
      "metadata": {
        "colab": {
          "base_uri": "https://localhost:8080/"
        },
        "id": "Rxobxu5ettea",
        "outputId": "1dd6e5c6-dfec-4ee6-ec8a-011fec581df5"
      },
      "source": [
        "len(test)"
      ],
      "execution_count": null,
      "outputs": [
        {
          "output_type": "execute_result",
          "data": {
            "text/plain": [
              "14850"
            ]
          },
          "metadata": {},
          "execution_count": 22
        }
      ]
    },
    {
      "cell_type": "code",
      "metadata": {
        "id": "5FKowAsSPXT3"
      },
      "source": [
        "public_meeting_median = df['public_meeting'].median()\n",
        "permit_median = df['permit'].median()"
      ],
      "execution_count": null,
      "outputs": []
    },
    {
      "cell_type": "code",
      "metadata": {
        "id": "n_S9EH9XPXT3"
      },
      "source": [
        "df.loc[df['public_meeting'].isnull(), 'public_meeting'] = public_meeting_median\n",
        "df.loc[df['permit'].isnull(), 'permit'] = permit_median"
      ],
      "execution_count": null,
      "outputs": []
    },
    {
      "cell_type": "markdown",
      "metadata": {
        "id": "AmlbPtQGqRmZ"
      },
      "source": [
        "## Remove values with low freq"
      ]
    },
    {
      "cell_type": "code",
      "metadata": {
        "id": "i9Qf5dsb-CDo"
      },
      "source": [
        "def remove_less_freq_val(df,col,t):\n",
        "  cnt = df.groupby(col)[col].count()\n",
        "  other_list = cnt[cnt<t].index.tolist()\n",
        "  df[col].replace(to_replace=other_list, value='other', inplace=True)"
      ],
      "execution_count": null,
      "outputs": []
    },
    {
      "cell_type": "code",
      "metadata": {
        "id": "nfL4TYYp-CIs"
      },
      "source": [
        "remove_less_freq_val(df,\"installer\",20)\n",
        "remove_less_freq_val(df,\"funder\",20)"
      ],
      "execution_count": null,
      "outputs": []
    },
    {
      "cell_type": "markdown",
      "metadata": {
        "id": "aAK3pzRdx9Rm"
      },
      "source": [
        "#longitude and latitudes\n",
        "\n",
        "(0,0) logitude, latitude values were replaced by the median (logitude,latitude) of the respective region_code"
      ]
    },
    {
      "cell_type": "code",
      "metadata": {
        "colab": {
          "base_uri": "https://localhost:8080/",
          "height": 383
        },
        "id": "H57yXpsAPtAk",
        "outputId": "20e52a0f-1917-48b4-e2c0-3b3bd8a068ac"
      },
      "source": [
        "sns.relplot(\n",
        "    x=\"longitude\", y=\"latitude\", data=df\n",
        ");"
      ],
      "execution_count": null,
      "outputs": [
        {
          "output_type": "display_data",
          "data": {
            "image/png": "[encoded data removed]",
            "text/plain": [
              "<Figure size 360x360 with 1 Axes>"
            ]
          },
          "metadata": {
            "needs_background": "light"
          }
        }
      ]
    },
    {
      "cell_type": "code",
      "metadata": {
        "id": "s-PGb7_cPtAl"
      },
      "source": [
        "\n",
        "df_geo = df.groupby(['region_code'])[['latitude', 'longitude']].median()"
      ],
      "execution_count": null,
      "outputs": []
    },
    {
      "cell_type": "code",
      "metadata": {
        "id": "GSbJKBXpPtAl"
      },
      "source": [
        " df.loc[df['longitude'] == 0,['latitude', 'longitude']] = df[df['longitude']==0].apply(\n",
        "     lambda row: df_geo.loc[row['region_code'],['latitude', 'longitude']],axis=1\n",
        ")[['latitude', 'longitude']]"
      ],
      "execution_count": null,
      "outputs": []
    },
    {
      "cell_type": "code",
      "metadata": {
        "colab": {
          "base_uri": "https://localhost:8080/",
          "height": 383
        },
        "id": "fD7iAzrYPtAl",
        "outputId": "0a122ae9-6f7c-4365-c2aa-9ef40036f12f"
      },
      "source": [
        "sns.relplot(\n",
        "    x=\"longitude\", y=\"latitude\", data=df\n",
        ");"
      ],
      "execution_count": null,
      "outputs": [
        {
          "output_type": "display_data",
          "data": {
            "image/png": "[encoded data removed]",
            "text/plain": [
              "<Figure size 360x360 with 1 Axes>"
            ]
          },
          "metadata": {
            "needs_background": "light"
          }
        }
      ]
    },
    {
      "cell_type": "markdown",
      "metadata": {
        "id": "_tuJ7IB2jLq3"
      },
      "source": [
        "#Clustering \n",
        "\n",
        "A new feature ```Cluster``` was created by clustering longitudes and latitude based on ```population```."
      ]
    },
    {
      "cell_type": "code",
      "metadata": {
        "colab": {
          "base_uri": "https://localhost:8080/",
          "height": 232
        },
        "id": "_0DszYVTPtAl",
        "outputId": "64f80bb7-4c15-430e-c70c-946bf0aed6e0"
      },
      "source": [
        "# clusturing of long and lattitude\\\n",
        "from sklearn.cluster import KMeans\n",
        "import seaborn as sns\n",
        "\n",
        "df_l = df.loc[:, [\"population\", \"latitude\", \"longitude\"]]\n",
        "kmeans = KMeans(n_clusters=8, random_state=RANDOM_SEED)\n",
        "df_l[\"Cluster\"] = kmeans.fit_predict(df_l)\n",
        "df_l[\"Cluster\"] = df_l[\"Cluster\"].astype(\"category\")\n",
        "\n",
        "df_l.head()"
      ],
      "execution_count": null,
      "outputs": [
        {
          "output_type": "execute_result",
          "data": {
            "text/html": [
              "<div>\n",
              "<style scoped>\n",
              "    .dataframe tbody tr th:only-of-type {\n",
              "        vertical-align: middle;\n",
              "    }\n",
              "\n",
              "    .dataframe tbody tr th {\n",
              "        vertical-align: top;\n",
              "    }\n",
              "\n",
              "    .dataframe thead th {\n",
              "        text-align: right;\n",
              "    }\n",
              "</style>\n",
              "<table border=\"1\" class=\"dataframe\">\n",
              "  <thead>\n",
              "    <tr style=\"text-align: right;\">\n",
              "      <th></th>\n",
              "      <th>population</th>\n",
              "      <th>latitude</th>\n",
              "      <th>longitude</th>\n",
              "      <th>Cluster</th>\n",
              "    </tr>\n",
              "    <tr>\n",
              "      <th>id</th>\n",
              "      <th></th>\n",
              "      <th></th>\n",
              "      <th></th>\n",
              "      <th></th>\n",
              "    </tr>\n",
              "  </thead>\n",
              "  <tbody>\n",
              "    <tr>\n",
              "      <th>69572</th>\n",
              "      <td>109</td>\n",
              "      <td>-9.856322</td>\n",
              "      <td>34.938093</td>\n",
              "      <td>6</td>\n",
              "    </tr>\n",
              "    <tr>\n",
              "      <th>8776</th>\n",
              "      <td>280</td>\n",
              "      <td>-2.147466</td>\n",
              "      <td>34.698766</td>\n",
              "      <td>0</td>\n",
              "    </tr>\n",
              "    <tr>\n",
              "      <th>34310</th>\n",
              "      <td>250</td>\n",
              "      <td>-3.821329</td>\n",
              "      <td>37.460664</td>\n",
              "      <td>0</td>\n",
              "    </tr>\n",
              "    <tr>\n",
              "      <th>67743</th>\n",
              "      <td>58</td>\n",
              "      <td>-11.155298</td>\n",
              "      <td>38.486161</td>\n",
              "      <td>6</td>\n",
              "    </tr>\n",
              "    <tr>\n",
              "      <th>19728</th>\n",
              "      <td>0</td>\n",
              "      <td>-1.825359</td>\n",
              "      <td>31.130847</td>\n",
              "      <td>6</td>\n",
              "    </tr>\n",
              "  </tbody>\n",
              "</table>\n",
              "</div>"
            ],
            "text/plain": [
              "       population   latitude  longitude Cluster\n",
              "id                                             \n",
              "69572         109  -9.856322  34.938093       6\n",
              "8776          280  -2.147466  34.698766       0\n",
              "34310         250  -3.821329  37.460664       0\n",
              "67743          58 -11.155298  38.486161       6\n",
              "19728           0  -1.825359  31.130847       6"
            ]
          },
          "metadata": {},
          "execution_count": 31
        }
      ]
    },
    {
      "cell_type": "code",
      "metadata": {
        "colab": {
          "base_uri": "https://localhost:8080/",
          "height": 383
        },
        "id": "iSLHWtPiPtAl",
        "outputId": "7e17097e-ac99-456e-a6e6-1eae94b4f21f"
      },
      "source": [
        "sns.relplot(\n",
        "    x=\"longitude\", y=\"latitude\", hue=\"Cluster\", data=df_l\n",
        ");"
      ],
      "execution_count": null,
      "outputs": [
        {
          "output_type": "display_data",
          "data": {
            "image/png": "[encoded data removed]",
            "text/plain": [
              "<Figure size 403.5x360 with 1 Axes>"
            ]
          },
          "metadata": {
            "needs_background": "light"
          }
        }
      ]
    },
    {
      "cell_type": "code",
      "metadata": {
        "colab": {
          "base_uri": "https://localhost:8080/",
          "height": 454
        },
        "id": "5LIGRnLRPtAl",
        "outputId": "e1aac498-e283-4dc2-de46-44e557e0d1cc"
      },
      "source": [
        "df_l[\"population\"]  = df[\"population\"] \n",
        "sns.catplot(x=\"population\", y=\"Cluster\", data=df_l , kind=\"boxen\", height=6);"
      ],
      "execution_count": null,
      "outputs": [
        {
          "output_type": "display_data",
          "data": {
            "image/png": "[encoded data removed]",
            "text/plain": [
              "<Figure size 432x432 with 1 Axes>"
            ]
          },
          "metadata": {
            "needs_background": "light"
          }
        }
      ]
    },
    {
      "cell_type": "code",
      "metadata": {
        "id": "lvXFf9C7PtAl"
      },
      "source": [
        "df[\"Cluster\"] = df_l[\"Cluster\"].astype(\"object\")"
      ],
      "execution_count": null,
      "outputs": []
    },
    {
      "cell_type": "markdown",
      "metadata": {
        "id": "cUcUYCt5wTsu"
      },
      "source": [
        "# ```gps_height``` imputation"
      ]
    },
    {
      "cell_type": "code",
      "metadata": {
        "id": "iH89FYaSwYNc"
      },
      "source": [
        "df_gps = df.groupby(['region_code'])[['gps_height']].mean()"
      ],
      "execution_count": null,
      "outputs": []
    },
    {
      "cell_type": "code",
      "metadata": {
        "id": "A-BAET76wYNc"
      },
      "source": [
        " df.loc[df['gps_height'] == 0,['gps_height']] = df[df['gps_height']==0].apply(\n",
        "     lambda row: df_gps.loc[row['region_code'],['gps_height']],axis=1\n",
        ")[['gps_height']]"
      ],
      "execution_count": null,
      "outputs": []
    },
    {
      "cell_type": "code",
      "metadata": {
        "colab": {
          "base_uri": "https://localhost:8080/"
        },
        "id": "YoTPe3wFxLKe",
        "outputId": "858b9232-91e2-46ab-f4ea-10fe16ba5cc3"
      },
      "source": [
        "df['gps_height'].value_counts()"
      ],
      "execution_count": null,
      "outputs": [
        {
          "output_type": "execute_result",
          "data": {
            "text/plain": [
              "0.000000       11026\n",
              "46.430133       6095\n",
              "0.055954        4173\n",
              "148.226712      3340\n",
              "546.299841       579\n",
              "               ...  \n",
              "2268.000000        1\n",
              "2539.000000        1\n",
              "2278.000000        1\n",
              "2585.000000        1\n",
              "2274.000000        1\n",
              "Name: gps_height, Length: 2467, dtype: int64"
            ]
          },
          "metadata": {},
          "execution_count": 37
        }
      ]
    },
    {
      "cell_type": "markdown",
      "metadata": {
        "id": "ZJAHpd2kFoW_"
      },
      "source": [
        "# log normalize ```population```"
      ]
    },
    {
      "cell_type": "code",
      "metadata": {
        "id": "iWbWdoWaFraX"
      },
      "source": [
        "df.population = df.population.apply(lambda x: np.log10(x+1))"
      ],
      "execution_count": null,
      "outputs": []
    },
    {
      "cell_type": "markdown",
      "metadata": {
        "id": "NOXlUBTzuY-z"
      },
      "source": [
        "## Re-split data"
      ]
    },
    {
      "cell_type": "code",
      "metadata": {
        "colab": {
          "base_uri": "https://localhost:8080/"
        },
        "id": "JBTI9R3Dsxvn",
        "outputId": "b3ecf334-83d8-4f2a-884b-ac604091a6b3"
      },
      "source": [
        "test = df[len(X):]\n",
        "X = df[:len(X)]\n",
        "\n",
        "print(X.shape)\n",
        "print(test.shape)"
      ],
      "execution_count": null,
      "outputs": [
        {
          "output_type": "stream",
          "name": "stdout",
          "text": [
            "(59364, 40)\n",
            "(14850, 40)\n"
          ]
        }
      ]
    },
    {
      "cell_type": "code",
      "metadata": {
        "colab": {
          "base_uri": "https://localhost:8080/"
        },
        "id": "LBytEfhFO4u1",
        "outputId": "e0f67432-ac11-4ce1-ab57-e24ed415c162"
      },
      "source": [
        "print('\\nNull Values in Training \\n{}'.format(X.isnull().sum()))\n",
        "print('\\nNull Values in Training \\n{}'.format(test.isnull().sum()))"
      ],
      "execution_count": null,
      "outputs": [
        {
          "output_type": "stream",
          "name": "stdout",
          "text": [
            "\n",
            "Null Values in Training \n",
            "amount_tsh               0\n",
            "date_recorded            0\n",
            "funder                   0\n",
            "gps_height               0\n",
            "installer                0\n",
            "longitude                0\n",
            "latitude                 0\n",
            "wpt_name                 0\n",
            "num_private              0\n",
            "basin                    0\n",
            "subvillage               0\n",
            "region                   0\n",
            "region_code              0\n",
            "district_code            0\n",
            "lga                      0\n",
            "ward                     0\n",
            "population               0\n",
            "public_meeting           0\n",
            "recorded_by              0\n",
            "scheme_management        0\n",
            "scheme_name              0\n",
            "permit                   0\n",
            "construction_year        0\n",
            "extraction_type          0\n",
            "extraction_type_group    0\n",
            "extraction_type_class    0\n",
            "management               0\n",
            "management_group         0\n",
            "payment                  0\n",
            "payment_type             0\n",
            "water_quality            0\n",
            "quality_group            0\n",
            "quantity                 0\n",
            "quantity_group           0\n",
            "source                   0\n",
            "source_type              0\n",
            "source_class             0\n",
            "waterpoint_type          0\n",
            "waterpoint_type_group    0\n",
            "Cluster                  0\n",
            "dtype: int64\n",
            "\n",
            "Null Values in Training \n",
            "amount_tsh               0\n",
            "date_recorded            0\n",
            "funder                   0\n",
            "gps_height               0\n",
            "installer                0\n",
            "longitude                0\n",
            "latitude                 0\n",
            "wpt_name                 0\n",
            "num_private              0\n",
            "basin                    0\n",
            "subvillage               0\n",
            "region                   0\n",
            "region_code              0\n",
            "district_code            0\n",
            "lga                      0\n",
            "ward                     0\n",
            "population               0\n",
            "public_meeting           0\n",
            "recorded_by              0\n",
            "scheme_management        0\n",
            "scheme_name              0\n",
            "permit                   0\n",
            "construction_year        0\n",
            "extraction_type          0\n",
            "extraction_type_group    0\n",
            "extraction_type_class    0\n",
            "management               0\n",
            "management_group         0\n",
            "payment                  0\n",
            "payment_type             0\n",
            "water_quality            0\n",
            "quality_group            0\n",
            "quantity                 0\n",
            "quantity_group           0\n",
            "source                   0\n",
            "source_type              0\n",
            "source_class             0\n",
            "waterpoint_type          0\n",
            "waterpoint_type_group    0\n",
            "Cluster                  0\n",
            "dtype: int64\n"
          ]
        }
      ]
    },
    {
      "cell_type": "code",
      "metadata": {
        "colab": {
          "base_uri": "https://localhost:8080/"
        },
        "id": "iQ7BjyRTII8P",
        "outputId": "c7e3b72f-de87-4d11-a83b-f390ebce5e4b"
      },
      "source": [
        "test.shape"
      ],
      "execution_count": null,
      "outputs": [
        {
          "output_type": "execute_result",
          "data": {
            "text/plain": [
              "(14850, 40)"
            ]
          },
          "metadata": {},
          "execution_count": 41
        }
      ]
    },
    {
      "cell_type": "code",
      "metadata": {
        "colab": {
          "base_uri": "https://localhost:8080/"
        },
        "id": "aNt5uHYNYMzn",
        "outputId": "05c0f680-0253-44d5-a3f0-6bbe9546b01a"
      },
      "source": [
        "len(X.columns)"
      ],
      "execution_count": null,
      "outputs": [
        {
          "output_type": "execute_result",
          "data": {
            "text/plain": [
              "40"
            ]
          },
          "metadata": {},
          "execution_count": 42
        }
      ]
    },
    {
      "cell_type": "code",
      "metadata": {
        "id": "NFo3-Zv79Tkc"
      },
      "source": [
        "y = joined_train[\"status_group\"]"
      ],
      "execution_count": null,
      "outputs": []
    },
    {
      "cell_type": "code",
      "metadata": {
        "colab": {
          "base_uri": "https://localhost:8080/"
        },
        "id": "LSaceHYw9kpU",
        "outputId": "e03681fc-8a55-4bce-9949-b789503a8324"
      },
      "source": [
        "y.shape"
      ],
      "execution_count": null,
      "outputs": [
        {
          "output_type": "execute_result",
          "data": {
            "text/plain": [
              "(59364,)"
            ]
          },
          "metadata": {},
          "execution_count": 44
        }
      ]
    },
    {
      "cell_type": "code",
      "metadata": {
        "colab": {
          "base_uri": "https://localhost:8080/"
        },
        "id": "gCdyK8BFFe6Z",
        "outputId": "80e1d6ac-e474-40f7-d4d2-74949cc4b377"
      },
      "source": [
        "X.shape"
      ],
      "execution_count": null,
      "outputs": [
        {
          "output_type": "execute_result",
          "data": {
            "text/plain": [
              "(59364, 40)"
            ]
          },
          "metadata": {},
          "execution_count": 45
        }
      ]
    },
    {
      "cell_type": "code",
      "metadata": {
        "id": "9ocX-_jDwXkB"
      },
      "source": [
        "joined_processed_train = X.join(y)"
      ],
      "execution_count": null,
      "outputs": []
    },
    {
      "cell_type": "code",
      "metadata": {
        "colab": {
          "base_uri": "https://localhost:8080/",
          "height": 435
        },
        "id": "bqTwfl0BzrLI",
        "outputId": "fca93ae3-b4b9-4d74-96be-d341f6db6186"
      },
      "source": [
        "joined_processed_train.head()"
      ],
      "execution_count": null,
      "outputs": [
        {
          "output_type": "execute_result",
          "data": {
            "text/html": [
              "<div>\n",
              "<style scoped>\n",
              "    .dataframe tbody tr th:only-of-type {\n",
              "        vertical-align: middle;\n",
              "    }\n",
              "\n",
              "    .dataframe tbody tr th {\n",
              "        vertical-align: top;\n",
              "    }\n",
              "\n",
              "    .dataframe thead th {\n",
              "        text-align: right;\n",
              "    }\n",
              "</style>\n",
              "<table border=\"1\" class=\"dataframe\">\n",
              "  <thead>\n",
              "    <tr style=\"text-align: right;\">\n",
              "      <th></th>\n",
              "      <th>amount_tsh</th>\n",
              "      <th>date_recorded</th>\n",
              "      <th>funder</th>\n",
              "      <th>gps_height</th>\n",
              "      <th>installer</th>\n",
              "      <th>longitude</th>\n",
              "      <th>latitude</th>\n",
              "      <th>wpt_name</th>\n",
              "      <th>num_private</th>\n",
              "      <th>basin</th>\n",
              "      <th>subvillage</th>\n",
              "      <th>region</th>\n",
              "      <th>region_code</th>\n",
              "      <th>district_code</th>\n",
              "      <th>lga</th>\n",
              "      <th>ward</th>\n",
              "      <th>population</th>\n",
              "      <th>public_meeting</th>\n",
              "      <th>recorded_by</th>\n",
              "      <th>scheme_management</th>\n",
              "      <th>scheme_name</th>\n",
              "      <th>permit</th>\n",
              "      <th>construction_year</th>\n",
              "      <th>extraction_type</th>\n",
              "      <th>extraction_type_group</th>\n",
              "      <th>extraction_type_class</th>\n",
              "      <th>management</th>\n",
              "      <th>management_group</th>\n",
              "      <th>payment</th>\n",
              "      <th>payment_type</th>\n",
              "      <th>water_quality</th>\n",
              "      <th>quality_group</th>\n",
              "      <th>quantity</th>\n",
              "      <th>quantity_group</th>\n",
              "      <th>source</th>\n",
              "      <th>source_type</th>\n",
              "      <th>source_class</th>\n",
              "      <th>waterpoint_type</th>\n",
              "      <th>waterpoint_type_group</th>\n",
              "      <th>Cluster</th>\n",
              "      <th>status_group</th>\n",
              "    </tr>\n",
              "    <tr>\n",
              "      <th>id</th>\n",
              "      <th></th>\n",
              "      <th></th>\n",
              "      <th></th>\n",
              "      <th></th>\n",
              "      <th></th>\n",
              "      <th></th>\n",
              "      <th></th>\n",
              "      <th></th>\n",
              "      <th></th>\n",
              "      <th></th>\n",
              "      <th></th>\n",
              "      <th></th>\n",
              "      <th></th>\n",
              "      <th></th>\n",
              "      <th></th>\n",
              "      <th></th>\n",
              "      <th></th>\n",
              "      <th></th>\n",
              "      <th></th>\n",
              "      <th></th>\n",
              "      <th></th>\n",
              "      <th></th>\n",
              "      <th></th>\n",
              "      <th></th>\n",
              "      <th></th>\n",
              "      <th></th>\n",
              "      <th></th>\n",
              "      <th></th>\n",
              "      <th></th>\n",
              "      <th></th>\n",
              "      <th></th>\n",
              "      <th></th>\n",
              "      <th></th>\n",
              "      <th></th>\n",
              "      <th></th>\n",
              "      <th></th>\n",
              "      <th></th>\n",
              "      <th></th>\n",
              "      <th></th>\n",
              "      <th></th>\n",
              "      <th></th>\n",
              "    </tr>\n",
              "  </thead>\n",
              "  <tbody>\n",
              "    <tr>\n",
              "      <th>69572</th>\n",
              "      <td>6000.0</td>\n",
              "      <td>2011-03-14</td>\n",
              "      <td>Roman</td>\n",
              "      <td>1390.000000</td>\n",
              "      <td>Roman</td>\n",
              "      <td>34.938093</td>\n",
              "      <td>-9.856322</td>\n",
              "      <td>none</td>\n",
              "      <td>0</td>\n",
              "      <td>Lake Nyasa</td>\n",
              "      <td>Mnyusi B</td>\n",
              "      <td>Iringa</td>\n",
              "      <td>11</td>\n",
              "      <td>5</td>\n",
              "      <td>Ludewa</td>\n",
              "      <td>Mundindi</td>\n",
              "      <td>2.041393</td>\n",
              "      <td>True</td>\n",
              "      <td>GeoData Consultants Ltd</td>\n",
              "      <td>VWC</td>\n",
              "      <td>Roman</td>\n",
              "      <td>False</td>\n",
              "      <td>1999</td>\n",
              "      <td>gravity</td>\n",
              "      <td>gravity</td>\n",
              "      <td>gravity</td>\n",
              "      <td>vwc</td>\n",
              "      <td>user-group</td>\n",
              "      <td>pay annually</td>\n",
              "      <td>annually</td>\n",
              "      <td>soft</td>\n",
              "      <td>good</td>\n",
              "      <td>enough</td>\n",
              "      <td>enough</td>\n",
              "      <td>spring</td>\n",
              "      <td>spring</td>\n",
              "      <td>groundwater</td>\n",
              "      <td>communal standpipe</td>\n",
              "      <td>communal standpipe</td>\n",
              "      <td>6</td>\n",
              "      <td>functional</td>\n",
              "    </tr>\n",
              "    <tr>\n",
              "      <th>8776</th>\n",
              "      <td>0.0</td>\n",
              "      <td>2013-03-06</td>\n",
              "      <td>Grumeti</td>\n",
              "      <td>1399.000000</td>\n",
              "      <td>GRUMETI</td>\n",
              "      <td>34.698766</td>\n",
              "      <td>-2.147466</td>\n",
              "      <td>Zahanati</td>\n",
              "      <td>0</td>\n",
              "      <td>Lake Victoria</td>\n",
              "      <td>Nyamara</td>\n",
              "      <td>Mara</td>\n",
              "      <td>20</td>\n",
              "      <td>2</td>\n",
              "      <td>Serengeti</td>\n",
              "      <td>Natta</td>\n",
              "      <td>2.448706</td>\n",
              "      <td>1</td>\n",
              "      <td>GeoData Consultants Ltd</td>\n",
              "      <td>Other</td>\n",
              "      <td>M</td>\n",
              "      <td>True</td>\n",
              "      <td>2010</td>\n",
              "      <td>gravity</td>\n",
              "      <td>gravity</td>\n",
              "      <td>gravity</td>\n",
              "      <td>wug</td>\n",
              "      <td>user-group</td>\n",
              "      <td>never pay</td>\n",
              "      <td>never pay</td>\n",
              "      <td>soft</td>\n",
              "      <td>good</td>\n",
              "      <td>insufficient</td>\n",
              "      <td>insufficient</td>\n",
              "      <td>rainwater harvesting</td>\n",
              "      <td>rainwater harvesting</td>\n",
              "      <td>surface</td>\n",
              "      <td>communal standpipe</td>\n",
              "      <td>communal standpipe</td>\n",
              "      <td>0</td>\n",
              "      <td>functional</td>\n",
              "    </tr>\n",
              "    <tr>\n",
              "      <th>34310</th>\n",
              "      <td>25.0</td>\n",
              "      <td>2013-02-25</td>\n",
              "      <td>other</td>\n",
              "      <td>686.000000</td>\n",
              "      <td>World vision</td>\n",
              "      <td>37.460664</td>\n",
              "      <td>-3.821329</td>\n",
              "      <td>Kwa Mahundi</td>\n",
              "      <td>0</td>\n",
              "      <td>Pangani</td>\n",
              "      <td>Majengo</td>\n",
              "      <td>Manyara</td>\n",
              "      <td>21</td>\n",
              "      <td>4</td>\n",
              "      <td>Simanjiro</td>\n",
              "      <td>Ngorika</td>\n",
              "      <td>2.399674</td>\n",
              "      <td>True</td>\n",
              "      <td>GeoData Consultants Ltd</td>\n",
              "      <td>VWC</td>\n",
              "      <td>Nyumba ya mungu pipe scheme</td>\n",
              "      <td>True</td>\n",
              "      <td>2009</td>\n",
              "      <td>gravity</td>\n",
              "      <td>gravity</td>\n",
              "      <td>gravity</td>\n",
              "      <td>vwc</td>\n",
              "      <td>user-group</td>\n",
              "      <td>pay per bucket</td>\n",
              "      <td>per bucket</td>\n",
              "      <td>soft</td>\n",
              "      <td>good</td>\n",
              "      <td>enough</td>\n",
              "      <td>enough</td>\n",
              "      <td>dam</td>\n",
              "      <td>dam</td>\n",
              "      <td>surface</td>\n",
              "      <td>communal standpipe multiple</td>\n",
              "      <td>communal standpipe</td>\n",
              "      <td>0</td>\n",
              "      <td>functional</td>\n",
              "    </tr>\n",
              "    <tr>\n",
              "      <th>67743</th>\n",
              "      <td>0.0</td>\n",
              "      <td>2013-01-28</td>\n",
              "      <td>Unicef</td>\n",
              "      <td>263.000000</td>\n",
              "      <td>UNICEF</td>\n",
              "      <td>38.486161</td>\n",
              "      <td>-11.155298</td>\n",
              "      <td>Zahanati Ya Nanyumbu</td>\n",
              "      <td>0</td>\n",
              "      <td>Ruvuma / Southern Coast</td>\n",
              "      <td>Mahakamani</td>\n",
              "      <td>Mtwara</td>\n",
              "      <td>90</td>\n",
              "      <td>63</td>\n",
              "      <td>Nanyumbu</td>\n",
              "      <td>Nanyumbu</td>\n",
              "      <td>1.770852</td>\n",
              "      <td>True</td>\n",
              "      <td>GeoData Consultants Ltd</td>\n",
              "      <td>VWC</td>\n",
              "      <td>B</td>\n",
              "      <td>True</td>\n",
              "      <td>1986</td>\n",
              "      <td>submersible</td>\n",
              "      <td>submersible</td>\n",
              "      <td>submersible</td>\n",
              "      <td>vwc</td>\n",
              "      <td>user-group</td>\n",
              "      <td>never pay</td>\n",
              "      <td>never pay</td>\n",
              "      <td>soft</td>\n",
              "      <td>good</td>\n",
              "      <td>dry</td>\n",
              "      <td>dry</td>\n",
              "      <td>machine dbh</td>\n",
              "      <td>borehole</td>\n",
              "      <td>groundwater</td>\n",
              "      <td>communal standpipe multiple</td>\n",
              "      <td>communal standpipe</td>\n",
              "      <td>6</td>\n",
              "      <td>non functional</td>\n",
              "    </tr>\n",
              "    <tr>\n",
              "      <th>19728</th>\n",
              "      <td>0.0</td>\n",
              "      <td>2011-07-13</td>\n",
              "      <td>other</td>\n",
              "      <td>0.055954</td>\n",
              "      <td>Artisan</td>\n",
              "      <td>31.130847</td>\n",
              "      <td>-1.825359</td>\n",
              "      <td>Shuleni</td>\n",
              "      <td>0</td>\n",
              "      <td>Lake Victoria</td>\n",
              "      <td>Kyanyamisa</td>\n",
              "      <td>Kagera</td>\n",
              "      <td>18</td>\n",
              "      <td>1</td>\n",
              "      <td>Karagwe</td>\n",
              "      <td>Nyakasimbi</td>\n",
              "      <td>0.000000</td>\n",
              "      <td>True</td>\n",
              "      <td>GeoData Consultants Ltd</td>\n",
              "      <td>V</td>\n",
              "      <td>K</td>\n",
              "      <td>True</td>\n",
              "      <td>0</td>\n",
              "      <td>gravity</td>\n",
              "      <td>gravity</td>\n",
              "      <td>gravity</td>\n",
              "      <td>other</td>\n",
              "      <td>other</td>\n",
              "      <td>never pay</td>\n",
              "      <td>never pay</td>\n",
              "      <td>soft</td>\n",
              "      <td>good</td>\n",
              "      <td>seasonal</td>\n",
              "      <td>seasonal</td>\n",
              "      <td>rainwater harvesting</td>\n",
              "      <td>rainwater harvesting</td>\n",
              "      <td>surface</td>\n",
              "      <td>communal standpipe</td>\n",
              "      <td>communal standpipe</td>\n",
              "      <td>6</td>\n",
              "      <td>functional</td>\n",
              "    </tr>\n",
              "  </tbody>\n",
              "</table>\n",
              "</div>"
            ],
            "text/plain": [
              "       amount_tsh date_recorded  ... Cluster    status_group\n",
              "id                               ...                        \n",
              "69572      6000.0    2011-03-14  ...       6      functional\n",
              "8776          0.0    2013-03-06  ...       0      functional\n",
              "34310        25.0    2013-02-25  ...       0      functional\n",
              "67743         0.0    2013-01-28  ...       6  non functional\n",
              "19728         0.0    2011-07-13  ...       6      functional\n",
              "\n",
              "[5 rows x 41 columns]"
            ]
          },
          "metadata": {},
          "execution_count": 47
        }
      ]
    },
    {
      "cell_type": "code",
      "metadata": {
        "id": "MDDyqLmcUk39"
      },
      "source": [
        "categorical_cols = ['funder', 'installer','wpt_name', 'basin',\n",
        "       'subvillage', 'region', 'region_code', 'district_code', 'lga', 'ward',\n",
        "       'public_meeting', 'recorded_by', 'scheme_management',\n",
        "       'scheme_name', 'permit', 'extraction_type',\n",
        "       'extraction_type_group', 'extraction_type_class', 'management',\n",
        "       'management_group', 'payment', 'payment_type', 'water_quality',\n",
        "       'quality_group', 'quantity', 'quantity_group', 'source', 'source_type',\n",
        "       'source_class', 'waterpoint_type', 'waterpoint_type_group']\n",
        "\n",
        "int_cols = [\"gps_height\",\"num_private\",\"population\",\"construction_year\"]\n",
        "\n",
        "float_cols = [\"amount_tsh\",\"longitude\",\"latitude\"]\n",
        "\n",
        "cols = categorical_cols+int_cols+float_cols+[\"date_recorded\"]"
      ],
      "execution_count": null,
      "outputs": []
    },
    {
      "cell_type": "code",
      "metadata": {
        "id": "xhYJgXQ0YpPm"
      },
      "source": [
        "cat_cols = categorical_cols +[\"status_group\"]"
      ],
      "execution_count": null,
      "outputs": []
    },
    {
      "cell_type": "code",
      "metadata": {
        "id": "3L7_yih_TB5E"
      },
      "source": [
        "joined_processed_train_cat = joined_processed_train.loc[:,cat_cols]"
      ],
      "execution_count": null,
      "outputs": []
    },
    {
      "cell_type": "markdown",
      "metadata": {
        "id": "uAj2kqQ2cqDY"
      },
      "source": [
        "#Building-Up featuers\n",
        "\n",
        "```date recorded``` column was seperated into 2 featuers, ```year``` and ```month```"
      ]
    },
    {
      "cell_type": "code",
      "metadata": {
        "id": "kdK1l8Cubbze"
      },
      "source": [
        "joined_processed_train['date_recorded'] = pd.to_datetime(joined_processed_train['date_recorded'])\n",
        "joined_processed_train['year'] = joined_processed_train['date_recorded'].dt.year\n",
        "joined_processed_train['month'] = joined_processed_train['date_recorded'].dt.month\n",
        "joined_processed_train.drop(columns = 'date_recorded', inplace = True)"
      ],
      "execution_count": null,
      "outputs": []
    },
    {
      "cell_type": "code",
      "metadata": {
        "id": "aOMpglY9KfDf"
      },
      "source": [
        "test['date_recorded'] = pd.to_datetime(test['date_recorded'])\n",
        "test['year'] = test['date_recorded'].dt.year\n",
        "test['month'] = test['date_recorded'].dt.month\n",
        "test.drop(columns = 'date_recorded', inplace = True)"
      ],
      "execution_count": null,
      "outputs": []
    },
    {
      "cell_type": "code",
      "metadata": {
        "colab": {
          "base_uri": "https://localhost:8080/",
          "height": 435
        },
        "id": "1Ie3b1oM3Ccv",
        "outputId": "b4ae1b1a-a01a-4594-c0e0-9b05a522b9a0"
      },
      "source": [
        "joined_processed_train.head()"
      ],
      "execution_count": null,
      "outputs": [
        {
          "output_type": "execute_result",
          "data": {
            "text/html": [
              "<div>\n",
              "<style scoped>\n",
              "    .dataframe tbody tr th:only-of-type {\n",
              "        vertical-align: middle;\n",
              "    }\n",
              "\n",
              "    .dataframe tbody tr th {\n",
              "        vertical-align: top;\n",
              "    }\n",
              "\n",
              "    .dataframe thead th {\n",
              "        text-align: right;\n",
              "    }\n",
              "</style>\n",
              "<table border=\"1\" class=\"dataframe\">\n",
              "  <thead>\n",
              "    <tr style=\"text-align: right;\">\n",
              "      <th></th>\n",
              "      <th>amount_tsh</th>\n",
              "      <th>funder</th>\n",
              "      <th>gps_height</th>\n",
              "      <th>installer</th>\n",
              "      <th>longitude</th>\n",
              "      <th>latitude</th>\n",
              "      <th>wpt_name</th>\n",
              "      <th>num_private</th>\n",
              "      <th>basin</th>\n",
              "      <th>subvillage</th>\n",
              "      <th>region</th>\n",
              "      <th>region_code</th>\n",
              "      <th>district_code</th>\n",
              "      <th>lga</th>\n",
              "      <th>ward</th>\n",
              "      <th>population</th>\n",
              "      <th>public_meeting</th>\n",
              "      <th>recorded_by</th>\n",
              "      <th>scheme_management</th>\n",
              "      <th>scheme_name</th>\n",
              "      <th>permit</th>\n",
              "      <th>construction_year</th>\n",
              "      <th>extraction_type</th>\n",
              "      <th>extraction_type_group</th>\n",
              "      <th>extraction_type_class</th>\n",
              "      <th>management</th>\n",
              "      <th>management_group</th>\n",
              "      <th>payment</th>\n",
              "      <th>payment_type</th>\n",
              "      <th>water_quality</th>\n",
              "      <th>quality_group</th>\n",
              "      <th>quantity</th>\n",
              "      <th>quantity_group</th>\n",
              "      <th>source</th>\n",
              "      <th>source_type</th>\n",
              "      <th>source_class</th>\n",
              "      <th>waterpoint_type</th>\n",
              "      <th>waterpoint_type_group</th>\n",
              "      <th>Cluster</th>\n",
              "      <th>status_group</th>\n",
              "      <th>year</th>\n",
              "      <th>month</th>\n",
              "    </tr>\n",
              "    <tr>\n",
              "      <th>id</th>\n",
              "      <th></th>\n",
              "      <th></th>\n",
              "      <th></th>\n",
              "      <th></th>\n",
              "      <th></th>\n",
              "      <th></th>\n",
              "      <th></th>\n",
              "      <th></th>\n",
              "      <th></th>\n",
              "      <th></th>\n",
              "      <th></th>\n",
              "      <th></th>\n",
              "      <th></th>\n",
              "      <th></th>\n",
              "      <th></th>\n",
              "      <th></th>\n",
              "      <th></th>\n",
              "      <th></th>\n",
              "      <th></th>\n",
              "      <th></th>\n",
              "      <th></th>\n",
              "      <th></th>\n",
              "      <th></th>\n",
              "      <th></th>\n",
              "      <th></th>\n",
              "      <th></th>\n",
              "      <th></th>\n",
              "      <th></th>\n",
              "      <th></th>\n",
              "      <th></th>\n",
              "      <th></th>\n",
              "      <th></th>\n",
              "      <th></th>\n",
              "      <th></th>\n",
              "      <th></th>\n",
              "      <th></th>\n",
              "      <th></th>\n",
              "      <th></th>\n",
              "      <th></th>\n",
              "      <th></th>\n",
              "      <th></th>\n",
              "      <th></th>\n",
              "    </tr>\n",
              "  </thead>\n",
              "  <tbody>\n",
              "    <tr>\n",
              "      <th>69572</th>\n",
              "      <td>6000.0</td>\n",
              "      <td>Roman</td>\n",
              "      <td>1390.000000</td>\n",
              "      <td>Roman</td>\n",
              "      <td>34.938093</td>\n",
              "      <td>-9.856322</td>\n",
              "      <td>none</td>\n",
              "      <td>0</td>\n",
              "      <td>Lake Nyasa</td>\n",
              "      <td>Mnyusi B</td>\n",
              "      <td>Iringa</td>\n",
              "      <td>11</td>\n",
              "      <td>5</td>\n",
              "      <td>Ludewa</td>\n",
              "      <td>Mundindi</td>\n",
              "      <td>2.041393</td>\n",
              "      <td>True</td>\n",
              "      <td>GeoData Consultants Ltd</td>\n",
              "      <td>VWC</td>\n",
              "      <td>Roman</td>\n",
              "      <td>False</td>\n",
              "      <td>1999</td>\n",
              "      <td>gravity</td>\n",
              "      <td>gravity</td>\n",
              "      <td>gravity</td>\n",
              "      <td>vwc</td>\n",
              "      <td>user-group</td>\n",
              "      <td>pay annually</td>\n",
              "      <td>annually</td>\n",
              "      <td>soft</td>\n",
              "      <td>good</td>\n",
              "      <td>enough</td>\n",
              "      <td>enough</td>\n",
              "      <td>spring</td>\n",
              "      <td>spring</td>\n",
              "      <td>groundwater</td>\n",
              "      <td>communal standpipe</td>\n",
              "      <td>communal standpipe</td>\n",
              "      <td>6</td>\n",
              "      <td>functional</td>\n",
              "      <td>2011</td>\n",
              "      <td>3</td>\n",
              "    </tr>\n",
              "    <tr>\n",
              "      <th>8776</th>\n",
              "      <td>0.0</td>\n",
              "      <td>Grumeti</td>\n",
              "      <td>1399.000000</td>\n",
              "      <td>GRUMETI</td>\n",
              "      <td>34.698766</td>\n",
              "      <td>-2.147466</td>\n",
              "      <td>Zahanati</td>\n",
              "      <td>0</td>\n",
              "      <td>Lake Victoria</td>\n",
              "      <td>Nyamara</td>\n",
              "      <td>Mara</td>\n",
              "      <td>20</td>\n",
              "      <td>2</td>\n",
              "      <td>Serengeti</td>\n",
              "      <td>Natta</td>\n",
              "      <td>2.448706</td>\n",
              "      <td>1</td>\n",
              "      <td>GeoData Consultants Ltd</td>\n",
              "      <td>Other</td>\n",
              "      <td>M</td>\n",
              "      <td>True</td>\n",
              "      <td>2010</td>\n",
              "      <td>gravity</td>\n",
              "      <td>gravity</td>\n",
              "      <td>gravity</td>\n",
              "      <td>wug</td>\n",
              "      <td>user-group</td>\n",
              "      <td>never pay</td>\n",
              "      <td>never pay</td>\n",
              "      <td>soft</td>\n",
              "      <td>good</td>\n",
              "      <td>insufficient</td>\n",
              "      <td>insufficient</td>\n",
              "      <td>rainwater harvesting</td>\n",
              "      <td>rainwater harvesting</td>\n",
              "      <td>surface</td>\n",
              "      <td>communal standpipe</td>\n",
              "      <td>communal standpipe</td>\n",
              "      <td>0</td>\n",
              "      <td>functional</td>\n",
              "      <td>2013</td>\n",
              "      <td>3</td>\n",
              "    </tr>\n",
              "    <tr>\n",
              "      <th>34310</th>\n",
              "      <td>25.0</td>\n",
              "      <td>other</td>\n",
              "      <td>686.000000</td>\n",
              "      <td>World vision</td>\n",
              "      <td>37.460664</td>\n",
              "      <td>-3.821329</td>\n",
              "      <td>Kwa Mahundi</td>\n",
              "      <td>0</td>\n",
              "      <td>Pangani</td>\n",
              "      <td>Majengo</td>\n",
              "      <td>Manyara</td>\n",
              "      <td>21</td>\n",
              "      <td>4</td>\n",
              "      <td>Simanjiro</td>\n",
              "      <td>Ngorika</td>\n",
              "      <td>2.399674</td>\n",
              "      <td>True</td>\n",
              "      <td>GeoData Consultants Ltd</td>\n",
              "      <td>VWC</td>\n",
              "      <td>Nyumba ya mungu pipe scheme</td>\n",
              "      <td>True</td>\n",
              "      <td>2009</td>\n",
              "      <td>gravity</td>\n",
              "      <td>gravity</td>\n",
              "      <td>gravity</td>\n",
              "      <td>vwc</td>\n",
              "      <td>user-group</td>\n",
              "      <td>pay per bucket</td>\n",
              "      <td>per bucket</td>\n",
              "      <td>soft</td>\n",
              "      <td>good</td>\n",
              "      <td>enough</td>\n",
              "      <td>enough</td>\n",
              "      <td>dam</td>\n",
              "      <td>dam</td>\n",
              "      <td>surface</td>\n",
              "      <td>communal standpipe multiple</td>\n",
              "      <td>communal standpipe</td>\n",
              "      <td>0</td>\n",
              "      <td>functional</td>\n",
              "      <td>2013</td>\n",
              "      <td>2</td>\n",
              "    </tr>\n",
              "    <tr>\n",
              "      <th>67743</th>\n",
              "      <td>0.0</td>\n",
              "      <td>Unicef</td>\n",
              "      <td>263.000000</td>\n",
              "      <td>UNICEF</td>\n",
              "      <td>38.486161</td>\n",
              "      <td>-11.155298</td>\n",
              "      <td>Zahanati Ya Nanyumbu</td>\n",
              "      <td>0</td>\n",
              "      <td>Ruvuma / Southern Coast</td>\n",
              "      <td>Mahakamani</td>\n",
              "      <td>Mtwara</td>\n",
              "      <td>90</td>\n",
              "      <td>63</td>\n",
              "      <td>Nanyumbu</td>\n",
              "      <td>Nanyumbu</td>\n",
              "      <td>1.770852</td>\n",
              "      <td>True</td>\n",
              "      <td>GeoData Consultants Ltd</td>\n",
              "      <td>VWC</td>\n",
              "      <td>B</td>\n",
              "      <td>True</td>\n",
              "      <td>1986</td>\n",
              "      <td>submersible</td>\n",
              "      <td>submersible</td>\n",
              "      <td>submersible</td>\n",
              "      <td>vwc</td>\n",
              "      <td>user-group</td>\n",
              "      <td>never pay</td>\n",
              "      <td>never pay</td>\n",
              "      <td>soft</td>\n",
              "      <td>good</td>\n",
              "      <td>dry</td>\n",
              "      <td>dry</td>\n",
              "      <td>machine dbh</td>\n",
              "      <td>borehole</td>\n",
              "      <td>groundwater</td>\n",
              "      <td>communal standpipe multiple</td>\n",
              "      <td>communal standpipe</td>\n",
              "      <td>6</td>\n",
              "      <td>non functional</td>\n",
              "      <td>2013</td>\n",
              "      <td>1</td>\n",
              "    </tr>\n",
              "    <tr>\n",
              "      <th>19728</th>\n",
              "      <td>0.0</td>\n",
              "      <td>other</td>\n",
              "      <td>0.055954</td>\n",
              "      <td>Artisan</td>\n",
              "      <td>31.130847</td>\n",
              "      <td>-1.825359</td>\n",
              "      <td>Shuleni</td>\n",
              "      <td>0</td>\n",
              "      <td>Lake Victoria</td>\n",
              "      <td>Kyanyamisa</td>\n",
              "      <td>Kagera</td>\n",
              "      <td>18</td>\n",
              "      <td>1</td>\n",
              "      <td>Karagwe</td>\n",
              "      <td>Nyakasimbi</td>\n",
              "      <td>0.000000</td>\n",
              "      <td>True</td>\n",
              "      <td>GeoData Consultants Ltd</td>\n",
              "      <td>V</td>\n",
              "      <td>K</td>\n",
              "      <td>True</td>\n",
              "      <td>0</td>\n",
              "      <td>gravity</td>\n",
              "      <td>gravity</td>\n",
              "      <td>gravity</td>\n",
              "      <td>other</td>\n",
              "      <td>other</td>\n",
              "      <td>never pay</td>\n",
              "      <td>never pay</td>\n",
              "      <td>soft</td>\n",
              "      <td>good</td>\n",
              "      <td>seasonal</td>\n",
              "      <td>seasonal</td>\n",
              "      <td>rainwater harvesting</td>\n",
              "      <td>rainwater harvesting</td>\n",
              "      <td>surface</td>\n",
              "      <td>communal standpipe</td>\n",
              "      <td>communal standpipe</td>\n",
              "      <td>6</td>\n",
              "      <td>functional</td>\n",
              "      <td>2011</td>\n",
              "      <td>7</td>\n",
              "    </tr>\n",
              "  </tbody>\n",
              "</table>\n",
              "</div>"
            ],
            "text/plain": [
              "       amount_tsh   funder   gps_height  ...    status_group  year  month\n",
              "id                                       ...                             \n",
              "69572      6000.0    Roman  1390.000000  ...      functional  2011      3\n",
              "8776          0.0  Grumeti  1399.000000  ...      functional  2013      3\n",
              "34310        25.0    other   686.000000  ...      functional  2013      2\n",
              "67743         0.0   Unicef   263.000000  ...  non functional  2013      1\n",
              "19728         0.0    other     0.055954  ...      functional  2011      7\n",
              "\n",
              "[5 rows x 42 columns]"
            ]
          },
          "metadata": {},
          "execution_count": 53
        }
      ]
    },
    {
      "cell_type": "code",
      "metadata": {
        "colab": {
          "base_uri": "https://localhost:8080/"
        },
        "id": "xOnt2VvNaAwl",
        "outputId": "94a7a2cc-a254-404c-e7fe-1bafa1c5a1c6"
      },
      "source": [
        "print(joined_processed_train.shape)\n",
        "print(test.shape)"
      ],
      "execution_count": null,
      "outputs": [
        {
          "output_type": "stream",
          "name": "stdout",
          "text": [
            "(59364, 42)\n",
            "(14850, 41)\n"
          ]
        }
      ]
    },
    {
      "cell_type": "markdown",
      "metadata": {
        "id": "9srQ9NnKtTej"
      },
      "source": [
        "#Pipeline\n",
        "\n",
        "steps in the pipline:\n",
        "1. Convert all categorical columns to string\n",
        "2. OneHot encoded all the categorical columns\n",
        "3. All the numerical columns scaled using standard scalar.\n",
        "4. Trained the data using OneVsRest Classifier with XGBoostClassifier\n",
        "\n"
      ]
    },
    {
      "cell_type": "code",
      "metadata": {
        "id": "Rm_hMzU30P9S"
      },
      "source": [
        "from sklearn.preprocessing import (\n",
        "    OneHotEncoder, \n",
        "    StandardScaler, \n",
        "    FunctionTransformer)\n",
        "from sklearn.compose import ColumnTransformer\n",
        "\n",
        "from sklearn.pipeline import Pipeline\n",
        "from xgboost import XGBClassifier\n",
        "from sklearn.model_selection import cross_val_score\n",
        "from sklearn.multiclass import OneVsRestClassifier"
      ],
      "execution_count": null,
      "outputs": []
    },
    {
      "cell_type": "code",
      "metadata": {
        "colab": {
          "base_uri": "https://localhost:8080/"
        },
        "id": "TpYSswbVtzgU",
        "outputId": "a1c1ba44-ab6f-4878-bc1f-b46246bc4d99"
      },
      "source": [
        "joined_processed_train.dtypes"
      ],
      "execution_count": null,
      "outputs": [
        {
          "output_type": "execute_result",
          "data": {
            "text/plain": [
              "amount_tsh               float64\n",
              "funder                    object\n",
              "gps_height               float64\n",
              "installer                 object\n",
              "longitude                float64\n",
              "latitude                 float64\n",
              "wpt_name                  object\n",
              "num_private                int64\n",
              "basin                     object\n",
              "subvillage                object\n",
              "region                    object\n",
              "region_code                int64\n",
              "district_code              int64\n",
              "lga                       object\n",
              "ward                      object\n",
              "population               float64\n",
              "public_meeting            object\n",
              "recorded_by               object\n",
              "scheme_management         object\n",
              "scheme_name               object\n",
              "permit                    object\n",
              "construction_year          int64\n",
              "extraction_type           object\n",
              "extraction_type_group     object\n",
              "extraction_type_class     object\n",
              "management                object\n",
              "management_group          object\n",
              "payment                   object\n",
              "payment_type              object\n",
              "water_quality             object\n",
              "quality_group             object\n",
              "quantity                  object\n",
              "quantity_group            object\n",
              "source                    object\n",
              "source_type               object\n",
              "source_class              object\n",
              "waterpoint_type           object\n",
              "waterpoint_type_group     object\n",
              "Cluster                   object\n",
              "status_group              object\n",
              "year                       int64\n",
              "month                      int64\n",
              "dtype: object"
            ]
          },
          "metadata": {},
          "execution_count": 56
        }
      ]
    },
    {
      "cell_type": "code",
      "metadata": {
        "id": "-15_q6WhwtA1"
      },
      "source": [
        "num_cols = int_cols+float_cols+['year','month']\n",
        "cat_cols_selected = list(set(joined_processed_train.columns)-set(num_cols)-set(['status_group']))"
      ],
      "execution_count": null,
      "outputs": []
    },
    {
      "cell_type": "code",
      "metadata": {
        "colab": {
          "base_uri": "https://localhost:8080/"
        },
        "id": "1nSkvUeiw_zT",
        "outputId": "db2e93a3-f9be-4506-e39b-fed3ecf02c38"
      },
      "source": [
        "l1 = list(set(joined_processed_train.columns)-set(['status_group'])).sort()\n",
        "l2 = list(set(cat_cols_selected+num_cols)).sort()\n",
        "l1 == l2"
      ],
      "execution_count": null,
      "outputs": [
        {
          "output_type": "execute_result",
          "data": {
            "text/plain": [
              "True"
            ]
          },
          "metadata": {},
          "execution_count": 58
        }
      ]
    },
    {
      "cell_type": "code",
      "metadata": {
        "colab": {
          "base_uri": "https://localhost:8080/"
        },
        "id": "nmTHjFPgxOeL",
        "outputId": "24e813ad-a5b5-47d5-8867-0e173fc00fb4"
      },
      "source": [
        "len(cat_cols_selected)+len(num_cols), joined_processed_train.shape"
      ],
      "execution_count": null,
      "outputs": [
        {
          "output_type": "execute_result",
          "data": {
            "text/plain": [
              "(41, (59364, 42))"
            ]
          },
          "metadata": {},
          "execution_count": 59
        }
      ]
    },
    {
      "cell_type": "code",
      "metadata": {
        "id": "qRTstF_nu0LC"
      },
      "source": [
        "def convert_categorical_to_string(data):\n",
        "    return pd.DataFrame(data).astype(str)\n",
        "\n",
        "CategoricalTypeConverter = FunctionTransformer(\n",
        "    convert_categorical_to_string\n",
        ")"
      ],
      "execution_count": null,
      "outputs": []
    },
    {
      "cell_type": "code",
      "metadata": {
        "id": "kA0V3se0tXHz"
      },
      "source": [
        "categorical_pipeline = Pipeline(\n",
        "    steps=[\n",
        "        (\n",
        "            'typeConverter', \n",
        "            CategoricalTypeConverter\n",
        "        ),\n",
        "        (\n",
        "            'standardizer', \n",
        "            OneHotEncoder(\n",
        "                handle_unknown='ignore',\n",
        "                dtype=float\n",
        "            )\n",
        "        )\n",
        "    ]\n",
        ")"
      ],
      "execution_count": null,
      "outputs": []
    },
    {
      "cell_type": "code",
      "metadata": {
        "id": "gVV2fXlItXKo"
      },
      "source": [
        "numerical_pipeline = Pipeline(\n",
        "    steps=[\n",
        "        (\n",
        "            'standardizer', \n",
        "            StandardScaler()\n",
        "        )\n",
        "    ]\n",
        ")"
      ],
      "execution_count": null,
      "outputs": []
    },
    {
      "cell_type": "code",
      "metadata": {
        "id": "cTxKZeowtXNP"
      },
      "source": [
        " preprocessor = ColumnTransformer(\n",
        "        transformers=[\n",
        "            (\n",
        "                'numericalPreprocessor', \n",
        "                numerical_pipeline, \n",
        "                num_cols\n",
        "            ),\n",
        "            (\n",
        "                'categoricalPreprocessor', \n",
        "                categorical_pipeline, \n",
        "                cat_cols_selected\n",
        "            )\n",
        "        ]\n",
        "    )"
      ],
      "execution_count": null,
      "outputs": []
    },
    {
      "cell_type": "code",
      "metadata": {
        "id": "hC5Pb9bLtXQq"
      },
      "source": [
        "pipeline = Pipeline(\n",
        "    steps=[\n",
        "        (\n",
        "            'preprocessor', \n",
        "            preprocessor\n",
        "        ),\n",
        "        (\n",
        "            'classifier', \n",
        "            OneVsRestClassifier(\n",
        "                estimator=XGBClassifier(max_depth = 20, n_estimators =  250)\n",
        "            )\n",
        "        )\n",
        "    ]\n",
        ")"
      ],
      "execution_count": null,
      "outputs": []
    },
    {
      "cell_type": "code",
      "metadata": {
        "id": "6Hb7Bp9A1TXB"
      },
      "source": [
        "X_selected = joined_processed_train.drop(columns=[\"status_group\"])"
      ],
      "execution_count": null,
      "outputs": []
    },
    {
      "cell_type": "code",
      "metadata": {
        "id": "Tx4lnS5C0OdY"
      },
      "source": [
        "from sklearn.model_selection import train_test_split\n",
        "\n",
        "X_train, X_test, y_train, y_test = train_test_split(X_selected, y, random_state = RANDOM_SEED, test_size=0.1,  stratify=y)"
      ],
      "execution_count": null,
      "outputs": []
    },
    {
      "cell_type": "code",
      "metadata": {
        "colab": {
          "base_uri": "https://localhost:8080/"
        },
        "id": "vwhzbpVM0HJH",
        "outputId": "e8161bcd-c6c3-4d00-bb85-847b1cb17a80"
      },
      "source": [
        "pipeline.fit(\n",
        "    X_train, \n",
        "    y_train\n",
        ")"
      ],
      "execution_count": null,
      "outputs": [
        {
          "output_type": "execute_result",
          "data": {
            "text/plain": [
              "Pipeline(memory=None,\n",
              "         steps=[('preprocessor',\n",
              "                 ColumnTransformer(n_jobs=None, remainder='drop',\n",
              "                                   sparse_threshold=0.3,\n",
              "                                   transformer_weights=None,\n",
              "                                   transformers=[('numericalPreprocessor',\n",
              "                                                  Pipeline(memory=None,\n",
              "                                                           steps=[('standardizer',\n",
              "                                                                   StandardScaler(copy=True,\n",
              "                                                                                  with_mean=True,\n",
              "                                                                                  with_std=True))],\n",
              "                                                           verbose=False),\n",
              "                                                  ['gps_height', 'num_private',\n",
              "                                                   'population',\n",
              "                                                   'construction_yea...\n",
              "                                                             booster='gbtree',\n",
              "                                                             colsample_bylevel=1,\n",
              "                                                             colsample_bynode=1,\n",
              "                                                             colsample_bytree=1,\n",
              "                                                             gamma=0,\n",
              "                                                             learning_rate=0.1,\n",
              "                                                             max_delta_step=0,\n",
              "                                                             max_depth=20,\n",
              "                                                             min_child_weight=1,\n",
              "                                                             missing=None,\n",
              "                                                             n_estimators=250,\n",
              "                                                             n_jobs=1,\n",
              "                                                             nthread=None,\n",
              "                                                             objective='binary:logistic',\n",
              "                                                             random_state=0,\n",
              "                                                             reg_alpha=0,\n",
              "                                                             reg_lambda=1,\n",
              "                                                             scale_pos_weight=1,\n",
              "                                                             seed=None,\n",
              "                                                             silent=None,\n",
              "                                                             subsample=1,\n",
              "                                                             verbosity=1),\n",
              "                                     n_jobs=None))],\n",
              "         verbose=False)"
            ]
          },
          "metadata": {},
          "execution_count": 67
        }
      ]
    },
    {
      "cell_type": "code",
      "metadata": {
        "id": "87IpRwM2wZCU"
      },
      "source": [
        "pred = pipeline.predict(X_test)"
      ],
      "execution_count": null,
      "outputs": []
    },
    {
      "cell_type": "code",
      "metadata": {
        "colab": {
          "base_uri": "https://localhost:8080/"
        },
        "id": "X9vojdAB8Qm2",
        "outputId": "6af369d8-bc90-4da8-994f-d1370359a7e0"
      },
      "source": [
        "from sklearn import metrics\n",
        "\n",
        "print(\"Accuracy: {}\".format(metrics.accuracy_score(y_test, pred)))"
      ],
      "execution_count": null,
      "outputs": [
        {
          "output_type": "stream",
          "name": "stdout",
          "text": [
            "Accuracy: 0.8209533434394475\n"
          ]
        }
      ]
    },
    {
      "cell_type": "code",
      "metadata": {
        "colab": {
          "base_uri": "https://localhost:8080/"
        },
        "id": "rs6EJcPAUG6w",
        "outputId": "c78491a5-8259-46cc-e1b0-bb4556635ca1"
      },
      "source": [
        "from sklearn.metrics import classification_report\n",
        "from sklearn.metrics import confusion_matrix\n",
        "from sklearn import metrics\n",
        "\n",
        "print(\"   Accuracy: {}\".format(metrics.accuracy_score(y_test, pred)))\n",
        "\n",
        "print(classification_report(y_test,pred))"
      ],
      "execution_count": null,
      "outputs": [
        {
          "output_type": "stream",
          "name": "stdout",
          "text": [
            "   Accuracy: 0.8209533434394475\n",
            "                         precision    recall  f1-score   support\n",
            "\n",
            "             functional       0.81      0.92      0.86      3224\n",
            "functional needs repair       0.61      0.31      0.41       431\n",
            "         non functional       0.86      0.78      0.82      2282\n",
            "\n",
            "               accuracy                           0.82      5937\n",
            "              macro avg       0.76      0.67      0.70      5937\n",
            "           weighted avg       0.82      0.82      0.81      5937\n",
            "\n"
          ]
        }
      ]
    },
    {
      "cell_type": "code",
      "metadata": {
        "colab": {
          "base_uri": "https://localhost:8080/"
        },
        "id": "SUW54-eC1c58",
        "outputId": "342d4475-2220-422e-ac82-5f3cabe985a3"
      },
      "source": [
        "pipeline.fit(X_selected,y)"
      ],
      "execution_count": null,
      "outputs": [
        {
          "output_type": "execute_result",
          "data": {
            "text/plain": [
              "Pipeline(memory=None,\n",
              "         steps=[('preprocessor',\n",
              "                 ColumnTransformer(n_jobs=None, remainder='drop',\n",
              "                                   sparse_threshold=0.3,\n",
              "                                   transformer_weights=None,\n",
              "                                   transformers=[('numericalPreprocessor',\n",
              "                                                  Pipeline(memory=None,\n",
              "                                                           steps=[('standardizer',\n",
              "                                                                   StandardScaler(copy=True,\n",
              "                                                                                  with_mean=True,\n",
              "                                                                                  with_std=True))],\n",
              "                                                           verbose=False),\n",
              "                                                  ['gps_height', 'num_private',\n",
              "                                                   'population',\n",
              "                                                   'construction_yea...\n",
              "                                                             booster='gbtree',\n",
              "                                                             colsample_bylevel=1,\n",
              "                                                             colsample_bynode=1,\n",
              "                                                             colsample_bytree=1,\n",
              "                                                             gamma=0,\n",
              "                                                             learning_rate=0.1,\n",
              "                                                             max_delta_step=0,\n",
              "                                                             max_depth=20,\n",
              "                                                             min_child_weight=1,\n",
              "                                                             missing=None,\n",
              "                                                             n_estimators=250,\n",
              "                                                             n_jobs=1,\n",
              "                                                             nthread=None,\n",
              "                                                             objective='binary:logistic',\n",
              "                                                             random_state=0,\n",
              "                                                             reg_alpha=0,\n",
              "                                                             reg_lambda=1,\n",
              "                                                             scale_pos_weight=1,\n",
              "                                                             seed=None,\n",
              "                                                             silent=None,\n",
              "                                                             subsample=1,\n",
              "                                                             verbosity=1),\n",
              "                                     n_jobs=None))],\n",
              "         verbose=False)"
            ]
          },
          "metadata": {},
          "execution_count": 70
        }
      ]
    },
    {
      "cell_type": "markdown",
      "metadata": {
        "id": "o0-dFj870fNO"
      },
      "source": [
        "#Create submission file"
      ]
    },
    {
      "cell_type": "code",
      "metadata": {
        "id": "Rakbm3XZ1c9i"
      },
      "source": [
        "X_validate = test\n",
        "y_validate = pipeline.predict(\n",
        "    X_validate\n",
        ")\n",
        "df_predictions = pd.DataFrame(\n",
        "    y_validate, \n",
        "    index=X_validate.index, \n",
        "    columns=['status_group']\n",
        ")\n"
      ],
      "execution_count": null,
      "outputs": []
    },
    {
      "cell_type": "code",
      "metadata": {
        "colab": {
          "base_uri": "https://localhost:8080/",
          "height": 385
        },
        "id": "O9F7N7PYXCOp",
        "outputId": "675c8def-f3c6-478b-e083-db92ae7b7ca1"
      },
      "source": [
        "df_predictions.head(10)"
      ],
      "execution_count": null,
      "outputs": [
        {
          "output_type": "execute_result",
          "data": {
            "text/html": [
              "<div>\n",
              "<style scoped>\n",
              "    .dataframe tbody tr th:only-of-type {\n",
              "        vertical-align: middle;\n",
              "    }\n",
              "\n",
              "    .dataframe tbody tr th {\n",
              "        vertical-align: top;\n",
              "    }\n",
              "\n",
              "    .dataframe thead th {\n",
              "        text-align: right;\n",
              "    }\n",
              "</style>\n",
              "<table border=\"1\" class=\"dataframe\">\n",
              "  <thead>\n",
              "    <tr style=\"text-align: right;\">\n",
              "      <th></th>\n",
              "      <th>status_group</th>\n",
              "    </tr>\n",
              "    <tr>\n",
              "      <th>id</th>\n",
              "      <th></th>\n",
              "    </tr>\n",
              "  </thead>\n",
              "  <tbody>\n",
              "    <tr>\n",
              "      <th>50785</th>\n",
              "      <td>functional</td>\n",
              "    </tr>\n",
              "    <tr>\n",
              "      <th>51630</th>\n",
              "      <td>functional</td>\n",
              "    </tr>\n",
              "    <tr>\n",
              "      <th>17168</th>\n",
              "      <td>functional</td>\n",
              "    </tr>\n",
              "    <tr>\n",
              "      <th>45559</th>\n",
              "      <td>non functional</td>\n",
              "    </tr>\n",
              "    <tr>\n",
              "      <th>49871</th>\n",
              "      <td>functional</td>\n",
              "    </tr>\n",
              "    <tr>\n",
              "      <th>52449</th>\n",
              "      <td>functional</td>\n",
              "    </tr>\n",
              "    <tr>\n",
              "      <th>24806</th>\n",
              "      <td>non functional</td>\n",
              "    </tr>\n",
              "    <tr>\n",
              "      <th>28965</th>\n",
              "      <td>non functional</td>\n",
              "    </tr>\n",
              "    <tr>\n",
              "      <th>36301</th>\n",
              "      <td>non functional</td>\n",
              "    </tr>\n",
              "    <tr>\n",
              "      <th>54122</th>\n",
              "      <td>functional</td>\n",
              "    </tr>\n",
              "  </tbody>\n",
              "</table>\n",
              "</div>"
            ],
            "text/plain": [
              "         status_group\n",
              "id                   \n",
              "50785      functional\n",
              "51630      functional\n",
              "17168      functional\n",
              "45559  non functional\n",
              "49871      functional\n",
              "52449      functional\n",
              "24806  non functional\n",
              "28965  non functional\n",
              "36301  non functional\n",
              "54122      functional"
            ]
          },
          "metadata": {},
          "execution_count": 74
        }
      ]
    },
    {
      "cell_type": "code",
      "metadata": {
        "id": "BvpBEiHzXYHB"
      },
      "source": [
        "df_predictions.to_csv(\n",
        "    '/content/drive/MyDrive/ML/archive/data/submissions/submission10.csv'\n",
        ")"
      ],
      "execution_count": null,
      "outputs": []
    },
    {
      "cell_type": "code",
      "metadata": {
        "id": "fbRe_MajXb2q"
      },
      "source": [
        ""
      ],
      "execution_count": null,
      "outputs": []
    }
  ]
}